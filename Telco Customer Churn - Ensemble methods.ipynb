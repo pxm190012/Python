{
 "cells": [
  {
   "cell_type": "markdown",
   "metadata": {},
   "source": [
    "# Classification - Telco Customer Churn"
   ]
  },
  {
   "cell_type": "markdown",
   "metadata": {},
   "source": [
    "### <font color='red'> Project 2"
   ]
  },
  {
   "cell_type": "markdown",
   "metadata": {},
   "source": [
    "### Classification Task:\n",
    "- Apply two voting classifiers - one with hard voting and one with soft voting.\n",
    "- Apply any two models with bagging and any two models with pasting.\n",
    "- Apply any two models with AdaBoost boosting.\n",
    "- Apply one model with gradient boosting.\n",
    "- Apply PCA on data and then apply all the models in project 1 again on data you get from PCA. Compare your results with results in project 1. You don't need to apply all the models twice. Just copy the result table from project 1, prepare a similar table for all the models after PCA and compare both tables. Does PCA help in getting better results?\n",
    "- Apply deep learning models covered in class.\n",
    "- In all the classification tasks, consider the evaluation function you used in Project 1."
   ]
  },
  {
   "cell_type": "markdown",
   "metadata": {},
   "source": [
    "## Introduction"
   ]
  },
  {
   "cell_type": "markdown",
   "metadata": {},
   "source": [
    "#### Churn Rate"
   ]
  },
  {
   "cell_type": "markdown",
   "metadata": {},
   "source": [
    "The churn rate, also known as the rate of attrition or customer churn, is the rate at which customers stop doing business with an entity. It is most commonly expressed as the percentage of service subscribers who discontinue their subscriptions within a given time period."
   ]
  },
  {
   "cell_type": "markdown",
   "metadata": {},
   "source": [
    "## Context"
   ]
  },
  {
   "cell_type": "markdown",
   "metadata": {},
   "source": [
    "\"Predict behavior to retain customers. Our goal is to analyze all relevant customer data and develop focused customer retention programs.\""
   ]
  },
  {
   "cell_type": "markdown",
   "metadata": {},
   "source": [
    "The data set includes information about:\n",
    "\n",
    "Customers who left within the last month – the column is called Churn\n",
    "\n",
    "Services that each customer has signed up for – phone, multiple lines, internet, online security, online backup, device protection, tech support, and streaming TV and movies\n",
    "\n",
    "Customer account information – how long they’ve been a customer, contract, payment method, paperless billing, monthly charges, and total charges.\n",
    "\n",
    "Demographic info about customers – gender, age range, and if they have partners and dependents"
   ]
  },
  {
   "cell_type": "markdown",
   "metadata": {},
   "source": [
    "## Data Description"
   ]
  },
  {
   "cell_type": "markdown",
   "metadata": {},
   "source": [
    "customerID - Customer ID uniquly identifying record of a customer\n",
    "\n",
    "gender - Customer gender (female, male)\n",
    "\n",
    "SeniorCitizen - Whether the customer is a senior citizen or not (1, 0)\n",
    "\n",
    "Partner - Whether the customer has a partner or not (Yes, No)\n",
    "\n",
    "Dependents - Whether the customer has dependents or not (Yes, No)\n",
    "\n",
    "tenure - Number of months the customer has stayed with the company\n",
    "\n",
    "PhoneService - Whether the customer has a phone service or not (Yes, No)\n",
    "\n",
    "MultipleLines - Whether the customer has multiple lines or not (Yes, No, No phone service)\n",
    "\n",
    "InternetService - Customer’s internet service provider (DSL, Fiber optic, No)\n",
    "\n",
    "OnlineSecurity - Whether the customer has online security or not (Yes, No, No internet service)\n",
    "\n",
    "OnlineBackup - Whether the customer has online backup or not (Yes, No, No internet service)\n",
    "\n",
    "DeviceProtection - Whether the customer has device protection or not (Yes, No, No internet service)\n",
    "\n",
    "TechSupport - Whether the customer has tech support or not (Yes, No, No internet service)\n",
    "\n",
    "StreamingTV - Whether the customer has streaming TV or not (Yes, No, No internet service)\n",
    "\n",
    "StreamingMovies - Whether the customer has streaming movies or not (Yes, No, No internet service)\n",
    "\n",
    "Contract -The contract term of the customer (Month-to-month, One year, Two year)\n",
    "\n",
    "PaperlessBilling - Whether the customer has paperless billing or not (Yes, No)\n",
    "\n",
    "PaymentMethod - The customer’s payment method (Electronic check, Mailed check, Bank transfer (automatic), Credit card (automatic))\n",
    "\n",
    "MonthlyCharges - The amount charged to the customer monthly\n",
    "\n",
    "TotalCharges - The total amount charged to the customer\n",
    "\n",
    "Churn -Whether the customer churned or not (Yes or No)"
   ]
  },
  {
   "cell_type": "markdown",
   "metadata": {},
   "source": [
    "## Data Source"
   ]
  },
  {
   "cell_type": "markdown",
   "metadata": {},
   "source": [
    "Telco Customer Churn - Focused customer retention programs\n",
    "\n",
    "Data Source: Kaggle.com\n",
    "https://www.kaggle.com/blastchar/telco-customer-churn"
   ]
  },
  {
   "cell_type": "markdown",
   "metadata": {},
   "source": [
    "## Importing Libraries and Data"
   ]
  },
  {
   "cell_type": "code",
   "execution_count": 2,
   "metadata": {},
   "outputs": [],
   "source": [
    "import numpy as np\n",
    "import pandas as pd\n",
    "import matplotlib.pyplot as plt\n",
    "import seaborn as sns\n"
   ]
  },
  {
   "cell_type": "markdown",
   "metadata": {},
   "source": [
    "### Import Data"
   ]
  },
  {
   "cell_type": "code",
   "execution_count": 3,
   "metadata": {},
   "outputs": [],
   "source": [
    "df = pd.read_excel('C:/Users/PURUSHOTHAMAN MURVAS/Downloads/AML/Project/Project 2/WA_Fn-UseC_-Telco-Customer-Churn-Dataset.xlsx')"
   ]
  },
  {
   "cell_type": "code",
   "execution_count": 4,
   "metadata": {},
   "outputs": [
    {
     "name": "stdout",
     "output_type": "stream",
     "text": [
      "<class 'pandas.core.frame.DataFrame'>\n",
      "RangeIndex: 7043 entries, 0 to 7042\n",
      "Data columns (total 21 columns):\n",
      "customerID          7043 non-null object\n",
      "gender              5605 non-null object\n",
      "SeniorCitizen       5630 non-null float64\n",
      "Partner             5570 non-null object\n",
      "Dependents          7043 non-null object\n",
      "tenure              5740 non-null float64\n",
      "PhoneService        7043 non-null object\n",
      "MultipleLines       7043 non-null object\n",
      "InternetService     5635 non-null object\n",
      "OnlineSecurity      7043 non-null object\n",
      "OnlineBackup        7043 non-null object\n",
      "DeviceProtection    7043 non-null object\n",
      "TechSupport         7043 non-null object\n",
      "StreamingTV         7043 non-null object\n",
      "StreamingMovies     7043 non-null object\n",
      "Contract            7043 non-null object\n",
      "PaperlessBilling    7043 non-null object\n",
      "PaymentMethod       5592 non-null object\n",
      "MonthlyCharges      7043 non-null float64\n",
      "TotalCharges        7043 non-null object\n",
      "Churn               7043 non-null object\n",
      "dtypes: float64(3), object(18)\n",
      "memory usage: 1.1+ MB\n"
     ]
    }
   ],
   "source": [
    "df.info()"
   ]
  },
  {
   "cell_type": "code",
   "execution_count": 5,
   "metadata": {},
   "outputs": [
    {
     "data": {
      "text/html": [
       "<div>\n",
       "<style scoped>\n",
       "    .dataframe tbody tr th:only-of-type {\n",
       "        vertical-align: middle;\n",
       "    }\n",
       "\n",
       "    .dataframe tbody tr th {\n",
       "        vertical-align: top;\n",
       "    }\n",
       "\n",
       "    .dataframe thead th {\n",
       "        text-align: right;\n",
       "    }\n",
       "</style>\n",
       "<table border=\"1\" class=\"dataframe\">\n",
       "  <thead>\n",
       "    <tr style=\"text-align: right;\">\n",
       "      <th></th>\n",
       "      <th>customerID</th>\n",
       "      <th>gender</th>\n",
       "      <th>SeniorCitizen</th>\n",
       "      <th>Partner</th>\n",
       "      <th>Dependents</th>\n",
       "      <th>tenure</th>\n",
       "      <th>PhoneService</th>\n",
       "      <th>MultipleLines</th>\n",
       "      <th>InternetService</th>\n",
       "      <th>OnlineSecurity</th>\n",
       "      <th>...</th>\n",
       "      <th>DeviceProtection</th>\n",
       "      <th>TechSupport</th>\n",
       "      <th>StreamingTV</th>\n",
       "      <th>StreamingMovies</th>\n",
       "      <th>Contract</th>\n",
       "      <th>PaperlessBilling</th>\n",
       "      <th>PaymentMethod</th>\n",
       "      <th>MonthlyCharges</th>\n",
       "      <th>TotalCharges</th>\n",
       "      <th>Churn</th>\n",
       "    </tr>\n",
       "  </thead>\n",
       "  <tbody>\n",
       "    <tr>\n",
       "      <th>0</th>\n",
       "      <td>7590-VHVEG</td>\n",
       "      <td>Female</td>\n",
       "      <td>0.0</td>\n",
       "      <td>NaN</td>\n",
       "      <td>No</td>\n",
       "      <td>1.0</td>\n",
       "      <td>No</td>\n",
       "      <td>No phone service</td>\n",
       "      <td>DSL</td>\n",
       "      <td>No</td>\n",
       "      <td>...</td>\n",
       "      <td>No</td>\n",
       "      <td>No</td>\n",
       "      <td>No</td>\n",
       "      <td>No</td>\n",
       "      <td>Month-to-month</td>\n",
       "      <td>Yes</td>\n",
       "      <td>Electronic check</td>\n",
       "      <td>29.85</td>\n",
       "      <td>29.85</td>\n",
       "      <td>No</td>\n",
       "    </tr>\n",
       "    <tr>\n",
       "      <th>1</th>\n",
       "      <td>5575-GNVDE</td>\n",
       "      <td>Male</td>\n",
       "      <td>0.0</td>\n",
       "      <td>No</td>\n",
       "      <td>No</td>\n",
       "      <td>34.0</td>\n",
       "      <td>Yes</td>\n",
       "      <td>No</td>\n",
       "      <td>NaN</td>\n",
       "      <td>Yes</td>\n",
       "      <td>...</td>\n",
       "      <td>Yes</td>\n",
       "      <td>No</td>\n",
       "      <td>No</td>\n",
       "      <td>No</td>\n",
       "      <td>One year</td>\n",
       "      <td>No</td>\n",
       "      <td>Mailed check</td>\n",
       "      <td>56.95</td>\n",
       "      <td>1889.5</td>\n",
       "      <td>No</td>\n",
       "    </tr>\n",
       "    <tr>\n",
       "      <th>2</th>\n",
       "      <td>3668-QPYBK</td>\n",
       "      <td>Male</td>\n",
       "      <td>0.0</td>\n",
       "      <td>No</td>\n",
       "      <td>No</td>\n",
       "      <td>2.0</td>\n",
       "      <td>Yes</td>\n",
       "      <td>No</td>\n",
       "      <td>DSL</td>\n",
       "      <td>Yes</td>\n",
       "      <td>...</td>\n",
       "      <td>No</td>\n",
       "      <td>No</td>\n",
       "      <td>No</td>\n",
       "      <td>No</td>\n",
       "      <td>Month-to-month</td>\n",
       "      <td>Yes</td>\n",
       "      <td>Mailed check</td>\n",
       "      <td>53.85</td>\n",
       "      <td>108.15</td>\n",
       "      <td>Yes</td>\n",
       "    </tr>\n",
       "    <tr>\n",
       "      <th>3</th>\n",
       "      <td>7795-CFOCW</td>\n",
       "      <td>NaN</td>\n",
       "      <td>0.0</td>\n",
       "      <td>NaN</td>\n",
       "      <td>No</td>\n",
       "      <td>NaN</td>\n",
       "      <td>No</td>\n",
       "      <td>No phone service</td>\n",
       "      <td>NaN</td>\n",
       "      <td>Yes</td>\n",
       "      <td>...</td>\n",
       "      <td>Yes</td>\n",
       "      <td>Yes</td>\n",
       "      <td>No</td>\n",
       "      <td>No</td>\n",
       "      <td>One year</td>\n",
       "      <td>No</td>\n",
       "      <td>Bank transfer (automatic)</td>\n",
       "      <td>42.30</td>\n",
       "      <td>1840.75</td>\n",
       "      <td>No</td>\n",
       "    </tr>\n",
       "    <tr>\n",
       "      <th>4</th>\n",
       "      <td>9237-HQITU</td>\n",
       "      <td>Female</td>\n",
       "      <td>0.0</td>\n",
       "      <td>No</td>\n",
       "      <td>No</td>\n",
       "      <td>NaN</td>\n",
       "      <td>Yes</td>\n",
       "      <td>No</td>\n",
       "      <td>Fiber optic</td>\n",
       "      <td>No</td>\n",
       "      <td>...</td>\n",
       "      <td>No</td>\n",
       "      <td>No</td>\n",
       "      <td>No</td>\n",
       "      <td>No</td>\n",
       "      <td>Month-to-month</td>\n",
       "      <td>Yes</td>\n",
       "      <td>NaN</td>\n",
       "      <td>70.70</td>\n",
       "      <td>151.65</td>\n",
       "      <td>Yes</td>\n",
       "    </tr>\n",
       "  </tbody>\n",
       "</table>\n",
       "<p>5 rows × 21 columns</p>\n",
       "</div>"
      ],
      "text/plain": [
       "   customerID  gender  SeniorCitizen Partner Dependents  tenure PhoneService  \\\n",
       "0  7590-VHVEG  Female            0.0     NaN         No     1.0           No   \n",
       "1  5575-GNVDE    Male            0.0      No         No    34.0          Yes   \n",
       "2  3668-QPYBK    Male            0.0      No         No     2.0          Yes   \n",
       "3  7795-CFOCW     NaN            0.0     NaN         No     NaN           No   \n",
       "4  9237-HQITU  Female            0.0      No         No     NaN          Yes   \n",
       "\n",
       "      MultipleLines InternetService OnlineSecurity  ... DeviceProtection  \\\n",
       "0  No phone service             DSL             No  ...               No   \n",
       "1                No             NaN            Yes  ...              Yes   \n",
       "2                No             DSL            Yes  ...               No   \n",
       "3  No phone service             NaN            Yes  ...              Yes   \n",
       "4                No     Fiber optic             No  ...               No   \n",
       "\n",
       "  TechSupport StreamingTV StreamingMovies        Contract PaperlessBilling  \\\n",
       "0          No          No              No  Month-to-month              Yes   \n",
       "1          No          No              No        One year               No   \n",
       "2          No          No              No  Month-to-month              Yes   \n",
       "3         Yes          No              No        One year               No   \n",
       "4          No          No              No  Month-to-month              Yes   \n",
       "\n",
       "               PaymentMethod MonthlyCharges  TotalCharges Churn  \n",
       "0           Electronic check          29.85         29.85    No  \n",
       "1               Mailed check          56.95        1889.5    No  \n",
       "2               Mailed check          53.85        108.15   Yes  \n",
       "3  Bank transfer (automatic)          42.30       1840.75    No  \n",
       "4                        NaN          70.70        151.65   Yes  \n",
       "\n",
       "[5 rows x 21 columns]"
      ]
     },
     "execution_count": 5,
     "metadata": {},
     "output_type": "execute_result"
    }
   ],
   "source": [
    "df.head()"
   ]
  },
  {
   "cell_type": "code",
   "execution_count": 6,
   "metadata": {},
   "outputs": [
    {
     "data": {
      "text/html": [
       "<div>\n",
       "<style scoped>\n",
       "    .dataframe tbody tr th:only-of-type {\n",
       "        vertical-align: middle;\n",
       "    }\n",
       "\n",
       "    .dataframe tbody tr th {\n",
       "        vertical-align: top;\n",
       "    }\n",
       "\n",
       "    .dataframe thead th {\n",
       "        text-align: right;\n",
       "    }\n",
       "</style>\n",
       "<table border=\"1\" class=\"dataframe\">\n",
       "  <thead>\n",
       "    <tr style=\"text-align: right;\">\n",
       "      <th></th>\n",
       "      <th>SeniorCitizen</th>\n",
       "      <th>tenure</th>\n",
       "      <th>MonthlyCharges</th>\n",
       "    </tr>\n",
       "  </thead>\n",
       "  <tbody>\n",
       "    <tr>\n",
       "      <th>count</th>\n",
       "      <td>5630.000000</td>\n",
       "      <td>5740.000000</td>\n",
       "      <td>7043.000000</td>\n",
       "    </tr>\n",
       "    <tr>\n",
       "      <th>mean</th>\n",
       "      <td>0.161456</td>\n",
       "      <td>32.487108</td>\n",
       "      <td>64.761692</td>\n",
       "    </tr>\n",
       "    <tr>\n",
       "      <th>std</th>\n",
       "      <td>0.367984</td>\n",
       "      <td>24.507180</td>\n",
       "      <td>30.090047</td>\n",
       "    </tr>\n",
       "    <tr>\n",
       "      <th>min</th>\n",
       "      <td>0.000000</td>\n",
       "      <td>0.000000</td>\n",
       "      <td>18.250000</td>\n",
       "    </tr>\n",
       "    <tr>\n",
       "      <th>25%</th>\n",
       "      <td>0.000000</td>\n",
       "      <td>9.000000</td>\n",
       "      <td>35.500000</td>\n",
       "    </tr>\n",
       "    <tr>\n",
       "      <th>50%</th>\n",
       "      <td>0.000000</td>\n",
       "      <td>29.000000</td>\n",
       "      <td>70.350000</td>\n",
       "    </tr>\n",
       "    <tr>\n",
       "      <th>75%</th>\n",
       "      <td>0.000000</td>\n",
       "      <td>55.000000</td>\n",
       "      <td>89.850000</td>\n",
       "    </tr>\n",
       "    <tr>\n",
       "      <th>max</th>\n",
       "      <td>1.000000</td>\n",
       "      <td>72.000000</td>\n",
       "      <td>118.750000</td>\n",
       "    </tr>\n",
       "  </tbody>\n",
       "</table>\n",
       "</div>"
      ],
      "text/plain": [
       "       SeniorCitizen       tenure  MonthlyCharges\n",
       "count    5630.000000  5740.000000     7043.000000\n",
       "mean        0.161456    32.487108       64.761692\n",
       "std         0.367984    24.507180       30.090047\n",
       "min         0.000000     0.000000       18.250000\n",
       "25%         0.000000     9.000000       35.500000\n",
       "50%         0.000000    29.000000       70.350000\n",
       "75%         0.000000    55.000000       89.850000\n",
       "max         1.000000    72.000000      118.750000"
      ]
     },
     "execution_count": 6,
     "metadata": {},
     "output_type": "execute_result"
    }
   ],
   "source": [
    "df.describe()"
   ]
  },
  {
   "cell_type": "code",
   "execution_count": 7,
   "metadata": {},
   "outputs": [
    {
     "data": {
      "text/plain": [
       "customerID           object\n",
       "gender               object\n",
       "SeniorCitizen       float64\n",
       "Partner              object\n",
       "Dependents           object\n",
       "tenure              float64\n",
       "PhoneService         object\n",
       "MultipleLines        object\n",
       "InternetService      object\n",
       "OnlineSecurity       object\n",
       "OnlineBackup         object\n",
       "DeviceProtection     object\n",
       "TechSupport          object\n",
       "StreamingTV          object\n",
       "StreamingMovies      object\n",
       "Contract             object\n",
       "PaperlessBilling     object\n",
       "PaymentMethod        object\n",
       "MonthlyCharges      float64\n",
       "TotalCharges         object\n",
       "Churn                object\n",
       "dtype: object"
      ]
     },
     "execution_count": 7,
     "metadata": {},
     "output_type": "execute_result"
    }
   ],
   "source": [
    "df.dtypes"
   ]
  },
  {
   "cell_type": "markdown",
   "metadata": {},
   "source": [
    "### Imputing Null Values"
   ]
  },
  {
   "cell_type": "code",
   "execution_count": 8,
   "metadata": {},
   "outputs": [
    {
     "data": {
      "text/plain": [
       "customerID             0\n",
       "gender              1438\n",
       "SeniorCitizen       1413\n",
       "Partner             1473\n",
       "Dependents             0\n",
       "tenure              1303\n",
       "PhoneService           0\n",
       "MultipleLines          0\n",
       "InternetService     1408\n",
       "OnlineSecurity         0\n",
       "OnlineBackup           0\n",
       "DeviceProtection       0\n",
       "TechSupport            0\n",
       "StreamingTV            0\n",
       "StreamingMovies        0\n",
       "Contract               0\n",
       "PaperlessBilling       0\n",
       "PaymentMethod       1451\n",
       "MonthlyCharges         0\n",
       "TotalCharges           0\n",
       "Churn                  0\n",
       "dtype: int64"
      ]
     },
     "execution_count": 8,
     "metadata": {},
     "output_type": "execute_result"
    }
   ],
   "source": [
    "df.isnull().sum()"
   ]
  },
  {
   "cell_type": "code",
   "execution_count": 9,
   "metadata": {},
   "outputs": [
    {
     "data": {
      "text/html": [
       "<div>\n",
       "<style scoped>\n",
       "    .dataframe tbody tr th:only-of-type {\n",
       "        vertical-align: middle;\n",
       "    }\n",
       "\n",
       "    .dataframe tbody tr th {\n",
       "        vertical-align: top;\n",
       "    }\n",
       "\n",
       "    .dataframe thead th {\n",
       "        text-align: right;\n",
       "    }\n",
       "</style>\n",
       "<table border=\"1\" class=\"dataframe\">\n",
       "  <thead>\n",
       "    <tr style=\"text-align: right;\">\n",
       "      <th></th>\n",
       "      <th>Total</th>\n",
       "      <th>Percent</th>\n",
       "    </tr>\n",
       "  </thead>\n",
       "  <tbody>\n",
       "    <tr>\n",
       "      <th>Partner</th>\n",
       "      <td>1473</td>\n",
       "      <td>0.209144</td>\n",
       "    </tr>\n",
       "    <tr>\n",
       "      <th>PaymentMethod</th>\n",
       "      <td>1451</td>\n",
       "      <td>0.206020</td>\n",
       "    </tr>\n",
       "    <tr>\n",
       "      <th>gender</th>\n",
       "      <td>1438</td>\n",
       "      <td>0.204174</td>\n",
       "    </tr>\n",
       "    <tr>\n",
       "      <th>SeniorCitizen</th>\n",
       "      <td>1413</td>\n",
       "      <td>0.200625</td>\n",
       "    </tr>\n",
       "    <tr>\n",
       "      <th>InternetService</th>\n",
       "      <td>1408</td>\n",
       "      <td>0.199915</td>\n",
       "    </tr>\n",
       "    <tr>\n",
       "      <th>tenure</th>\n",
       "      <td>1303</td>\n",
       "      <td>0.185006</td>\n",
       "    </tr>\n",
       "    <tr>\n",
       "      <th>DeviceProtection</th>\n",
       "      <td>0</td>\n",
       "      <td>0.000000</td>\n",
       "    </tr>\n",
       "    <tr>\n",
       "      <th>MonthlyCharges</th>\n",
       "      <td>0</td>\n",
       "      <td>0.000000</td>\n",
       "    </tr>\n",
       "    <tr>\n",
       "      <th>PaperlessBilling</th>\n",
       "      <td>0</td>\n",
       "      <td>0.000000</td>\n",
       "    </tr>\n",
       "    <tr>\n",
       "      <th>Contract</th>\n",
       "      <td>0</td>\n",
       "      <td>0.000000</td>\n",
       "    </tr>\n",
       "    <tr>\n",
       "      <th>StreamingMovies</th>\n",
       "      <td>0</td>\n",
       "      <td>0.000000</td>\n",
       "    </tr>\n",
       "    <tr>\n",
       "      <th>StreamingTV</th>\n",
       "      <td>0</td>\n",
       "      <td>0.000000</td>\n",
       "    </tr>\n",
       "    <tr>\n",
       "      <th>TechSupport</th>\n",
       "      <td>0</td>\n",
       "      <td>0.000000</td>\n",
       "    </tr>\n",
       "    <tr>\n",
       "      <th>MultipleLines</th>\n",
       "      <td>0</td>\n",
       "      <td>0.000000</td>\n",
       "    </tr>\n",
       "    <tr>\n",
       "      <th>TotalCharges</th>\n",
       "      <td>0</td>\n",
       "      <td>0.000000</td>\n",
       "    </tr>\n",
       "    <tr>\n",
       "      <th>OnlineBackup</th>\n",
       "      <td>0</td>\n",
       "      <td>0.000000</td>\n",
       "    </tr>\n",
       "    <tr>\n",
       "      <th>PhoneService</th>\n",
       "      <td>0</td>\n",
       "      <td>0.000000</td>\n",
       "    </tr>\n",
       "    <tr>\n",
       "      <th>Dependents</th>\n",
       "      <td>0</td>\n",
       "      <td>0.000000</td>\n",
       "    </tr>\n",
       "    <tr>\n",
       "      <th>OnlineSecurity</th>\n",
       "      <td>0</td>\n",
       "      <td>0.000000</td>\n",
       "    </tr>\n",
       "    <tr>\n",
       "      <th>Churn</th>\n",
       "      <td>0</td>\n",
       "      <td>0.000000</td>\n",
       "    </tr>\n",
       "    <tr>\n",
       "      <th>customerID</th>\n",
       "      <td>0</td>\n",
       "      <td>0.000000</td>\n",
       "    </tr>\n",
       "  </tbody>\n",
       "</table>\n",
       "</div>"
      ],
      "text/plain": [
       "                  Total   Percent\n",
       "Partner            1473  0.209144\n",
       "PaymentMethod      1451  0.206020\n",
       "gender             1438  0.204174\n",
       "SeniorCitizen      1413  0.200625\n",
       "InternetService    1408  0.199915\n",
       "tenure             1303  0.185006\n",
       "DeviceProtection      0  0.000000\n",
       "MonthlyCharges        0  0.000000\n",
       "PaperlessBilling      0  0.000000\n",
       "Contract              0  0.000000\n",
       "StreamingMovies       0  0.000000\n",
       "StreamingTV           0  0.000000\n",
       "TechSupport           0  0.000000\n",
       "MultipleLines         0  0.000000\n",
       "TotalCharges          0  0.000000\n",
       "OnlineBackup          0  0.000000\n",
       "PhoneService          0  0.000000\n",
       "Dependents            0  0.000000\n",
       "OnlineSecurity        0  0.000000\n",
       "Churn                 0  0.000000\n",
       "customerID            0  0.000000"
      ]
     },
     "execution_count": 9,
     "metadata": {},
     "output_type": "execute_result"
    }
   ],
   "source": [
    "#Finding the missing values and percentage\n",
    "total = df.isnull().sum().sort_values(ascending=False)\n",
    "percent = (df.isnull().sum())/df.isnull().count().sort_values(ascending=False)\n",
    "missing_data = pd.concat([total, percent], axis=1, keys=['Total','Percent'], sort=False).sort_values('Total', ascending=False)\n",
    "missing_data.head(30)"
   ]
  },
  {
   "cell_type": "code",
   "execution_count": 10,
   "metadata": {},
   "outputs": [],
   "source": [
    "#Using mean and mode to impute the missing values for the following columns\n",
    "\n",
    "df['Partner'].fillna(df['Partner'].mode()[0], inplace=True)\n",
    "df['PaymentMethod'].fillna(df['PaymentMethod'].mode()[0], inplace=True)\n",
    "df['gender'].fillna(df['gender'].mode()[0], inplace=True)\n",
    "df['SeniorCitizen'].fillna(df['SeniorCitizen'].mode()[0], inplace=True)\n",
    "df['InternetService'].fillna(df['InternetService'].mode()[0], inplace=True)\n",
    "df['tenure'].fillna(df['tenure'].mean(), inplace=True)"
   ]
  },
  {
   "cell_type": "code",
   "execution_count": 11,
   "metadata": {},
   "outputs": [
    {
     "data": {
      "text/html": [
       "<div>\n",
       "<style scoped>\n",
       "    .dataframe tbody tr th:only-of-type {\n",
       "        vertical-align: middle;\n",
       "    }\n",
       "\n",
       "    .dataframe tbody tr th {\n",
       "        vertical-align: top;\n",
       "    }\n",
       "\n",
       "    .dataframe thead th {\n",
       "        text-align: right;\n",
       "    }\n",
       "</style>\n",
       "<table border=\"1\" class=\"dataframe\">\n",
       "  <thead>\n",
       "    <tr style=\"text-align: right;\">\n",
       "      <th></th>\n",
       "      <th>customerID</th>\n",
       "      <th>gender</th>\n",
       "      <th>SeniorCitizen</th>\n",
       "      <th>Partner</th>\n",
       "      <th>Dependents</th>\n",
       "      <th>tenure</th>\n",
       "      <th>PhoneService</th>\n",
       "      <th>MultipleLines</th>\n",
       "      <th>InternetService</th>\n",
       "      <th>OnlineSecurity</th>\n",
       "      <th>...</th>\n",
       "      <th>DeviceProtection</th>\n",
       "      <th>TechSupport</th>\n",
       "      <th>StreamingTV</th>\n",
       "      <th>StreamingMovies</th>\n",
       "      <th>Contract</th>\n",
       "      <th>PaperlessBilling</th>\n",
       "      <th>PaymentMethod</th>\n",
       "      <th>MonthlyCharges</th>\n",
       "      <th>TotalCharges</th>\n",
       "      <th>Churn</th>\n",
       "    </tr>\n",
       "  </thead>\n",
       "  <tbody>\n",
       "    <tr>\n",
       "      <th>0</th>\n",
       "      <td>7590-VHVEG</td>\n",
       "      <td>Female</td>\n",
       "      <td>0.0</td>\n",
       "      <td>No</td>\n",
       "      <td>No</td>\n",
       "      <td>1.000000</td>\n",
       "      <td>No</td>\n",
       "      <td>No phone service</td>\n",
       "      <td>DSL</td>\n",
       "      <td>No</td>\n",
       "      <td>...</td>\n",
       "      <td>No</td>\n",
       "      <td>No</td>\n",
       "      <td>No</td>\n",
       "      <td>No</td>\n",
       "      <td>Month-to-month</td>\n",
       "      <td>Yes</td>\n",
       "      <td>Electronic check</td>\n",
       "      <td>29.85</td>\n",
       "      <td>29.85</td>\n",
       "      <td>No</td>\n",
       "    </tr>\n",
       "    <tr>\n",
       "      <th>1</th>\n",
       "      <td>5575-GNVDE</td>\n",
       "      <td>Male</td>\n",
       "      <td>0.0</td>\n",
       "      <td>No</td>\n",
       "      <td>No</td>\n",
       "      <td>34.000000</td>\n",
       "      <td>Yes</td>\n",
       "      <td>No</td>\n",
       "      <td>Fiber optic</td>\n",
       "      <td>Yes</td>\n",
       "      <td>...</td>\n",
       "      <td>Yes</td>\n",
       "      <td>No</td>\n",
       "      <td>No</td>\n",
       "      <td>No</td>\n",
       "      <td>One year</td>\n",
       "      <td>No</td>\n",
       "      <td>Mailed check</td>\n",
       "      <td>56.95</td>\n",
       "      <td>1889.5</td>\n",
       "      <td>No</td>\n",
       "    </tr>\n",
       "    <tr>\n",
       "      <th>2</th>\n",
       "      <td>3668-QPYBK</td>\n",
       "      <td>Male</td>\n",
       "      <td>0.0</td>\n",
       "      <td>No</td>\n",
       "      <td>No</td>\n",
       "      <td>2.000000</td>\n",
       "      <td>Yes</td>\n",
       "      <td>No</td>\n",
       "      <td>DSL</td>\n",
       "      <td>Yes</td>\n",
       "      <td>...</td>\n",
       "      <td>No</td>\n",
       "      <td>No</td>\n",
       "      <td>No</td>\n",
       "      <td>No</td>\n",
       "      <td>Month-to-month</td>\n",
       "      <td>Yes</td>\n",
       "      <td>Mailed check</td>\n",
       "      <td>53.85</td>\n",
       "      <td>108.15</td>\n",
       "      <td>Yes</td>\n",
       "    </tr>\n",
       "    <tr>\n",
       "      <th>3</th>\n",
       "      <td>7795-CFOCW</td>\n",
       "      <td>Male</td>\n",
       "      <td>0.0</td>\n",
       "      <td>No</td>\n",
       "      <td>No</td>\n",
       "      <td>32.487108</td>\n",
       "      <td>No</td>\n",
       "      <td>No phone service</td>\n",
       "      <td>Fiber optic</td>\n",
       "      <td>Yes</td>\n",
       "      <td>...</td>\n",
       "      <td>Yes</td>\n",
       "      <td>Yes</td>\n",
       "      <td>No</td>\n",
       "      <td>No</td>\n",
       "      <td>One year</td>\n",
       "      <td>No</td>\n",
       "      <td>Bank transfer (automatic)</td>\n",
       "      <td>42.30</td>\n",
       "      <td>1840.75</td>\n",
       "      <td>No</td>\n",
       "    </tr>\n",
       "    <tr>\n",
       "      <th>4</th>\n",
       "      <td>9237-HQITU</td>\n",
       "      <td>Female</td>\n",
       "      <td>0.0</td>\n",
       "      <td>No</td>\n",
       "      <td>No</td>\n",
       "      <td>32.487108</td>\n",
       "      <td>Yes</td>\n",
       "      <td>No</td>\n",
       "      <td>Fiber optic</td>\n",
       "      <td>No</td>\n",
       "      <td>...</td>\n",
       "      <td>No</td>\n",
       "      <td>No</td>\n",
       "      <td>No</td>\n",
       "      <td>No</td>\n",
       "      <td>Month-to-month</td>\n",
       "      <td>Yes</td>\n",
       "      <td>Electronic check</td>\n",
       "      <td>70.70</td>\n",
       "      <td>151.65</td>\n",
       "      <td>Yes</td>\n",
       "    </tr>\n",
       "  </tbody>\n",
       "</table>\n",
       "<p>5 rows × 21 columns</p>\n",
       "</div>"
      ],
      "text/plain": [
       "   customerID  gender  SeniorCitizen Partner Dependents     tenure  \\\n",
       "0  7590-VHVEG  Female            0.0      No         No   1.000000   \n",
       "1  5575-GNVDE    Male            0.0      No         No  34.000000   \n",
       "2  3668-QPYBK    Male            0.0      No         No   2.000000   \n",
       "3  7795-CFOCW    Male            0.0      No         No  32.487108   \n",
       "4  9237-HQITU  Female            0.0      No         No  32.487108   \n",
       "\n",
       "  PhoneService     MultipleLines InternetService OnlineSecurity  ...  \\\n",
       "0           No  No phone service             DSL             No  ...   \n",
       "1          Yes                No     Fiber optic            Yes  ...   \n",
       "2          Yes                No             DSL            Yes  ...   \n",
       "3           No  No phone service     Fiber optic            Yes  ...   \n",
       "4          Yes                No     Fiber optic             No  ...   \n",
       "\n",
       "  DeviceProtection TechSupport StreamingTV StreamingMovies        Contract  \\\n",
       "0               No          No          No              No  Month-to-month   \n",
       "1              Yes          No          No              No        One year   \n",
       "2               No          No          No              No  Month-to-month   \n",
       "3              Yes         Yes          No              No        One year   \n",
       "4               No          No          No              No  Month-to-month   \n",
       "\n",
       "  PaperlessBilling              PaymentMethod MonthlyCharges  TotalCharges  \\\n",
       "0              Yes           Electronic check          29.85         29.85   \n",
       "1               No               Mailed check          56.95        1889.5   \n",
       "2              Yes               Mailed check          53.85        108.15   \n",
       "3               No  Bank transfer (automatic)          42.30       1840.75   \n",
       "4              Yes           Electronic check          70.70        151.65   \n",
       "\n",
       "  Churn  \n",
       "0    No  \n",
       "1    No  \n",
       "2   Yes  \n",
       "3    No  \n",
       "4   Yes  \n",
       "\n",
       "[5 rows x 21 columns]"
      ]
     },
     "execution_count": 11,
     "metadata": {},
     "output_type": "execute_result"
    }
   ],
   "source": [
    "df.head()"
   ]
  },
  {
   "cell_type": "code",
   "execution_count": 12,
   "metadata": {
    "scrolled": true
   },
   "outputs": [
    {
     "name": "stdout",
     "output_type": "stream",
     "text": [
      "<class 'pandas.core.frame.DataFrame'>\n",
      "RangeIndex: 7043 entries, 0 to 7042\n",
      "Data columns (total 21 columns):\n",
      "customerID          7043 non-null object\n",
      "gender              7043 non-null object\n",
      "SeniorCitizen       7043 non-null float64\n",
      "Partner             7043 non-null object\n",
      "Dependents          7043 non-null object\n",
      "tenure              7043 non-null float64\n",
      "PhoneService        7043 non-null object\n",
      "MultipleLines       7043 non-null object\n",
      "InternetService     7043 non-null object\n",
      "OnlineSecurity      7043 non-null object\n",
      "OnlineBackup        7043 non-null object\n",
      "DeviceProtection    7043 non-null object\n",
      "TechSupport         7043 non-null object\n",
      "StreamingTV         7043 non-null object\n",
      "StreamingMovies     7043 non-null object\n",
      "Contract            7043 non-null object\n",
      "PaperlessBilling    7043 non-null object\n",
      "PaymentMethod       7043 non-null object\n",
      "MonthlyCharges      7043 non-null float64\n",
      "TotalCharges        7043 non-null object\n",
      "Churn               7043 non-null object\n",
      "dtypes: float64(3), object(18)\n",
      "memory usage: 1.1+ MB\n"
     ]
    }
   ],
   "source": [
    "df.info()"
   ]
  },
  {
   "cell_type": "markdown",
   "metadata": {},
   "source": [
    "## Data Exploration"
   ]
  },
  {
   "cell_type": "code",
   "execution_count": 13,
   "metadata": {},
   "outputs": [],
   "source": [
    "import matplotlib.pyplot as plt\n",
    "%matplotlib inline\n",
    "import seaborn as sns\n",
    "sns.set()"
   ]
  },
  {
   "cell_type": "markdown",
   "metadata": {},
   "source": [
    "#### Understand the Churn Colum"
   ]
  },
  {
   "cell_type": "code",
   "execution_count": 14,
   "metadata": {},
   "outputs": [
    {
     "data": {
      "image/png": "[encoded data removed]",
      "text/plain": [
       "<Figure size 1152x432 with 2 Axes>"
      ]
     },
     "metadata": {},
     "output_type": "display_data"
    }
   ],
   "source": [
    "plt.style.use(['seaborn-dark','seaborn-talk'])\n",
    "\n",
    "fig, ax = plt.subplots(1,2,figsize=(16,6))\n",
    "\n",
    "df['Churn'].value_counts().plot.pie(explode=[0,0.08], ax=ax[0], autopct='%1.2f%%', shadow=True, \n",
    "                                    fontsize=14, startangle=30, colors=[\"#3791D7\", \"#D72626\"])\n",
    "ax[0].set_title('Total Churn Percentage')\n",
    "\n",
    "sns.countplot('Churn', data=df, ax=ax[1], palette=[\"#3791D7\", \"#D72626\"])\n",
    "ax[1].set_title('Total Number of Churn Customers')\n",
    "ax[1].set_ylabel(' ')\n",
    "\n",
    "plt.show()"
   ]
  },
  {
   "cell_type": "markdown",
   "metadata": {},
   "source": [
    "The data shows that 26.54% of the company's customers have decided to cut ties. "
   ]
  },
  {
   "cell_type": "markdown",
   "metadata": {},
   "source": [
    "### Churn VS Other Columns"
   ]
  },
  {
   "cell_type": "code",
   "execution_count": 15,
   "metadata": {},
   "outputs": [
    {
     "data": {
      "image/png": "[encoded data removed]",
      "text/plain": [
       "<Figure size 1008x288 with 1 Axes>"
      ]
     },
     "metadata": {},
     "output_type": "display_data"
    },
    {
     "data": {
      "image/png": "[encoded data removed]",
      "text/plain": [
       "<Figure size 1008x288 with 1 Axes>"
      ]
     },
     "metadata": {},
     "output_type": "display_data"
    },
    {
     "data": {
      "image/png": "[encoded data removed]",
      "text/plain": [
       "<Figure size 1008x288 with 1 Axes>"
      ]
     },
     "metadata": {},
     "output_type": "display_data"
    },
    {
     "data": {
      "image/png": "[encoded data removed]",
      "text/plain": [
       "<Figure size 1008x288 with 1 Axes>"
      ]
     },
     "metadata": {},
     "output_type": "display_data"
    },
    {
     "data": {
      "image/png": "[encoded data removed]",
      "text/plain": [
       "<Figure size 1008x288 with 1 Axes>"
      ]
     },
     "metadata": {},
     "output_type": "display_data"
    },
    {
     "data": {
      "image/png": "[encoded data removed]",
      "text/plain": [
       "<Figure size 1008x288 with 1 Axes>"
      ]
     },
     "metadata": {},
     "output_type": "display_data"
    },
    {
     "data": {
      "image/png": "[encoded data removed]",
      "text/plain": [
       "<Figure size 1008x288 with 1 Axes>"
      ]
     },
     "metadata": {},
     "output_type": "display_data"
    },
    {
     "data": {
      "image/png": "[encoded data removed]",
      "text/plain": [
       "<Figure size 1008x288 with 1 Axes>"
      ]
     },
     "metadata": {},
     "output_type": "display_data"
    }
   ],
   "source": [
    "cols = ['PhoneService', 'InternetService', 'OnlineSecurity', 'OnlineBackup', 'DeviceProtection', 'TechSupport', 'StreamingTV', 'StreamingMovies']\n",
    "\n",
    "for i in cols:\n",
    "    plt.figure(figsize=(14,4))\n",
    "    sns.countplot(x=i, hue='Churn', data=df)\n",
    "    plt.ylabel('Number of Customers')\n",
    "    plt.show()"
   ]
  },
  {
   "cell_type": "code",
   "execution_count": 16,
   "metadata": {},
   "outputs": [
    {
     "data": {
      "image/png": "[encoded data removed]",
      "text/plain": [
       "<Figure size 1152x432 with 2 Axes>"
      ]
     },
     "metadata": {},
     "output_type": "display_data"
    }
   ],
   "source": [
    "plt.style.use(['seaborn-dark','seaborn-talk'])\n",
    "fig, ax = plt.subplots(1,2,figsize=(16,6))\n",
    "\n",
    "sns.countplot(x='Contract', data=df, hue='Churn', ax=ax[0])\n",
    "ax[0].set_title('Number of Customers per Contract Type')\n",
    "ax[0].set_xlabel('Contract Type')\n",
    "ax[0].set_ylabel('Number of Customers')\n",
    "\n",
    "sns.countplot(x='PaymentMethod', data=df, hue='Churn', ax=ax[1])\n",
    "ax[1].set_xticklabels(ax[1].get_xticklabels(), rotation = 30)\n",
    "ax[1].set_title('Number of Customers per Payment Method')\n",
    "ax[1].set_xlabel('Payment Method')\n",
    "ax[1].set_ylabel('Number of Customers')\n",
    "\n",
    "plt.show()"
   ]
  },
  {
   "cell_type": "code",
   "execution_count": 17,
   "metadata": {},
   "outputs": [
    {
     "data": {
      "image/png": "[encoded data removed]",
      "text/plain": [
       "<Figure size 1008x432 with 1 Axes>"
      ]
     },
     "metadata": {},
     "output_type": "display_data"
    }
   ],
   "source": [
    "plt.figure(figsize=(14,6))\n",
    "\n",
    "sns.boxplot(x='Churn', y='tenure', data=df)\n",
    "plt.title('Tenure by Churn')\n",
    "plt.xlabel('Churn')\n",
    "plt.ylabel('Tenure')\n",
    "\n",
    "plt.show()"
   ]
  },
  {
   "cell_type": "code",
   "execution_count": 18,
   "metadata": {},
   "outputs": [],
   "source": [
    "colors = ['#1f77b4', '#ff7f0e', '#2ca02c', '#d62728', '#9467bd',\n",
    "          '#8c564b', '#e377c2', '#7f7f7f', '#bcbd22', '#17becf']"
   ]
  },
  {
   "cell_type": "markdown",
   "metadata": {},
   "source": [
    "### Tenure Column"
   ]
  },
  {
   "cell_type": "code",
   "execution_count": 19,
   "metadata": {},
   "outputs": [
    {
     "data": {
      "image/png": "[encoded data removed]",
      "text/plain": [
       "<Figure size 1152x504 with 1 Axes>"
      ]
     },
     "metadata": {},
     "output_type": "display_data"
    }
   ],
   "source": [
    "df.tenure.value_counts(normalize=True).plot(kind='bar',figsize=(16,7),color=colors);"
   ]
  },
  {
   "cell_type": "code",
   "execution_count": 20,
   "metadata": {},
   "outputs": [
    {
     "data": {
      "image/png": "[encoded data removed]",
      "text/plain": [
       "<Figure size 1224x576 with 1 Axes>"
      ]
     },
     "metadata": {},
     "output_type": "display_data"
    }
   ],
   "source": [
    "plt.figure(figsize=(17,8))\n",
    "sns.countplot(x=df['tenure'],hue=df.Partner);"
   ]
  },
  {
   "cell_type": "markdown",
   "metadata": {},
   "source": [
    "### Online Security"
   ]
  },
  {
   "cell_type": "code",
   "execution_count": 21,
   "metadata": {},
   "outputs": [
    {
     "data": {
      "text/plain": [
       "No                     3498\n",
       "Yes                    2019\n",
       "No internet service    1526\n",
       "Name: OnlineSecurity, dtype: int64"
      ]
     },
     "execution_count": 21,
     "metadata": {},
     "output_type": "execute_result"
    },
    {
     "data": {
      "image/png": "[encoded data removed]",
      "text/plain": [
       "<Figure size 748.8x514.8 with 1 Axes>"
      ]
     },
     "metadata": {},
     "output_type": "display_data"
    }
   ],
   "source": [
    "plt.pie(df['OnlineSecurity'].value_counts(),labels=df['OnlineSecurity'].unique())\n",
    "df['OnlineSecurity'].value_counts()"
   ]
  },
  {
   "cell_type": "markdown",
   "metadata": {},
   "source": [
    "### Histogram"
   ]
  },
  {
   "cell_type": "code",
   "execution_count": 22,
   "metadata": {},
   "outputs": [
    {
     "name": "stderr",
     "output_type": "stream",
     "text": [
      "C:\\Users\\PURUSHOTHAMAN MURVAS\\Anaconda3\\lib\\site-packages\\pandas\\plotting\\_tools.py:307: MatplotlibDeprecationWarning: \n",
      "The rowNum attribute was deprecated in Matplotlib 3.2 and will be removed two minor releases later. Use ax.get_subplotspec().rowspan.start instead.\n",
      "  layout[ax.rowNum, ax.colNum] = ax.get_visible()\n",
      "C:\\Users\\PURUSHOTHAMAN MURVAS\\Anaconda3\\lib\\site-packages\\pandas\\plotting\\_tools.py:307: MatplotlibDeprecationWarning: \n",
      "The colNum attribute was deprecated in Matplotlib 3.2 and will be removed two minor releases later. Use ax.get_subplotspec().colspan.start instead.\n",
      "  layout[ax.rowNum, ax.colNum] = ax.get_visible()\n",
      "C:\\Users\\PURUSHOTHAMAN MURVAS\\Anaconda3\\lib\\site-packages\\pandas\\plotting\\_tools.py:313: MatplotlibDeprecationWarning: \n",
      "The rowNum attribute was deprecated in Matplotlib 3.2 and will be removed two minor releases later. Use ax.get_subplotspec().rowspan.start instead.\n",
      "  if not layout[ax.rowNum + 1, ax.colNum]:\n",
      "C:\\Users\\PURUSHOTHAMAN MURVAS\\Anaconda3\\lib\\site-packages\\pandas\\plotting\\_tools.py:313: MatplotlibDeprecationWarning: \n",
      "The colNum attribute was deprecated in Matplotlib 3.2 and will be removed two minor releases later. Use ax.get_subplotspec().colspan.start instead.\n",
      "  if not layout[ax.rowNum + 1, ax.colNum]:\n"
     ]
    },
    {
     "data": {
      "text/plain": [
       "array([[<matplotlib.axes._subplots.AxesSubplot object at 0x0000025C33DDD160>,\n",
       "        <matplotlib.axes._subplots.AxesSubplot object at 0x0000025C33E23588>],\n",
       "       [<matplotlib.axes._subplots.AxesSubplot object at 0x0000025C34158BE0>,\n",
       "        <matplotlib.axes._subplots.AxesSubplot object at 0x0000025C33FD9278>]],\n",
       "      dtype=object)"
      ]
     },
     "execution_count": 22,
     "metadata": {},
     "output_type": "execute_result"
    },
    {
     "data": {
      "image/png": "[encoded data removed]",
      "text/plain": [
       "<Figure size 1152x1440 with 4 Axes>"
      ]
     },
     "metadata": {},
     "output_type": "display_data"
    }
   ],
   "source": [
    "df.hist(figsize=(16,20),bins=50,xlabelsize=10,ylabelsize=10)"
   ]
  },
  {
   "cell_type": "markdown",
   "metadata": {},
   "source": [
    "### Correlation Matrix"
   ]
  },
  {
   "cell_type": "code",
   "execution_count": 23,
   "metadata": {},
   "outputs": [],
   "source": [
    "from sklearn.preprocessing import LabelEncoder\n",
    "number = LabelEncoder()\n",
    "for i in df.columns:\n",
    "    df[i] = number.fit_transform(df[i].astype('str'))"
   ]
  },
  {
   "cell_type": "code",
   "execution_count": 24,
   "metadata": {},
   "outputs": [
    {
     "data": {
      "image/png": "[encoded data removed]",
      "text/plain": [
       "<Figure size 576x576 with 2 Axes>"
      ]
     },
     "metadata": {},
     "output_type": "display_data"
    }
   ],
   "source": [
    "features_correlation = df.corr()\n",
    "plt.figure(figsize=(8,8))\n",
    "sns.heatmap(features_correlation,vmax=1,square=True,annot=False,cmap='Blues')\n",
    "plt.show()"
   ]
  },
  {
   "cell_type": "markdown",
   "metadata": {},
   "source": [
    "## Data Analysis"
   ]
  },
  {
   "cell_type": "markdown",
   "metadata": {},
   "source": [
    "### Pre-Processing"
   ]
  },
  {
   "cell_type": "code",
   "execution_count": 25,
   "metadata": {},
   "outputs": [],
   "source": [
    "#Dropping Customer ID Column\n",
    "df.drop(['customerID'],axis=1,inplace= True)"
   ]
  },
  {
   "cell_type": "code",
   "execution_count": 26,
   "metadata": {},
   "outputs": [],
   "source": [
    "# Converting string to float for Total Charges Column\n",
    "df['TotalCharges'] = pd.to_numeric(df['TotalCharges'], errors='coerce')\n",
    "df['TotalCharges'].fillna(df['TotalCharges'].mean(), inplace=True)"
   ]
  },
  {
   "cell_type": "code",
   "execution_count": 27,
   "metadata": {},
   "outputs": [],
   "source": [
    "#Getting dummies for Categorical columns\n",
    "df = pd.get_dummies(df,columns=['gender','SeniorCitizen','Partner','Dependents','PhoneService','MultipleLines','InternetService','OnlineSecurity',\n",
    "                                'OnlineBackup','DeviceProtection','TechSupport','StreamingTV','StreamingMovies','Contract','PaperlessBilling','PaymentMethod'])"
   ]
  },
  {
   "cell_type": "code",
   "execution_count": 28,
   "metadata": {},
   "outputs": [
    {
     "data": {
      "text/plain": [
       "Index(['tenure', 'MonthlyCharges', 'TotalCharges', 'Churn', 'gender_0',\n",
       "       'gender_1', 'SeniorCitizen_0', 'SeniorCitizen_1', 'Partner_0',\n",
       "       'Partner_1', 'Dependents_0', 'Dependents_1', 'PhoneService_0',\n",
       "       'PhoneService_1', 'MultipleLines_0', 'MultipleLines_1',\n",
       "       'MultipleLines_2', 'InternetService_0', 'InternetService_1',\n",
       "       'InternetService_2', 'OnlineSecurity_0', 'OnlineSecurity_1',\n",
       "       'OnlineSecurity_2', 'OnlineBackup_0', 'OnlineBackup_1',\n",
       "       'OnlineBackup_2', 'DeviceProtection_0', 'DeviceProtection_1',\n",
       "       'DeviceProtection_2', 'TechSupport_0', 'TechSupport_1', 'TechSupport_2',\n",
       "       'StreamingTV_0', 'StreamingTV_1', 'StreamingTV_2', 'StreamingMovies_0',\n",
       "       'StreamingMovies_1', 'StreamingMovies_2', 'Contract_0', 'Contract_1',\n",
       "       'Contract_2', 'PaperlessBilling_0', 'PaperlessBilling_1',\n",
       "       'PaymentMethod_0', 'PaymentMethod_1', 'PaymentMethod_2',\n",
       "       'PaymentMethod_3'],\n",
       "      dtype='object')"
      ]
     },
     "execution_count": 28,
     "metadata": {},
     "output_type": "execute_result"
    }
   ],
   "source": [
    "df.columns"
   ]
  },
  {
   "cell_type": "code",
   "execution_count": 29,
   "metadata": {
    "scrolled": true
   },
   "outputs": [
    {
     "data": {
      "text/html": [
       "<div>\n",
       "<style scoped>\n",
       "    .dataframe tbody tr th:only-of-type {\n",
       "        vertical-align: middle;\n",
       "    }\n",
       "\n",
       "    .dataframe tbody tr th {\n",
       "        vertical-align: top;\n",
       "    }\n",
       "\n",
       "    .dataframe thead th {\n",
       "        text-align: right;\n",
       "    }\n",
       "</style>\n",
       "<table border=\"1\" class=\"dataframe\">\n",
       "  <thead>\n",
       "    <tr style=\"text-align: right;\">\n",
       "      <th></th>\n",
       "      <th>tenure</th>\n",
       "      <th>MonthlyCharges</th>\n",
       "      <th>TotalCharges</th>\n",
       "      <th>Churn</th>\n",
       "      <th>gender_0</th>\n",
       "      <th>gender_1</th>\n",
       "      <th>SeniorCitizen_0</th>\n",
       "      <th>SeniorCitizen_1</th>\n",
       "      <th>Partner_0</th>\n",
       "      <th>Partner_1</th>\n",
       "      <th>...</th>\n",
       "      <th>StreamingMovies_2</th>\n",
       "      <th>Contract_0</th>\n",
       "      <th>Contract_1</th>\n",
       "      <th>Contract_2</th>\n",
       "      <th>PaperlessBilling_0</th>\n",
       "      <th>PaperlessBilling_1</th>\n",
       "      <th>PaymentMethod_0</th>\n",
       "      <th>PaymentMethod_1</th>\n",
       "      <th>PaymentMethod_2</th>\n",
       "      <th>PaymentMethod_3</th>\n",
       "    </tr>\n",
       "  </thead>\n",
       "  <tbody>\n",
       "    <tr>\n",
       "      <th>0</th>\n",
       "      <td>1</td>\n",
       "      <td>446</td>\n",
       "      <td>2505</td>\n",
       "      <td>0</td>\n",
       "      <td>1</td>\n",
       "      <td>0</td>\n",
       "      <td>1</td>\n",
       "      <td>0</td>\n",
       "      <td>1</td>\n",
       "      <td>0</td>\n",
       "      <td>...</td>\n",
       "      <td>0</td>\n",
       "      <td>1</td>\n",
       "      <td>0</td>\n",
       "      <td>0</td>\n",
       "      <td>0</td>\n",
       "      <td>1</td>\n",
       "      <td>0</td>\n",
       "      <td>0</td>\n",
       "      <td>1</td>\n",
       "      <td>0</td>\n",
       "    </tr>\n",
       "    <tr>\n",
       "      <th>1</th>\n",
       "      <td>29</td>\n",
       "      <td>802</td>\n",
       "      <td>1466</td>\n",
       "      <td>0</td>\n",
       "      <td>0</td>\n",
       "      <td>1</td>\n",
       "      <td>1</td>\n",
       "      <td>0</td>\n",
       "      <td>1</td>\n",
       "      <td>0</td>\n",
       "      <td>...</td>\n",
       "      <td>0</td>\n",
       "      <td>0</td>\n",
       "      <td>1</td>\n",
       "      <td>0</td>\n",
       "      <td>1</td>\n",
       "      <td>0</td>\n",
       "      <td>0</td>\n",
       "      <td>0</td>\n",
       "      <td>0</td>\n",
       "      <td>1</td>\n",
       "    </tr>\n",
       "    <tr>\n",
       "      <th>2</th>\n",
       "      <td>12</td>\n",
       "      <td>740</td>\n",
       "      <td>157</td>\n",
       "      <td>1</td>\n",
       "      <td>0</td>\n",
       "      <td>1</td>\n",
       "      <td>1</td>\n",
       "      <td>0</td>\n",
       "      <td>1</td>\n",
       "      <td>0</td>\n",
       "      <td>...</td>\n",
       "      <td>0</td>\n",
       "      <td>1</td>\n",
       "      <td>0</td>\n",
       "      <td>0</td>\n",
       "      <td>0</td>\n",
       "      <td>1</td>\n",
       "      <td>0</td>\n",
       "      <td>0</td>\n",
       "      <td>0</td>\n",
       "      <td>1</td>\n",
       "    </tr>\n",
       "    <tr>\n",
       "      <th>3</th>\n",
       "      <td>27</td>\n",
       "      <td>570</td>\n",
       "      <td>1400</td>\n",
       "      <td>0</td>\n",
       "      <td>0</td>\n",
       "      <td>1</td>\n",
       "      <td>1</td>\n",
       "      <td>0</td>\n",
       "      <td>1</td>\n",
       "      <td>0</td>\n",
       "      <td>...</td>\n",
       "      <td>0</td>\n",
       "      <td>0</td>\n",
       "      <td>1</td>\n",
       "      <td>0</td>\n",
       "      <td>1</td>\n",
       "      <td>0</td>\n",
       "      <td>1</td>\n",
       "      <td>0</td>\n",
       "      <td>0</td>\n",
       "      <td>0</td>\n",
       "    </tr>\n",
       "    <tr>\n",
       "      <th>4</th>\n",
       "      <td>27</td>\n",
       "      <td>1033</td>\n",
       "      <td>925</td>\n",
       "      <td>1</td>\n",
       "      <td>1</td>\n",
       "      <td>0</td>\n",
       "      <td>1</td>\n",
       "      <td>0</td>\n",
       "      <td>1</td>\n",
       "      <td>0</td>\n",
       "      <td>...</td>\n",
       "      <td>0</td>\n",
       "      <td>1</td>\n",
       "      <td>0</td>\n",
       "      <td>0</td>\n",
       "      <td>0</td>\n",
       "      <td>1</td>\n",
       "      <td>0</td>\n",
       "      <td>0</td>\n",
       "      <td>1</td>\n",
       "      <td>0</td>\n",
       "    </tr>\n",
       "  </tbody>\n",
       "</table>\n",
       "<p>5 rows × 47 columns</p>\n",
       "</div>"
      ],
      "text/plain": [
       "   tenure  MonthlyCharges  TotalCharges  Churn  gender_0  gender_1  \\\n",
       "0       1             446          2505      0         1         0   \n",
       "1      29             802          1466      0         0         1   \n",
       "2      12             740           157      1         0         1   \n",
       "3      27             570          1400      0         0         1   \n",
       "4      27            1033           925      1         1         0   \n",
       "\n",
       "   SeniorCitizen_0  SeniorCitizen_1  Partner_0  Partner_1  ...  \\\n",
       "0                1                0          1          0  ...   \n",
       "1                1                0          1          0  ...   \n",
       "2                1                0          1          0  ...   \n",
       "3                1                0          1          0  ...   \n",
       "4                1                0          1          0  ...   \n",
       "\n",
       "   StreamingMovies_2  Contract_0  Contract_1  Contract_2  PaperlessBilling_0  \\\n",
       "0                  0           1           0           0                   0   \n",
       "1                  0           0           1           0                   1   \n",
       "2                  0           1           0           0                   0   \n",
       "3                  0           0           1           0                   1   \n",
       "4                  0           1           0           0                   0   \n",
       "\n",
       "   PaperlessBilling_1  PaymentMethod_0  PaymentMethod_1  PaymentMethod_2  \\\n",
       "0                   1                0                0                1   \n",
       "1                   0                0                0                0   \n",
       "2                   1                0                0                0   \n",
       "3                   0                1                0                0   \n",
       "4                   1                0                0                1   \n",
       "\n",
       "   PaymentMethod_3  \n",
       "0                0  \n",
       "1                1  \n",
       "2                1  \n",
       "3                0  \n",
       "4                0  \n",
       "\n",
       "[5 rows x 47 columns]"
      ]
     },
     "execution_count": 29,
     "metadata": {},
     "output_type": "execute_result"
    }
   ],
   "source": [
    "df.head()"
   ]
  },
  {
   "cell_type": "markdown",
   "metadata": {},
   "source": [
    "## Data Processing"
   ]
  },
  {
   "cell_type": "code",
   "execution_count": 30,
   "metadata": {},
   "outputs": [],
   "source": [
    "X = df.drop('Churn', axis = 1)\n",
    "y = df['Churn']"
   ]
  },
  {
   "cell_type": "code",
   "execution_count": 31,
   "metadata": {},
   "outputs": [
    {
     "data": {
      "text/html": [
       "<div>\n",
       "<style scoped>\n",
       "    .dataframe tbody tr th:only-of-type {\n",
       "        vertical-align: middle;\n",
       "    }\n",
       "\n",
       "    .dataframe tbody tr th {\n",
       "        vertical-align: top;\n",
       "    }\n",
       "\n",
       "    .dataframe thead th {\n",
       "        text-align: right;\n",
       "    }\n",
       "</style>\n",
       "<table border=\"1\" class=\"dataframe\">\n",
       "  <thead>\n",
       "    <tr style=\"text-align: right;\">\n",
       "      <th></th>\n",
       "      <th>tenure</th>\n",
       "      <th>MonthlyCharges</th>\n",
       "      <th>TotalCharges</th>\n",
       "      <th>gender_0</th>\n",
       "      <th>gender_1</th>\n",
       "      <th>SeniorCitizen_0</th>\n",
       "      <th>SeniorCitizen_1</th>\n",
       "      <th>Partner_0</th>\n",
       "      <th>Partner_1</th>\n",
       "      <th>Dependents_0</th>\n",
       "      <th>...</th>\n",
       "      <th>StreamingMovies_2</th>\n",
       "      <th>Contract_0</th>\n",
       "      <th>Contract_1</th>\n",
       "      <th>Contract_2</th>\n",
       "      <th>PaperlessBilling_0</th>\n",
       "      <th>PaperlessBilling_1</th>\n",
       "      <th>PaymentMethod_0</th>\n",
       "      <th>PaymentMethod_1</th>\n",
       "      <th>PaymentMethod_2</th>\n",
       "      <th>PaymentMethod_3</th>\n",
       "    </tr>\n",
       "  </thead>\n",
       "  <tbody>\n",
       "    <tr>\n",
       "      <th>count</th>\n",
       "      <td>7043.000000</td>\n",
       "      <td>7043.000000</td>\n",
       "      <td>7043.000000</td>\n",
       "      <td>7043.000000</td>\n",
       "      <td>7043.000000</td>\n",
       "      <td>7043.000000</td>\n",
       "      <td>7043.000000</td>\n",
       "      <td>7043.000000</td>\n",
       "      <td>7043.000000</td>\n",
       "      <td>7043.000000</td>\n",
       "      <td>...</td>\n",
       "      <td>7043.000000</td>\n",
       "      <td>7043.000000</td>\n",
       "      <td>7043.000000</td>\n",
       "      <td>7043.000000</td>\n",
       "      <td>7043.000000</td>\n",
       "      <td>7043.000000</td>\n",
       "      <td>7043.000000</td>\n",
       "      <td>7043.000000</td>\n",
       "      <td>7043.000000</td>\n",
       "      <td>7043.000000</td>\n",
       "    </tr>\n",
       "    <tr>\n",
       "      <th>mean</th>\n",
       "      <td>34.082067</td>\n",
       "      <td>783.182877</td>\n",
       "      <td>3257.794122</td>\n",
       "      <td>0.397558</td>\n",
       "      <td>0.602442</td>\n",
       "      <td>0.870936</td>\n",
       "      <td>0.129064</td>\n",
       "      <td>0.618770</td>\n",
       "      <td>0.381230</td>\n",
       "      <td>0.700412</td>\n",
       "      <td>...</td>\n",
       "      <td>0.387903</td>\n",
       "      <td>0.550192</td>\n",
       "      <td>0.209144</td>\n",
       "      <td>0.240664</td>\n",
       "      <td>0.407781</td>\n",
       "      <td>0.592219</td>\n",
       "      <td>0.173080</td>\n",
       "      <td>0.172370</td>\n",
       "      <td>0.470254</td>\n",
       "      <td>0.184296</td>\n",
       "    </tr>\n",
       "    <tr>\n",
       "      <th>std</th>\n",
       "      <td>22.210684</td>\n",
       "      <td>466.006171</td>\n",
       "      <td>1888.693496</td>\n",
       "      <td>0.489428</td>\n",
       "      <td>0.489428</td>\n",
       "      <td>0.335295</td>\n",
       "      <td>0.335295</td>\n",
       "      <td>0.485723</td>\n",
       "      <td>0.485723</td>\n",
       "      <td>0.458110</td>\n",
       "      <td>...</td>\n",
       "      <td>0.487307</td>\n",
       "      <td>0.497510</td>\n",
       "      <td>0.406726</td>\n",
       "      <td>0.427517</td>\n",
       "      <td>0.491457</td>\n",
       "      <td>0.491457</td>\n",
       "      <td>0.378343</td>\n",
       "      <td>0.377728</td>\n",
       "      <td>0.499150</td>\n",
       "      <td>0.387753</td>\n",
       "    </tr>\n",
       "    <tr>\n",
       "      <th>min</th>\n",
       "      <td>0.000000</td>\n",
       "      <td>0.000000</td>\n",
       "      <td>0.000000</td>\n",
       "      <td>0.000000</td>\n",
       "      <td>0.000000</td>\n",
       "      <td>0.000000</td>\n",
       "      <td>0.000000</td>\n",
       "      <td>0.000000</td>\n",
       "      <td>0.000000</td>\n",
       "      <td>0.000000</td>\n",
       "      <td>...</td>\n",
       "      <td>0.000000</td>\n",
       "      <td>0.000000</td>\n",
       "      <td>0.000000</td>\n",
       "      <td>0.000000</td>\n",
       "      <td>0.000000</td>\n",
       "      <td>0.000000</td>\n",
       "      <td>0.000000</td>\n",
       "      <td>0.000000</td>\n",
       "      <td>0.000000</td>\n",
       "      <td>0.000000</td>\n",
       "    </tr>\n",
       "    <tr>\n",
       "      <th>25%</th>\n",
       "      <td>17.000000</td>\n",
       "      <td>338.000000</td>\n",
       "      <td>1609.000000</td>\n",
       "      <td>0.000000</td>\n",
       "      <td>0.000000</td>\n",
       "      <td>1.000000</td>\n",
       "      <td>0.000000</td>\n",
       "      <td>0.000000</td>\n",
       "      <td>0.000000</td>\n",
       "      <td>0.000000</td>\n",
       "      <td>...</td>\n",
       "      <td>0.000000</td>\n",
       "      <td>0.000000</td>\n",
       "      <td>0.000000</td>\n",
       "      <td>0.000000</td>\n",
       "      <td>0.000000</td>\n",
       "      <td>0.000000</td>\n",
       "      <td>0.000000</td>\n",
       "      <td>0.000000</td>\n",
       "      <td>0.000000</td>\n",
       "      <td>0.000000</td>\n",
       "    </tr>\n",
       "    <tr>\n",
       "      <th>50%</th>\n",
       "      <td>27.000000</td>\n",
       "      <td>761.000000</td>\n",
       "      <td>3249.000000</td>\n",
       "      <td>0.000000</td>\n",
       "      <td>1.000000</td>\n",
       "      <td>1.000000</td>\n",
       "      <td>0.000000</td>\n",
       "      <td>1.000000</td>\n",
       "      <td>0.000000</td>\n",
       "      <td>1.000000</td>\n",
       "      <td>...</td>\n",
       "      <td>0.000000</td>\n",
       "      <td>1.000000</td>\n",
       "      <td>0.000000</td>\n",
       "      <td>0.000000</td>\n",
       "      <td>0.000000</td>\n",
       "      <td>1.000000</td>\n",
       "      <td>0.000000</td>\n",
       "      <td>0.000000</td>\n",
       "      <td>0.000000</td>\n",
       "      <td>0.000000</td>\n",
       "    </tr>\n",
       "    <tr>\n",
       "      <th>75%</th>\n",
       "      <td>53.000000</td>\n",
       "      <td>1204.000000</td>\n",
       "      <td>4901.500000</td>\n",
       "      <td>1.000000</td>\n",
       "      <td>1.000000</td>\n",
       "      <td>1.000000</td>\n",
       "      <td>0.000000</td>\n",
       "      <td>1.000000</td>\n",
       "      <td>1.000000</td>\n",
       "      <td>1.000000</td>\n",
       "      <td>...</td>\n",
       "      <td>1.000000</td>\n",
       "      <td>1.000000</td>\n",
       "      <td>0.000000</td>\n",
       "      <td>0.000000</td>\n",
       "      <td>1.000000</td>\n",
       "      <td>1.000000</td>\n",
       "      <td>0.000000</td>\n",
       "      <td>0.000000</td>\n",
       "      <td>1.000000</td>\n",
       "      <td>0.000000</td>\n",
       "    </tr>\n",
       "    <tr>\n",
       "      <th>max</th>\n",
       "      <td>73.000000</td>\n",
       "      <td>1584.000000</td>\n",
       "      <td>6530.000000</td>\n",
       "      <td>1.000000</td>\n",
       "      <td>1.000000</td>\n",
       "      <td>1.000000</td>\n",
       "      <td>1.000000</td>\n",
       "      <td>1.000000</td>\n",
       "      <td>1.000000</td>\n",
       "      <td>1.000000</td>\n",
       "      <td>...</td>\n",
       "      <td>1.000000</td>\n",
       "      <td>1.000000</td>\n",
       "      <td>1.000000</td>\n",
       "      <td>1.000000</td>\n",
       "      <td>1.000000</td>\n",
       "      <td>1.000000</td>\n",
       "      <td>1.000000</td>\n",
       "      <td>1.000000</td>\n",
       "      <td>1.000000</td>\n",
       "      <td>1.000000</td>\n",
       "    </tr>\n",
       "  </tbody>\n",
       "</table>\n",
       "<p>8 rows × 46 columns</p>\n",
       "</div>"
      ],
      "text/plain": [
       "            tenure  MonthlyCharges  TotalCharges     gender_0     gender_1  \\\n",
       "count  7043.000000     7043.000000   7043.000000  7043.000000  7043.000000   \n",
       "mean     34.082067      783.182877   3257.794122     0.397558     0.602442   \n",
       "std      22.210684      466.006171   1888.693496     0.489428     0.489428   \n",
       "min       0.000000        0.000000      0.000000     0.000000     0.000000   \n",
       "25%      17.000000      338.000000   1609.000000     0.000000     0.000000   \n",
       "50%      27.000000      761.000000   3249.000000     0.000000     1.000000   \n",
       "75%      53.000000     1204.000000   4901.500000     1.000000     1.000000   \n",
       "max      73.000000     1584.000000   6530.000000     1.000000     1.000000   \n",
       "\n",
       "       SeniorCitizen_0  SeniorCitizen_1    Partner_0    Partner_1  \\\n",
       "count      7043.000000      7043.000000  7043.000000  7043.000000   \n",
       "mean          0.870936         0.129064     0.618770     0.381230   \n",
       "std           0.335295         0.335295     0.485723     0.485723   \n",
       "min           0.000000         0.000000     0.000000     0.000000   \n",
       "25%           1.000000         0.000000     0.000000     0.000000   \n",
       "50%           1.000000         0.000000     1.000000     0.000000   \n",
       "75%           1.000000         0.000000     1.000000     1.000000   \n",
       "max           1.000000         1.000000     1.000000     1.000000   \n",
       "\n",
       "       Dependents_0  ...  StreamingMovies_2   Contract_0   Contract_1  \\\n",
       "count   7043.000000  ...        7043.000000  7043.000000  7043.000000   \n",
       "mean       0.700412  ...           0.387903     0.550192     0.209144   \n",
       "std        0.458110  ...           0.487307     0.497510     0.406726   \n",
       "min        0.000000  ...           0.000000     0.000000     0.000000   \n",
       "25%        0.000000  ...           0.000000     0.000000     0.000000   \n",
       "50%        1.000000  ...           0.000000     1.000000     0.000000   \n",
       "75%        1.000000  ...           1.000000     1.000000     0.000000   \n",
       "max        1.000000  ...           1.000000     1.000000     1.000000   \n",
       "\n",
       "        Contract_2  PaperlessBilling_0  PaperlessBilling_1  PaymentMethod_0  \\\n",
       "count  7043.000000         7043.000000         7043.000000      7043.000000   \n",
       "mean      0.240664            0.407781            0.592219         0.173080   \n",
       "std       0.427517            0.491457            0.491457         0.378343   \n",
       "min       0.000000            0.000000            0.000000         0.000000   \n",
       "25%       0.000000            0.000000            0.000000         0.000000   \n",
       "50%       0.000000            0.000000            1.000000         0.000000   \n",
       "75%       0.000000            1.000000            1.000000         0.000000   \n",
       "max       1.000000            1.000000            1.000000         1.000000   \n",
       "\n",
       "       PaymentMethod_1  PaymentMethod_2  PaymentMethod_3  \n",
       "count      7043.000000      7043.000000      7043.000000  \n",
       "mean          0.172370         0.470254         0.184296  \n",
       "std           0.377728         0.499150         0.387753  \n",
       "min           0.000000         0.000000         0.000000  \n",
       "25%           0.000000         0.000000         0.000000  \n",
       "50%           0.000000         0.000000         0.000000  \n",
       "75%           0.000000         1.000000         0.000000  \n",
       "max           1.000000         1.000000         1.000000  \n",
       "\n",
       "[8 rows x 46 columns]"
      ]
     },
     "execution_count": 31,
     "metadata": {},
     "output_type": "execute_result"
    }
   ],
   "source": [
    "X.describe()"
   ]
  },
  {
   "cell_type": "code",
   "execution_count": 32,
   "metadata": {},
   "outputs": [],
   "source": [
    "#Split the data to train and test sets\n",
    "\n",
    "from sklearn.model_selection import train_test_split\n",
    "from sklearn.preprocessing import MinMaxScaler\n",
    "\n",
    "X_train_org, X_test_org, y_train, y_test = train_test_split(X, y, random_state = 0)"
   ]
  },
  {
   "cell_type": "code",
   "execution_count": 33,
   "metadata": {},
   "outputs": [
    {
     "name": "stdout",
     "output_type": "stream",
     "text": [
      "X_train : (5282, 46)\n",
      "X_test : (1761, 46)\n",
      "y_train : (5282,)\n",
      "y_test : (1761,)\n"
     ]
    }
   ],
   "source": [
    "#Standardize the training and test sets\n",
    "scaler = MinMaxScaler()\n",
    "scaler.fit(X_train_org)\n",
    "X_train = scaler.transform(X_train_org)\n",
    "X_test = scaler.transform(X_test_org)\n",
    "\n",
    "#Check the number of records in training and test partitions\n",
    "print(\"X_train : \" + str(X_train.shape))\n",
    "print(\"X_test : \" + str(X_test.shape))\n",
    "print(\"y_train : \" + str(y_train.shape))\n",
    "print(\"y_test : \" + str(y_test.shape))"
   ]
  },
  {
   "cell_type": "code",
   "execution_count": 34,
   "metadata": {},
   "outputs": [
    {
     "data": {
      "text/html": [
       "<div>\n",
       "<style scoped>\n",
       "    .dataframe tbody tr th:only-of-type {\n",
       "        vertical-align: middle;\n",
       "    }\n",
       "\n",
       "    .dataframe tbody tr th {\n",
       "        vertical-align: top;\n",
       "    }\n",
       "\n",
       "    .dataframe thead th {\n",
       "        text-align: right;\n",
       "    }\n",
       "</style>\n",
       "<table border=\"1\" class=\"dataframe\">\n",
       "  <thead>\n",
       "    <tr style=\"text-align: right;\">\n",
       "      <th></th>\n",
       "      <th>tenure</th>\n",
       "      <th>MonthlyCharges</th>\n",
       "      <th>TotalCharges</th>\n",
       "      <th>gender_0</th>\n",
       "      <th>gender_1</th>\n",
       "      <th>SeniorCitizen_0</th>\n",
       "      <th>SeniorCitizen_1</th>\n",
       "      <th>Partner_0</th>\n",
       "      <th>Partner_1</th>\n",
       "      <th>Dependents_0</th>\n",
       "      <th>...</th>\n",
       "      <th>StreamingMovies_2</th>\n",
       "      <th>Contract_0</th>\n",
       "      <th>Contract_1</th>\n",
       "      <th>Contract_2</th>\n",
       "      <th>PaperlessBilling_0</th>\n",
       "      <th>PaperlessBilling_1</th>\n",
       "      <th>PaymentMethod_0</th>\n",
       "      <th>PaymentMethod_1</th>\n",
       "      <th>PaymentMethod_2</th>\n",
       "      <th>PaymentMethod_3</th>\n",
       "    </tr>\n",
       "  </thead>\n",
       "  <tbody>\n",
       "    <tr>\n",
       "      <th>0</th>\n",
       "      <td>0.369863</td>\n",
       "      <td>0.513889</td>\n",
       "      <td>0.013323</td>\n",
       "      <td>1.0</td>\n",
       "      <td>0.0</td>\n",
       "      <td>1.0</td>\n",
       "      <td>0.0</td>\n",
       "      <td>1.0</td>\n",
       "      <td>0.0</td>\n",
       "      <td>1.0</td>\n",
       "      <td>...</td>\n",
       "      <td>0.0</td>\n",
       "      <td>0.0</td>\n",
       "      <td>1.0</td>\n",
       "      <td>0.0</td>\n",
       "      <td>1.0</td>\n",
       "      <td>0.0</td>\n",
       "      <td>0.0</td>\n",
       "      <td>0.0</td>\n",
       "      <td>1.0</td>\n",
       "      <td>0.0</td>\n",
       "    </tr>\n",
       "    <tr>\n",
       "      <th>1</th>\n",
       "      <td>0.794521</td>\n",
       "      <td>0.181187</td>\n",
       "      <td>0.848851</td>\n",
       "      <td>0.0</td>\n",
       "      <td>1.0</td>\n",
       "      <td>1.0</td>\n",
       "      <td>0.0</td>\n",
       "      <td>1.0</td>\n",
       "      <td>0.0</td>\n",
       "      <td>1.0</td>\n",
       "      <td>...</td>\n",
       "      <td>1.0</td>\n",
       "      <td>0.0</td>\n",
       "      <td>1.0</td>\n",
       "      <td>0.0</td>\n",
       "      <td>0.0</td>\n",
       "      <td>1.0</td>\n",
       "      <td>0.0</td>\n",
       "      <td>0.0</td>\n",
       "      <td>1.0</td>\n",
       "      <td>0.0</td>\n",
       "    </tr>\n",
       "    <tr>\n",
       "      <th>2</th>\n",
       "      <td>0.068493</td>\n",
       "      <td>0.667298</td>\n",
       "      <td>0.976723</td>\n",
       "      <td>1.0</td>\n",
       "      <td>0.0</td>\n",
       "      <td>1.0</td>\n",
       "      <td>0.0</td>\n",
       "      <td>1.0</td>\n",
       "      <td>0.0</td>\n",
       "      <td>1.0</td>\n",
       "      <td>...</td>\n",
       "      <td>1.0</td>\n",
       "      <td>1.0</td>\n",
       "      <td>0.0</td>\n",
       "      <td>0.0</td>\n",
       "      <td>0.0</td>\n",
       "      <td>1.0</td>\n",
       "      <td>0.0</td>\n",
       "      <td>0.0</td>\n",
       "      <td>1.0</td>\n",
       "      <td>0.0</td>\n",
       "    </tr>\n",
       "    <tr>\n",
       "      <th>3</th>\n",
       "      <td>0.013699</td>\n",
       "      <td>0.215909</td>\n",
       "      <td>0.247320</td>\n",
       "      <td>0.0</td>\n",
       "      <td>1.0</td>\n",
       "      <td>1.0</td>\n",
       "      <td>0.0</td>\n",
       "      <td>1.0</td>\n",
       "      <td>0.0</td>\n",
       "      <td>1.0</td>\n",
       "      <td>...</td>\n",
       "      <td>0.0</td>\n",
       "      <td>0.0</td>\n",
       "      <td>0.0</td>\n",
       "      <td>1.0</td>\n",
       "      <td>1.0</td>\n",
       "      <td>0.0</td>\n",
       "      <td>0.0</td>\n",
       "      <td>0.0</td>\n",
       "      <td>0.0</td>\n",
       "      <td>1.0</td>\n",
       "    </tr>\n",
       "    <tr>\n",
       "      <th>4</th>\n",
       "      <td>0.712329</td>\n",
       "      <td>0.731692</td>\n",
       "      <td>0.556968</td>\n",
       "      <td>1.0</td>\n",
       "      <td>0.0</td>\n",
       "      <td>1.0</td>\n",
       "      <td>0.0</td>\n",
       "      <td>1.0</td>\n",
       "      <td>0.0</td>\n",
       "      <td>1.0</td>\n",
       "      <td>...</td>\n",
       "      <td>0.0</td>\n",
       "      <td>1.0</td>\n",
       "      <td>0.0</td>\n",
       "      <td>0.0</td>\n",
       "      <td>0.0</td>\n",
       "      <td>1.0</td>\n",
       "      <td>0.0</td>\n",
       "      <td>1.0</td>\n",
       "      <td>0.0</td>\n",
       "      <td>0.0</td>\n",
       "    </tr>\n",
       "  </tbody>\n",
       "</table>\n",
       "<p>5 rows × 46 columns</p>\n",
       "</div>"
      ],
      "text/plain": [
       "     tenure  MonthlyCharges  TotalCharges  gender_0  gender_1  \\\n",
       "0  0.369863        0.513889      0.013323       1.0       0.0   \n",
       "1  0.794521        0.181187      0.848851       0.0       1.0   \n",
       "2  0.068493        0.667298      0.976723       1.0       0.0   \n",
       "3  0.013699        0.215909      0.247320       0.0       1.0   \n",
       "4  0.712329        0.731692      0.556968       1.0       0.0   \n",
       "\n",
       "   SeniorCitizen_0  SeniorCitizen_1  Partner_0  Partner_1  Dependents_0  ...  \\\n",
       "0              1.0              0.0        1.0        0.0           1.0  ...   \n",
       "1              1.0              0.0        1.0        0.0           1.0  ...   \n",
       "2              1.0              0.0        1.0        0.0           1.0  ...   \n",
       "3              1.0              0.0        1.0        0.0           1.0  ...   \n",
       "4              1.0              0.0        1.0        0.0           1.0  ...   \n",
       "\n",
       "   StreamingMovies_2  Contract_0  Contract_1  Contract_2  PaperlessBilling_0  \\\n",
       "0                0.0         0.0         1.0         0.0                 1.0   \n",
       "1                1.0         0.0         1.0         0.0                 0.0   \n",
       "2                1.0         1.0         0.0         0.0                 0.0   \n",
       "3                0.0         0.0         0.0         1.0                 1.0   \n",
       "4                0.0         1.0         0.0         0.0                 0.0   \n",
       "\n",
       "   PaperlessBilling_1  PaymentMethod_0  PaymentMethod_1  PaymentMethod_2  \\\n",
       "0                 0.0              0.0              0.0              1.0   \n",
       "1                 1.0              0.0              0.0              1.0   \n",
       "2                 1.0              0.0              0.0              1.0   \n",
       "3                 0.0              0.0              0.0              0.0   \n",
       "4                 1.0              0.0              1.0              0.0   \n",
       "\n",
       "   PaymentMethod_3  \n",
       "0              0.0  \n",
       "1              0.0  \n",
       "2              0.0  \n",
       "3              1.0  \n",
       "4              0.0  \n",
       "\n",
       "[5 rows x 46 columns]"
      ]
     },
     "execution_count": 34,
     "metadata": {},
     "output_type": "execute_result"
    }
   ],
   "source": [
    "X_train_df = pd.DataFrame(X_train, columns= X.columns)\n",
    "X_test_df = pd.DataFrame(X_test, columns = X.columns)\n",
    "X_test_df.head()"
   ]
  },
  {
   "cell_type": "code",
   "execution_count": 35,
   "metadata": {
    "scrolled": true
   },
   "outputs": [
    {
     "data": {
      "text/html": [
       "<div>\n",
       "<style scoped>\n",
       "    .dataframe tbody tr th:only-of-type {\n",
       "        vertical-align: middle;\n",
       "    }\n",
       "\n",
       "    .dataframe tbody tr th {\n",
       "        vertical-align: top;\n",
       "    }\n",
       "\n",
       "    .dataframe thead th {\n",
       "        text-align: right;\n",
       "    }\n",
       "</style>\n",
       "<table border=\"1\" class=\"dataframe\">\n",
       "  <thead>\n",
       "    <tr style=\"text-align: right;\">\n",
       "      <th></th>\n",
       "      <th>tenure</th>\n",
       "      <th>MonthlyCharges</th>\n",
       "      <th>TotalCharges</th>\n",
       "      <th>gender_0</th>\n",
       "      <th>gender_1</th>\n",
       "      <th>SeniorCitizen_0</th>\n",
       "      <th>SeniorCitizen_1</th>\n",
       "      <th>Partner_0</th>\n",
       "      <th>Partner_1</th>\n",
       "      <th>Dependents_0</th>\n",
       "      <th>...</th>\n",
       "      <th>StreamingMovies_2</th>\n",
       "      <th>Contract_0</th>\n",
       "      <th>Contract_1</th>\n",
       "      <th>Contract_2</th>\n",
       "      <th>PaperlessBilling_0</th>\n",
       "      <th>PaperlessBilling_1</th>\n",
       "      <th>PaymentMethod_0</th>\n",
       "      <th>PaymentMethod_1</th>\n",
       "      <th>PaymentMethod_2</th>\n",
       "      <th>PaymentMethod_3</th>\n",
       "    </tr>\n",
       "  </thead>\n",
       "  <tbody>\n",
       "    <tr>\n",
       "      <th>count</th>\n",
       "      <td>1761.000000</td>\n",
       "      <td>1761.000000</td>\n",
       "      <td>1761.000000</td>\n",
       "      <td>1761.000000</td>\n",
       "      <td>1761.000000</td>\n",
       "      <td>1761.000000</td>\n",
       "      <td>1761.000000</td>\n",
       "      <td>1761.000000</td>\n",
       "      <td>1761.000000</td>\n",
       "      <td>1761.000000</td>\n",
       "      <td>...</td>\n",
       "      <td>1761.000000</td>\n",
       "      <td>1761.000000</td>\n",
       "      <td>1761.000000</td>\n",
       "      <td>1761.000000</td>\n",
       "      <td>1761.000000</td>\n",
       "      <td>1761.000000</td>\n",
       "      <td>1761.000000</td>\n",
       "      <td>1761.000000</td>\n",
       "      <td>1761.000000</td>\n",
       "      <td>1761.000000</td>\n",
       "    </tr>\n",
       "    <tr>\n",
       "      <th>mean</th>\n",
       "      <td>0.455073</td>\n",
       "      <td>0.489303</td>\n",
       "      <td>0.492071</td>\n",
       "      <td>0.377626</td>\n",
       "      <td>0.622374</td>\n",
       "      <td>0.873367</td>\n",
       "      <td>0.126633</td>\n",
       "      <td>0.624645</td>\n",
       "      <td>0.375355</td>\n",
       "      <td>0.705281</td>\n",
       "      <td>...</td>\n",
       "      <td>0.392391</td>\n",
       "      <td>0.541170</td>\n",
       "      <td>0.203294</td>\n",
       "      <td>0.255537</td>\n",
       "      <td>0.423623</td>\n",
       "      <td>0.576377</td>\n",
       "      <td>0.172629</td>\n",
       "      <td>0.178308</td>\n",
       "      <td>0.471323</td>\n",
       "      <td>0.177740</td>\n",
       "    </tr>\n",
       "    <tr>\n",
       "      <th>std</th>\n",
       "      <td>0.301435</td>\n",
       "      <td>0.297390</td>\n",
       "      <td>0.290455</td>\n",
       "      <td>0.484931</td>\n",
       "      <td>0.484931</td>\n",
       "      <td>0.332655</td>\n",
       "      <td>0.332655</td>\n",
       "      <td>0.484352</td>\n",
       "      <td>0.484352</td>\n",
       "      <td>0.456046</td>\n",
       "      <td>...</td>\n",
       "      <td>0.488422</td>\n",
       "      <td>0.498444</td>\n",
       "      <td>0.402563</td>\n",
       "      <td>0.436286</td>\n",
       "      <td>0.494272</td>\n",
       "      <td>0.494272</td>\n",
       "      <td>0.378034</td>\n",
       "      <td>0.382880</td>\n",
       "      <td>0.499319</td>\n",
       "      <td>0.382402</td>\n",
       "    </tr>\n",
       "    <tr>\n",
       "      <th>min</th>\n",
       "      <td>0.000000</td>\n",
       "      <td>0.000000</td>\n",
       "      <td>0.000000</td>\n",
       "      <td>0.000000</td>\n",
       "      <td>0.000000</td>\n",
       "      <td>0.000000</td>\n",
       "      <td>0.000000</td>\n",
       "      <td>0.000000</td>\n",
       "      <td>0.000000</td>\n",
       "      <td>0.000000</td>\n",
       "      <td>...</td>\n",
       "      <td>0.000000</td>\n",
       "      <td>0.000000</td>\n",
       "      <td>0.000000</td>\n",
       "      <td>0.000000</td>\n",
       "      <td>0.000000</td>\n",
       "      <td>0.000000</td>\n",
       "      <td>0.000000</td>\n",
       "      <td>0.000000</td>\n",
       "      <td>0.000000</td>\n",
       "      <td>0.000000</td>\n",
       "    </tr>\n",
       "    <tr>\n",
       "      <th>25%</th>\n",
       "      <td>0.219178</td>\n",
       "      <td>0.212121</td>\n",
       "      <td>0.245023</td>\n",
       "      <td>0.000000</td>\n",
       "      <td>0.000000</td>\n",
       "      <td>1.000000</td>\n",
       "      <td>0.000000</td>\n",
       "      <td>0.000000</td>\n",
       "      <td>0.000000</td>\n",
       "      <td>0.000000</td>\n",
       "      <td>...</td>\n",
       "      <td>0.000000</td>\n",
       "      <td>0.000000</td>\n",
       "      <td>0.000000</td>\n",
       "      <td>0.000000</td>\n",
       "      <td>0.000000</td>\n",
       "      <td>0.000000</td>\n",
       "      <td>0.000000</td>\n",
       "      <td>0.000000</td>\n",
       "      <td>0.000000</td>\n",
       "      <td>0.000000</td>\n",
       "    </tr>\n",
       "    <tr>\n",
       "      <th>50%</th>\n",
       "      <td>0.369863</td>\n",
       "      <td>0.472222</td>\n",
       "      <td>0.483920</td>\n",
       "      <td>0.000000</td>\n",
       "      <td>1.000000</td>\n",
       "      <td>1.000000</td>\n",
       "      <td>0.000000</td>\n",
       "      <td>1.000000</td>\n",
       "      <td>0.000000</td>\n",
       "      <td>1.000000</td>\n",
       "      <td>...</td>\n",
       "      <td>0.000000</td>\n",
       "      <td>1.000000</td>\n",
       "      <td>0.000000</td>\n",
       "      <td>0.000000</td>\n",
       "      <td>0.000000</td>\n",
       "      <td>1.000000</td>\n",
       "      <td>0.000000</td>\n",
       "      <td>0.000000</td>\n",
       "      <td>0.000000</td>\n",
       "      <td>0.000000</td>\n",
       "    </tr>\n",
       "    <tr>\n",
       "      <th>75%</th>\n",
       "      <td>0.712329</td>\n",
       "      <td>0.759470</td>\n",
       "      <td>0.741348</td>\n",
       "      <td>1.000000</td>\n",
       "      <td>1.000000</td>\n",
       "      <td>1.000000</td>\n",
       "      <td>0.000000</td>\n",
       "      <td>1.000000</td>\n",
       "      <td>1.000000</td>\n",
       "      <td>1.000000</td>\n",
       "      <td>...</td>\n",
       "      <td>1.000000</td>\n",
       "      <td>1.000000</td>\n",
       "      <td>0.000000</td>\n",
       "      <td>1.000000</td>\n",
       "      <td>1.000000</td>\n",
       "      <td>1.000000</td>\n",
       "      <td>0.000000</td>\n",
       "      <td>0.000000</td>\n",
       "      <td>1.000000</td>\n",
       "      <td>0.000000</td>\n",
       "    </tr>\n",
       "    <tr>\n",
       "      <th>max</th>\n",
       "      <td>1.000000</td>\n",
       "      <td>1.000000</td>\n",
       "      <td>0.999847</td>\n",
       "      <td>1.000000</td>\n",
       "      <td>1.000000</td>\n",
       "      <td>1.000000</td>\n",
       "      <td>1.000000</td>\n",
       "      <td>1.000000</td>\n",
       "      <td>1.000000</td>\n",
       "      <td>1.000000</td>\n",
       "      <td>...</td>\n",
       "      <td>1.000000</td>\n",
       "      <td>1.000000</td>\n",
       "      <td>1.000000</td>\n",
       "      <td>1.000000</td>\n",
       "      <td>1.000000</td>\n",
       "      <td>1.000000</td>\n",
       "      <td>1.000000</td>\n",
       "      <td>1.000000</td>\n",
       "      <td>1.000000</td>\n",
       "      <td>1.000000</td>\n",
       "    </tr>\n",
       "  </tbody>\n",
       "</table>\n",
       "<p>8 rows × 46 columns</p>\n",
       "</div>"
      ],
      "text/plain": [
       "            tenure  MonthlyCharges  TotalCharges     gender_0     gender_1  \\\n",
       "count  1761.000000     1761.000000   1761.000000  1761.000000  1761.000000   \n",
       "mean      0.455073        0.489303      0.492071     0.377626     0.622374   \n",
       "std       0.301435        0.297390      0.290455     0.484931     0.484931   \n",
       "min       0.000000        0.000000      0.000000     0.000000     0.000000   \n",
       "25%       0.219178        0.212121      0.245023     0.000000     0.000000   \n",
       "50%       0.369863        0.472222      0.483920     0.000000     1.000000   \n",
       "75%       0.712329        0.759470      0.741348     1.000000     1.000000   \n",
       "max       1.000000        1.000000      0.999847     1.000000     1.000000   \n",
       "\n",
       "       SeniorCitizen_0  SeniorCitizen_1    Partner_0    Partner_1  \\\n",
       "count      1761.000000      1761.000000  1761.000000  1761.000000   \n",
       "mean          0.873367         0.126633     0.624645     0.375355   \n",
       "std           0.332655         0.332655     0.484352     0.484352   \n",
       "min           0.000000         0.000000     0.000000     0.000000   \n",
       "25%           1.000000         0.000000     0.000000     0.000000   \n",
       "50%           1.000000         0.000000     1.000000     0.000000   \n",
       "75%           1.000000         0.000000     1.000000     1.000000   \n",
       "max           1.000000         1.000000     1.000000     1.000000   \n",
       "\n",
       "       Dependents_0  ...  StreamingMovies_2   Contract_0   Contract_1  \\\n",
       "count   1761.000000  ...        1761.000000  1761.000000  1761.000000   \n",
       "mean       0.705281  ...           0.392391     0.541170     0.203294   \n",
       "std        0.456046  ...           0.488422     0.498444     0.402563   \n",
       "min        0.000000  ...           0.000000     0.000000     0.000000   \n",
       "25%        0.000000  ...           0.000000     0.000000     0.000000   \n",
       "50%        1.000000  ...           0.000000     1.000000     0.000000   \n",
       "75%        1.000000  ...           1.000000     1.000000     0.000000   \n",
       "max        1.000000  ...           1.000000     1.000000     1.000000   \n",
       "\n",
       "        Contract_2  PaperlessBilling_0  PaperlessBilling_1  PaymentMethod_0  \\\n",
       "count  1761.000000         1761.000000         1761.000000      1761.000000   \n",
       "mean      0.255537            0.423623            0.576377         0.172629   \n",
       "std       0.436286            0.494272            0.494272         0.378034   \n",
       "min       0.000000            0.000000            0.000000         0.000000   \n",
       "25%       0.000000            0.000000            0.000000         0.000000   \n",
       "50%       0.000000            0.000000            1.000000         0.000000   \n",
       "75%       1.000000            1.000000            1.000000         0.000000   \n",
       "max       1.000000            1.000000            1.000000         1.000000   \n",
       "\n",
       "       PaymentMethod_1  PaymentMethod_2  PaymentMethod_3  \n",
       "count      1761.000000      1761.000000      1761.000000  \n",
       "mean          0.178308         0.471323         0.177740  \n",
       "std           0.382880         0.499319         0.382402  \n",
       "min           0.000000         0.000000         0.000000  \n",
       "25%           0.000000         0.000000         0.000000  \n",
       "50%           0.000000         0.000000         0.000000  \n",
       "75%           0.000000         1.000000         0.000000  \n",
       "max           1.000000         1.000000         1.000000  \n",
       "\n",
       "[8 rows x 46 columns]"
      ]
     },
     "execution_count": 35,
     "metadata": {},
     "output_type": "execute_result"
    }
   ],
   "source": [
    "X_test_df.describe()"
   ]
  },
  {
   "cell_type": "markdown",
   "metadata": {},
   "source": [
    "#  Voting Classifier"
   ]
  },
  {
   "cell_type": "markdown",
   "metadata": {},
   "source": [
    "### Voting Classifier - Hard"
   ]
  },
  {
   "cell_type": "code",
   "execution_count": 36,
   "metadata": {},
   "outputs": [],
   "source": [
    "from sklearn.neighbors import KNeighborsClassifier\n",
    "from sklearn.ensemble import VotingClassifier\n",
    "from sklearn.linear_model import LogisticRegression\n",
    "from sklearn.svm import SVC\n",
    "from sklearn.model_selection import train_test_split"
   ]
  },
  {
   "cell_type": "code",
   "execution_count": 38,
   "metadata": {},
   "outputs": [
    {
     "name": "stdout",
     "output_type": "stream",
     "text": [
      "LogisticRegression 0.7819420783645656\n",
      "KNeighborsClassifier 0.7546848381601363\n",
      "SVC 0.7819420783645656\n",
      "VotingClassifier 0.7819420783645656\n"
     ]
    }
   ],
   "source": [
    "log_clf = LogisticRegression(C=1, penalty = 'l1',solver = 'liblinear')\n",
    "log_clf.fit(X_train, y_train)\n",
    "knn_clf = KNeighborsClassifier(15)\n",
    "knn_clf.fit(X_train, y_train)\n",
    "svm_clf = SVC(C = 100, gamma=0.01, probability = True)\n",
    "svm_clf.fit(X_train, y_train)\n",
    "\n",
    "voting_clf = VotingClassifier(estimators=[('lr', log_clf), ('knn', knn_clf), ('svc', svm_clf)], voting='hard')\n",
    "voting_clf.fit(X_train, y_train)\n",
    "\n",
    "from sklearn.metrics import accuracy_score\n",
    "for clf in (log_clf, knn_clf, svm_clf, voting_clf):\n",
    "    clf.fit(X_train, y_train)\n",
    "    y_pred = clf.predict(X_test)\n",
    "    print(clf.__class__.__name__, accuracy_score(y_test, y_pred))\n"
   ]
  },
  {
   "cell_type": "markdown",
   "metadata": {},
   "source": [
    "### Voting Classifier - Soft"
   ]
  },
  {
   "cell_type": "code",
   "execution_count": 39,
   "metadata": {},
   "outputs": [
    {
     "name": "stdout",
     "output_type": "stream",
     "text": [
      "LogisticRegression 0.7819420783645656\n",
      "KNeighborsClassifier 0.7546848381601363\n",
      "SVC 0.7819420783645656\n",
      "VotingClassifier 0.7847813742191937\n"
     ]
    }
   ],
   "source": [
    "log_clf = LogisticRegression(C=1, penalty = 'l1',solver = 'liblinear')\n",
    "log_clf.fit(X_train, y_train)\n",
    "knn_clf = KNeighborsClassifier(15)\n",
    "knn_clf.fit(X_train, y_train)\n",
    "svm_clf = SVC(C = 100, gamma=0.01, probability = True)\n",
    "svm_clf.fit(X_train, y_train)\n",
    "\n",
    "voting_clf = VotingClassifier(estimators=[('lr', log_clf), ('knn', knn_clf), ('svc', svm_clf)], voting='soft')\n",
    "voting_clf.fit(X_train, y_train)\n",
    "\n",
    "from sklearn.metrics import accuracy_score\n",
    "for clf in (log_clf, knn_clf, svm_clf, voting_clf):\n",
    "    clf.fit(X_train, y_train)\n",
    "    y_pred = clf.predict(X_test)\n",
    "    print(clf.__class__.__name__, accuracy_score(y_test, y_pred))\n"
   ]
  },
  {
   "cell_type": "markdown",
   "metadata": {},
   "source": [
    "# Bagging and Pasting"
   ]
  },
  {
   "cell_type": "markdown",
   "metadata": {},
   "source": [
    "### KNN - Bagging "
   ]
  },
  {
   "cell_type": "code",
   "execution_count": 40,
   "metadata": {},
   "outputs": [],
   "source": [
    "from sklearn.ensemble import BaggingClassifier\n",
    "from sklearn.neighbors import KNeighborsClassifier\n",
    "\n",
    "knn_clf = KNeighborsClassifier(n_neighbors=15)\n",
    "bag_clf = BaggingClassifier(knn_clf, n_estimators=100, max_samples=1.0, bootstrap=True, n_jobs=-1, random_state=0)\n",
    "\n",
    "bag_clf.fit(X_train, y_train)\n",
    "y_pred = bag_clf.predict(X_test)"
   ]
  },
  {
   "cell_type": "code",
   "execution_count": 41,
   "metadata": {
    "scrolled": true
   },
   "outputs": [
    {
     "name": "stdout",
     "output_type": "stream",
     "text": [
      "Train score: 0.7999\n",
      "Test score: 0.7598\n"
     ]
    }
   ],
   "source": [
    "bag_clf.fit(X_train, y_train)\n",
    "print('Train score: {:.4f}'.format(bag_clf.score(X_train, y_train)))\n",
    "print('Test score: {:.4f}'.format(bag_clf.score(X_test, y_test)))"
   ]
  },
  {
   "cell_type": "markdown",
   "metadata": {},
   "source": [
    "### F1 Score for KNN - Bagging"
   ]
  },
  {
   "cell_type": "code",
   "execution_count": 42,
   "metadata": {},
   "outputs": [
    {
     "name": "stdout",
     "output_type": "stream",
     "text": [
      "F1 Score for KNN - Bagging on training set 0.7999\n",
      "F1 Score for KNN - Bagging on test set 0.7598\n"
     ]
    }
   ],
   "source": [
    "from sklearn.metrics import f1_score\n",
    "print(\"F1 Score for KNN - Bagging on training set {:.4f}\".format(f1_score(y_train,bag_clf.predict(X_train) , average='micro')))\n",
    "print(\"F1 Score for KNN - Bagging on test set {:.4f}\".format(f1_score(y_test,bag_clf.predict(X_test) , average='micro')))"
   ]
  },
  {
   "cell_type": "markdown",
   "metadata": {},
   "source": [
    "### Decision Tree - Bagging "
   ]
  },
  {
   "cell_type": "code",
   "execution_count": 43,
   "metadata": {},
   "outputs": [],
   "source": [
    "from sklearn.ensemble import BaggingClassifier\n",
    "from sklearn.tree import DecisionTreeClassifier\n",
    "\n",
    "dt_clf = DecisionTreeClassifier(max_depth = 5, random_state=0)\n",
    "bag_clf = BaggingClassifier(dt_clf, n_estimators=100, max_samples=1.0, bootstrap=True, n_jobs=-1, random_state=0)\n",
    "\n",
    "bag_clf.fit(X_train, y_train)\n",
    "y_pred = bag_clf.predict(X_test)"
   ]
  },
  {
   "cell_type": "code",
   "execution_count": 44,
   "metadata": {},
   "outputs": [
    {
     "name": "stdout",
     "output_type": "stream",
     "text": [
      "Train score: 0.7959\n",
      "Test score: 0.7871\n"
     ]
    }
   ],
   "source": [
    "bag_clf.fit(X_train, y_train)\n",
    "print('Train score: {:.4f}'.format(bag_clf.score(X_train, y_train)))\n",
    "print('Test score: {:.4f}'.format(bag_clf.score(X_test, y_test)))"
   ]
  },
  {
   "cell_type": "markdown",
   "metadata": {},
   "source": [
    "### F1 Score for Decision Tree - Bagging"
   ]
  },
  {
   "cell_type": "code",
   "execution_count": 45,
   "metadata": {},
   "outputs": [
    {
     "name": "stdout",
     "output_type": "stream",
     "text": [
      "F1 Score for Decision Tree - Bagging on training set 0.7959\n",
      "F1 Score for Decision Tree - Bagging on test set 0.7871\n"
     ]
    }
   ],
   "source": [
    "from sklearn.metrics import f1_score\n",
    "print(\"F1 Score for Decision Tree - Bagging on training set {:.4f}\".format(f1_score(y_train,bag_clf.predict(X_train) , average='micro')))\n",
    "print(\"F1 Score for Decision Tree - Bagging on test set {:.4f}\".format(f1_score(y_test,bag_clf.predict(X_test) , average='micro')))"
   ]
  },
  {
   "cell_type": "markdown",
   "metadata": {},
   "source": [
    "### KNN - Pasting"
   ]
  },
  {
   "cell_type": "code",
   "execution_count": 46,
   "metadata": {},
   "outputs": [],
   "source": [
    "from sklearn.ensemble import BaggingClassifier\n",
    "from sklearn.neighbors import KNeighborsClassifier\n",
    "\n",
    "knn_clf = KNeighborsClassifier(n_neighbors=15)\n",
    "bag_clf = BaggingClassifier(knn_clf, n_estimators=100, max_samples=1.0, bootstrap=False, n_jobs=-1, random_state=0)\n",
    "\n",
    "bag_clf.fit(X_train, y_train)\n",
    "y_pred = bag_clf.predict(X_test)"
   ]
  },
  {
   "cell_type": "code",
   "execution_count": 47,
   "metadata": {},
   "outputs": [
    {
     "name": "stdout",
     "output_type": "stream",
     "text": [
      "Train score: 0.7957\n",
      "Test score: 0.7547\n"
     ]
    }
   ],
   "source": [
    "bag_clf.fit(X_train, y_train)\n",
    "print('Train score: {:.4f}'.format(bag_clf.score(X_train, y_train)))\n",
    "print('Test score: {:.4f}'.format(bag_clf.score(X_test, y_test)))"
   ]
  },
  {
   "cell_type": "markdown",
   "metadata": {},
   "source": [
    "### F1 Score for KNN - Pasting"
   ]
  },
  {
   "cell_type": "code",
   "execution_count": 48,
   "metadata": {},
   "outputs": [
    {
     "name": "stdout",
     "output_type": "stream",
     "text": [
      "F1 Score for KNN - Pasting on training set 0.7957\n",
      "F1 Score for KNN - Pasting on test set 0.7547\n"
     ]
    }
   ],
   "source": [
    "from sklearn.metrics import f1_score\n",
    "print(\"F1 Score for KNN - Pasting on training set {:.4f}\".format(f1_score(y_train,bag_clf.predict(X_train) , average='micro')))\n",
    "print(\"F1 Score for KNN - Pasting on test set {:.4f}\".format(f1_score(y_test,bag_clf.predict(X_test) , average='micro')))"
   ]
  },
  {
   "cell_type": "markdown",
   "metadata": {},
   "source": [
    "### Decision Tree - Pasting "
   ]
  },
  {
   "cell_type": "code",
   "execution_count": 49,
   "metadata": {},
   "outputs": [],
   "source": [
    "from sklearn.ensemble import BaggingClassifier\n",
    "from sklearn.tree import DecisionTreeClassifier\n",
    "\n",
    "dt_clf = DecisionTreeClassifier(max_depth = 5, random_state=0)\n",
    "bag_clf = BaggingClassifier(dt_clf, n_estimators=100, max_samples=0.1, bootstrap=False, n_jobs=-1, random_state=0)\n",
    "\n",
    "bag_clf.fit(X_train, y_train)\n",
    "y_pred = bag_clf.predict(X_test)"
   ]
  },
  {
   "cell_type": "code",
   "execution_count": 50,
   "metadata": {
    "scrolled": true
   },
   "outputs": [
    {
     "name": "stdout",
     "output_type": "stream",
     "text": [
      "Train score: 0.8008\n",
      "Test score: 0.7774\n"
     ]
    }
   ],
   "source": [
    "bag_clf.fit(X_train, y_train)\n",
    "print('Train score: {:.4f}'.format(bag_clf.score(X_train, y_train)))\n",
    "print('Test score: {:.4f}'.format(bag_clf.score(X_test, y_test)))"
   ]
  },
  {
   "cell_type": "markdown",
   "metadata": {},
   "source": [
    "### F1 Score for Decision Tree - Pasting"
   ]
  },
  {
   "cell_type": "code",
   "execution_count": 51,
   "metadata": {},
   "outputs": [
    {
     "name": "stdout",
     "output_type": "stream",
     "text": [
      "F1 Score for Decision Tree - Pasting on training set 0.8008\n",
      "F1 Score for Decision Tree - Pasting on test set 0.7774\n"
     ]
    }
   ],
   "source": [
    "from sklearn.metrics import f1_score\n",
    "print(\"F1 Score for Decision Tree - Pasting on training set {:.4f}\".format(f1_score(y_train,bag_clf.predict(X_train) , average='micro')))\n",
    "print(\"F1 Score for Decision Tree - Pasting on test set {:.4f}\".format(f1_score(y_test,bag_clf.predict(X_test) , average='micro')))"
   ]
  },
  {
   "cell_type": "markdown",
   "metadata": {},
   "source": [
    "# Adaboost Boosting"
   ]
  },
  {
   "cell_type": "markdown",
   "metadata": {},
   "source": [
    "### Decision Tree - AdaBoost Boosting"
   ]
  },
  {
   "cell_type": "code",
   "execution_count": 52,
   "metadata": {},
   "outputs": [
    {
     "data": {
      "text/plain": [
       "AdaBoostClassifier(algorithm='SAMME.R',\n",
       "                   base_estimator=DecisionTreeClassifier(class_weight=None,\n",
       "                                                         criterion='gini',\n",
       "                                                         max_depth=5,\n",
       "                                                         max_features=None,\n",
       "                                                         max_leaf_nodes=None,\n",
       "                                                         min_impurity_decrease=0.0,\n",
       "                                                         min_impurity_split=None,\n",
       "                                                         min_samples_leaf=1,\n",
       "                                                         min_samples_split=2,\n",
       "                                                         min_weight_fraction_leaf=0.0,\n",
       "                                                         presort=False,\n",
       "                                                         random_state=None,\n",
       "                                                         splitter='best'),\n",
       "                   learning_rate=0.1, n_estimators=100, random_state=0)"
      ]
     },
     "execution_count": 52,
     "metadata": {},
     "output_type": "execute_result"
    }
   ],
   "source": [
    "from sklearn.ensemble import AdaBoostClassifier\n",
    "\n",
    "ada_clf = AdaBoostClassifier(DecisionTreeClassifier(max_depth=5), n_estimators=100, algorithm=\"SAMME.R\", learning_rate=0.1, random_state=0)\n",
    "ada_clf.fit(X_train, y_train)"
   ]
  },
  {
   "cell_type": "code",
   "execution_count": 53,
   "metadata": {
    "scrolled": true
   },
   "outputs": [
    {
     "name": "stdout",
     "output_type": "stream",
     "text": [
      "Accuracy on training set: 0.9385\n",
      "Accuracy on test set: 0.7666\n"
     ]
    }
   ],
   "source": [
    "print(\"Accuracy on training set: {:.4f}\".format(ada_clf.score(X_train, y_train)))\n",
    "print(\"Accuracy on test set: {:.4f}\".format(ada_clf.score(X_test, y_test)))"
   ]
  },
  {
   "cell_type": "markdown",
   "metadata": {},
   "source": [
    "### F1 Score for Decision Tree - AdaBoost Boosting"
   ]
  },
  {
   "cell_type": "code",
   "execution_count": 54,
   "metadata": {},
   "outputs": [
    {
     "name": "stdout",
     "output_type": "stream",
     "text": [
      "F1 Score for Decision Tree - AdaBoost Boosting on training set 0.9385\n",
      "F1 Score for Decision Tree - AdaBoost Boosting on test set 0.7666\n"
     ]
    }
   ],
   "source": [
    "from sklearn.metrics import f1_score\n",
    "print(\"F1 Score for Decision Tree - AdaBoost Boosting on training set {:.4f}\".format(f1_score(y_train,ada_clf.predict(X_train) , average='micro')))\n",
    "print(\"F1 Score for Decision Tree - AdaBoost Boosting on test set {:.4f}\".format(f1_score(y_test,ada_clf.predict(X_test) , average='micro')))"
   ]
  },
  {
   "cell_type": "markdown",
   "metadata": {},
   "source": [
    "### Logistic Regression - AdaBoost Boosting"
   ]
  },
  {
   "cell_type": "code",
   "execution_count": 55,
   "metadata": {},
   "outputs": [
    {
     "name": "stderr",
     "output_type": "stream",
     "text": [
      "C:\\Users\\PURUSHOTHAMAN MURVAS\\Anaconda3\\lib\\site-packages\\sklearn\\linear_model\\logistic.py:432: FutureWarning: Default solver will be changed to 'lbfgs' in 0.22. Specify a solver to silence this warning.\n",
      "  FutureWarning)\n",
      "C:\\Users\\PURUSHOTHAMAN MURVAS\\Anaconda3\\lib\\site-packages\\sklearn\\linear_model\\logistic.py:432: FutureWarning: Default solver will be changed to 'lbfgs' in 0.22. Specify a solver to silence this warning.\n",
      "  FutureWarning)\n",
      "C:\\Users\\PURUSHOTHAMAN MURVAS\\Anaconda3\\lib\\site-packages\\sklearn\\linear_model\\logistic.py:432: FutureWarning: Default solver will be changed to 'lbfgs' in 0.22. Specify a solver to silence this warning.\n",
      "  FutureWarning)\n",
      "C:\\Users\\PURUSHOTHAMAN MURVAS\\Anaconda3\\lib\\site-packages\\sklearn\\linear_model\\logistic.py:432: FutureWarning: Default solver will be changed to 'lbfgs' in 0.22. Specify a solver to silence this warning.\n",
      "  FutureWarning)\n",
      "C:\\Users\\PURUSHOTHAMAN MURVAS\\Anaconda3\\lib\\site-packages\\sklearn\\linear_model\\logistic.py:432: FutureWarning: Default solver will be changed to 'lbfgs' in 0.22. Specify a solver to silence this warning.\n",
      "  FutureWarning)\n",
      "C:\\Users\\PURUSHOTHAMAN MURVAS\\Anaconda3\\lib\\site-packages\\sklearn\\linear_model\\logistic.py:432: FutureWarning: Default solver will be changed to 'lbfgs' in 0.22. Specify a solver to silence this warning.\n",
      "  FutureWarning)\n",
      "C:\\Users\\PURUSHOTHAMAN MURVAS\\Anaconda3\\lib\\site-packages\\sklearn\\linear_model\\logistic.py:432: FutureWarning: Default solver will be changed to 'lbfgs' in 0.22. Specify a solver to silence this warning.\n",
      "  FutureWarning)\n",
      "C:\\Users\\PURUSHOTHAMAN MURVAS\\Anaconda3\\lib\\site-packages\\sklearn\\linear_model\\logistic.py:432: FutureWarning: Default solver will be changed to 'lbfgs' in 0.22. Specify a solver to silence this warning.\n",
      "  FutureWarning)\n",
      "C:\\Users\\PURUSHOTHAMAN MURVAS\\Anaconda3\\lib\\site-packages\\sklearn\\linear_model\\logistic.py:432: FutureWarning: Default solver will be changed to 'lbfgs' in 0.22. Specify a solver to silence this warning.\n",
      "  FutureWarning)\n",
      "C:\\Users\\PURUSHOTHAMAN MURVAS\\Anaconda3\\lib\\site-packages\\sklearn\\linear_model\\logistic.py:432: FutureWarning: Default solver will be changed to 'lbfgs' in 0.22. Specify a solver to silence this warning.\n",
      "  FutureWarning)\n",
      "C:\\Users\\PURUSHOTHAMAN MURVAS\\Anaconda3\\lib\\site-packages\\sklearn\\linear_model\\logistic.py:432: FutureWarning: Default solver will be changed to 'lbfgs' in 0.22. Specify a solver to silence this warning.\n",
      "  FutureWarning)\n",
      "C:\\Users\\PURUSHOTHAMAN MURVAS\\Anaconda3\\lib\\site-packages\\sklearn\\linear_model\\logistic.py:432: FutureWarning: Default solver will be changed to 'lbfgs' in 0.22. Specify a solver to silence this warning.\n",
      "  FutureWarning)\n",
      "C:\\Users\\PURUSHOTHAMAN MURVAS\\Anaconda3\\lib\\site-packages\\sklearn\\linear_model\\logistic.py:432: FutureWarning: Default solver will be changed to 'lbfgs' in 0.22. Specify a solver to silence this warning.\n",
      "  FutureWarning)\n",
      "C:\\Users\\PURUSHOTHAMAN MURVAS\\Anaconda3\\lib\\site-packages\\sklearn\\linear_model\\logistic.py:432: FutureWarning: Default solver will be changed to 'lbfgs' in 0.22. Specify a solver to silence this warning.\n",
      "  FutureWarning)\n",
      "C:\\Users\\PURUSHOTHAMAN MURVAS\\Anaconda3\\lib\\site-packages\\sklearn\\linear_model\\logistic.py:432: FutureWarning: Default solver will be changed to 'lbfgs' in 0.22. Specify a solver to silence this warning.\n",
      "  FutureWarning)\n",
      "C:\\Users\\PURUSHOTHAMAN MURVAS\\Anaconda3\\lib\\site-packages\\sklearn\\linear_model\\logistic.py:432: FutureWarning: Default solver will be changed to 'lbfgs' in 0.22. Specify a solver to silence this warning.\n",
      "  FutureWarning)\n",
      "C:\\Users\\PURUSHOTHAMAN MURVAS\\Anaconda3\\lib\\site-packages\\sklearn\\linear_model\\logistic.py:432: FutureWarning: Default solver will be changed to 'lbfgs' in 0.22. Specify a solver to silence this warning.\n",
      "  FutureWarning)\n",
      "C:\\Users\\PURUSHOTHAMAN MURVAS\\Anaconda3\\lib\\site-packages\\sklearn\\linear_model\\logistic.py:432: FutureWarning: Default solver will be changed to 'lbfgs' in 0.22. Specify a solver to silence this warning.\n",
      "  FutureWarning)\n",
      "C:\\Users\\PURUSHOTHAMAN MURVAS\\Anaconda3\\lib\\site-packages\\sklearn\\linear_model\\logistic.py:432: FutureWarning: Default solver will be changed to 'lbfgs' in 0.22. Specify a solver to silence this warning.\n",
      "  FutureWarning)\n",
      "C:\\Users\\PURUSHOTHAMAN MURVAS\\Anaconda3\\lib\\site-packages\\sklearn\\linear_model\\logistic.py:432: FutureWarning: Default solver will be changed to 'lbfgs' in 0.22. Specify a solver to silence this warning.\n",
      "  FutureWarning)\n",
      "C:\\Users\\PURUSHOTHAMAN MURVAS\\Anaconda3\\lib\\site-packages\\sklearn\\linear_model\\logistic.py:432: FutureWarning: Default solver will be changed to 'lbfgs' in 0.22. Specify a solver to silence this warning.\n",
      "  FutureWarning)\n",
      "C:\\Users\\PURUSHOTHAMAN MURVAS\\Anaconda3\\lib\\site-packages\\sklearn\\linear_model\\logistic.py:432: FutureWarning: Default solver will be changed to 'lbfgs' in 0.22. Specify a solver to silence this warning.\n",
      "  FutureWarning)\n",
      "C:\\Users\\PURUSHOTHAMAN MURVAS\\Anaconda3\\lib\\site-packages\\sklearn\\linear_model\\logistic.py:432: FutureWarning: Default solver will be changed to 'lbfgs' in 0.22. Specify a solver to silence this warning.\n",
      "  FutureWarning)\n",
      "C:\\Users\\PURUSHOTHAMAN MURVAS\\Anaconda3\\lib\\site-packages\\sklearn\\linear_model\\logistic.py:432: FutureWarning: Default solver will be changed to 'lbfgs' in 0.22. Specify a solver to silence this warning.\n",
      "  FutureWarning)\n",
      "C:\\Users\\PURUSHOTHAMAN MURVAS\\Anaconda3\\lib\\site-packages\\sklearn\\linear_model\\logistic.py:432: FutureWarning: Default solver will be changed to 'lbfgs' in 0.22. Specify a solver to silence this warning.\n",
      "  FutureWarning)\n",
      "C:\\Users\\PURUSHOTHAMAN MURVAS\\Anaconda3\\lib\\site-packages\\sklearn\\linear_model\\logistic.py:432: FutureWarning: Default solver will be changed to 'lbfgs' in 0.22. Specify a solver to silence this warning.\n",
      "  FutureWarning)\n",
      "C:\\Users\\PURUSHOTHAMAN MURVAS\\Anaconda3\\lib\\site-packages\\sklearn\\linear_model\\logistic.py:432: FutureWarning: Default solver will be changed to 'lbfgs' in 0.22. Specify a solver to silence this warning.\n",
      "  FutureWarning)\n",
      "C:\\Users\\PURUSHOTHAMAN MURVAS\\Anaconda3\\lib\\site-packages\\sklearn\\linear_model\\logistic.py:432: FutureWarning: Default solver will be changed to 'lbfgs' in 0.22. Specify a solver to silence this warning.\n",
      "  FutureWarning)\n",
      "C:\\Users\\PURUSHOTHAMAN MURVAS\\Anaconda3\\lib\\site-packages\\sklearn\\linear_model\\logistic.py:432: FutureWarning: Default solver will be changed to 'lbfgs' in 0.22. Specify a solver to silence this warning.\n",
      "  FutureWarning)\n",
      "C:\\Users\\PURUSHOTHAMAN MURVAS\\Anaconda3\\lib\\site-packages\\sklearn\\linear_model\\logistic.py:432: FutureWarning: Default solver will be changed to 'lbfgs' in 0.22. Specify a solver to silence this warning.\n",
      "  FutureWarning)\n",
      "C:\\Users\\PURUSHOTHAMAN MURVAS\\Anaconda3\\lib\\site-packages\\sklearn\\linear_model\\logistic.py:432: FutureWarning: Default solver will be changed to 'lbfgs' in 0.22. Specify a solver to silence this warning.\n",
      "  FutureWarning)\n",
      "C:\\Users\\PURUSHOTHAMAN MURVAS\\Anaconda3\\lib\\site-packages\\sklearn\\linear_model\\logistic.py:432: FutureWarning: Default solver will be changed to 'lbfgs' in 0.22. Specify a solver to silence this warning.\n",
      "  FutureWarning)\n",
      "C:\\Users\\PURUSHOTHAMAN MURVAS\\Anaconda3\\lib\\site-packages\\sklearn\\linear_model\\logistic.py:432: FutureWarning: Default solver will be changed to 'lbfgs' in 0.22. Specify a solver to silence this warning.\n",
      "  FutureWarning)\n",
      "C:\\Users\\PURUSHOTHAMAN MURVAS\\Anaconda3\\lib\\site-packages\\sklearn\\linear_model\\logistic.py:432: FutureWarning: Default solver will be changed to 'lbfgs' in 0.22. Specify a solver to silence this warning.\n",
      "  FutureWarning)\n",
      "C:\\Users\\PURUSHOTHAMAN MURVAS\\Anaconda3\\lib\\site-packages\\sklearn\\linear_model\\logistic.py:432: FutureWarning: Default solver will be changed to 'lbfgs' in 0.22. Specify a solver to silence this warning.\n",
      "  FutureWarning)\n",
      "C:\\Users\\PURUSHOTHAMAN MURVAS\\Anaconda3\\lib\\site-packages\\sklearn\\linear_model\\logistic.py:432: FutureWarning: Default solver will be changed to 'lbfgs' in 0.22. Specify a solver to silence this warning.\n",
      "  FutureWarning)\n",
      "C:\\Users\\PURUSHOTHAMAN MURVAS\\Anaconda3\\lib\\site-packages\\sklearn\\linear_model\\logistic.py:432: FutureWarning: Default solver will be changed to 'lbfgs' in 0.22. Specify a solver to silence this warning.\n",
      "  FutureWarning)\n",
      "C:\\Users\\PURUSHOTHAMAN MURVAS\\Anaconda3\\lib\\site-packages\\sklearn\\linear_model\\logistic.py:432: FutureWarning: Default solver will be changed to 'lbfgs' in 0.22. Specify a solver to silence this warning.\n",
      "  FutureWarning)\n",
      "C:\\Users\\PURUSHOTHAMAN MURVAS\\Anaconda3\\lib\\site-packages\\sklearn\\linear_model\\logistic.py:432: FutureWarning: Default solver will be changed to 'lbfgs' in 0.22. Specify a solver to silence this warning.\n",
      "  FutureWarning)\n",
      "C:\\Users\\PURUSHOTHAMAN MURVAS\\Anaconda3\\lib\\site-packages\\sklearn\\linear_model\\logistic.py:432: FutureWarning: Default solver will be changed to 'lbfgs' in 0.22. Specify a solver to silence this warning.\n",
      "  FutureWarning)\n",
      "C:\\Users\\PURUSHOTHAMAN MURVAS\\Anaconda3\\lib\\site-packages\\sklearn\\linear_model\\logistic.py:432: FutureWarning: Default solver will be changed to 'lbfgs' in 0.22. Specify a solver to silence this warning.\n",
      "  FutureWarning)\n"
     ]
    },
    {
     "name": "stderr",
     "output_type": "stream",
     "text": [
      "C:\\Users\\PURUSHOTHAMAN MURVAS\\Anaconda3\\lib\\site-packages\\sklearn\\linear_model\\logistic.py:432: FutureWarning: Default solver will be changed to 'lbfgs' in 0.22. Specify a solver to silence this warning.\n",
      "  FutureWarning)\n",
      "C:\\Users\\PURUSHOTHAMAN MURVAS\\Anaconda3\\lib\\site-packages\\sklearn\\linear_model\\logistic.py:432: FutureWarning: Default solver will be changed to 'lbfgs' in 0.22. Specify a solver to silence this warning.\n",
      "  FutureWarning)\n",
      "C:\\Users\\PURUSHOTHAMAN MURVAS\\Anaconda3\\lib\\site-packages\\sklearn\\linear_model\\logistic.py:432: FutureWarning: Default solver will be changed to 'lbfgs' in 0.22. Specify a solver to silence this warning.\n",
      "  FutureWarning)\n",
      "C:\\Users\\PURUSHOTHAMAN MURVAS\\Anaconda3\\lib\\site-packages\\sklearn\\linear_model\\logistic.py:432: FutureWarning: Default solver will be changed to 'lbfgs' in 0.22. Specify a solver to silence this warning.\n",
      "  FutureWarning)\n",
      "C:\\Users\\PURUSHOTHAMAN MURVAS\\Anaconda3\\lib\\site-packages\\sklearn\\linear_model\\logistic.py:432: FutureWarning: Default solver will be changed to 'lbfgs' in 0.22. Specify a solver to silence this warning.\n",
      "  FutureWarning)\n",
      "C:\\Users\\PURUSHOTHAMAN MURVAS\\Anaconda3\\lib\\site-packages\\sklearn\\linear_model\\logistic.py:432: FutureWarning: Default solver will be changed to 'lbfgs' in 0.22. Specify a solver to silence this warning.\n",
      "  FutureWarning)\n",
      "C:\\Users\\PURUSHOTHAMAN MURVAS\\Anaconda3\\lib\\site-packages\\sklearn\\linear_model\\logistic.py:432: FutureWarning: Default solver will be changed to 'lbfgs' in 0.22. Specify a solver to silence this warning.\n",
      "  FutureWarning)\n",
      "C:\\Users\\PURUSHOTHAMAN MURVAS\\Anaconda3\\lib\\site-packages\\sklearn\\linear_model\\logistic.py:432: FutureWarning: Default solver will be changed to 'lbfgs' in 0.22. Specify a solver to silence this warning.\n",
      "  FutureWarning)\n",
      "C:\\Users\\PURUSHOTHAMAN MURVAS\\Anaconda3\\lib\\site-packages\\sklearn\\linear_model\\logistic.py:432: FutureWarning: Default solver will be changed to 'lbfgs' in 0.22. Specify a solver to silence this warning.\n",
      "  FutureWarning)\n",
      "C:\\Users\\PURUSHOTHAMAN MURVAS\\Anaconda3\\lib\\site-packages\\sklearn\\linear_model\\logistic.py:432: FutureWarning: Default solver will be changed to 'lbfgs' in 0.22. Specify a solver to silence this warning.\n",
      "  FutureWarning)\n",
      "C:\\Users\\PURUSHOTHAMAN MURVAS\\Anaconda3\\lib\\site-packages\\sklearn\\linear_model\\logistic.py:432: FutureWarning: Default solver will be changed to 'lbfgs' in 0.22. Specify a solver to silence this warning.\n",
      "  FutureWarning)\n",
      "C:\\Users\\PURUSHOTHAMAN MURVAS\\Anaconda3\\lib\\site-packages\\sklearn\\linear_model\\logistic.py:432: FutureWarning: Default solver will be changed to 'lbfgs' in 0.22. Specify a solver to silence this warning.\n",
      "  FutureWarning)\n",
      "C:\\Users\\PURUSHOTHAMAN MURVAS\\Anaconda3\\lib\\site-packages\\sklearn\\linear_model\\logistic.py:432: FutureWarning: Default solver will be changed to 'lbfgs' in 0.22. Specify a solver to silence this warning.\n",
      "  FutureWarning)\n",
      "C:\\Users\\PURUSHOTHAMAN MURVAS\\Anaconda3\\lib\\site-packages\\sklearn\\linear_model\\logistic.py:432: FutureWarning: Default solver will be changed to 'lbfgs' in 0.22. Specify a solver to silence this warning.\n",
      "  FutureWarning)\n",
      "C:\\Users\\PURUSHOTHAMAN MURVAS\\Anaconda3\\lib\\site-packages\\sklearn\\linear_model\\logistic.py:432: FutureWarning: Default solver will be changed to 'lbfgs' in 0.22. Specify a solver to silence this warning.\n",
      "  FutureWarning)\n",
      "C:\\Users\\PURUSHOTHAMAN MURVAS\\Anaconda3\\lib\\site-packages\\sklearn\\linear_model\\logistic.py:432: FutureWarning: Default solver will be changed to 'lbfgs' in 0.22. Specify a solver to silence this warning.\n",
      "  FutureWarning)\n",
      "C:\\Users\\PURUSHOTHAMAN MURVAS\\Anaconda3\\lib\\site-packages\\sklearn\\linear_model\\logistic.py:432: FutureWarning: Default solver will be changed to 'lbfgs' in 0.22. Specify a solver to silence this warning.\n",
      "  FutureWarning)\n",
      "C:\\Users\\PURUSHOTHAMAN MURVAS\\Anaconda3\\lib\\site-packages\\sklearn\\linear_model\\logistic.py:432: FutureWarning: Default solver will be changed to 'lbfgs' in 0.22. Specify a solver to silence this warning.\n",
      "  FutureWarning)\n",
      "C:\\Users\\PURUSHOTHAMAN MURVAS\\Anaconda3\\lib\\site-packages\\sklearn\\linear_model\\logistic.py:432: FutureWarning: Default solver will be changed to 'lbfgs' in 0.22. Specify a solver to silence this warning.\n",
      "  FutureWarning)\n",
      "C:\\Users\\PURUSHOTHAMAN MURVAS\\Anaconda3\\lib\\site-packages\\sklearn\\linear_model\\logistic.py:432: FutureWarning: Default solver will be changed to 'lbfgs' in 0.22. Specify a solver to silence this warning.\n",
      "  FutureWarning)\n",
      "C:\\Users\\PURUSHOTHAMAN MURVAS\\Anaconda3\\lib\\site-packages\\sklearn\\linear_model\\logistic.py:432: FutureWarning: Default solver will be changed to 'lbfgs' in 0.22. Specify a solver to silence this warning.\n",
      "  FutureWarning)\n",
      "C:\\Users\\PURUSHOTHAMAN MURVAS\\Anaconda3\\lib\\site-packages\\sklearn\\linear_model\\logistic.py:432: FutureWarning: Default solver will be changed to 'lbfgs' in 0.22. Specify a solver to silence this warning.\n",
      "  FutureWarning)\n",
      "C:\\Users\\PURUSHOTHAMAN MURVAS\\Anaconda3\\lib\\site-packages\\sklearn\\linear_model\\logistic.py:432: FutureWarning: Default solver will be changed to 'lbfgs' in 0.22. Specify a solver to silence this warning.\n",
      "  FutureWarning)\n",
      "C:\\Users\\PURUSHOTHAMAN MURVAS\\Anaconda3\\lib\\site-packages\\sklearn\\linear_model\\logistic.py:432: FutureWarning: Default solver will be changed to 'lbfgs' in 0.22. Specify a solver to silence this warning.\n",
      "  FutureWarning)\n",
      "C:\\Users\\PURUSHOTHAMAN MURVAS\\Anaconda3\\lib\\site-packages\\sklearn\\linear_model\\logistic.py:432: FutureWarning: Default solver will be changed to 'lbfgs' in 0.22. Specify a solver to silence this warning.\n",
      "  FutureWarning)\n",
      "C:\\Users\\PURUSHOTHAMAN MURVAS\\Anaconda3\\lib\\site-packages\\sklearn\\linear_model\\logistic.py:432: FutureWarning: Default solver will be changed to 'lbfgs' in 0.22. Specify a solver to silence this warning.\n",
      "  FutureWarning)\n",
      "C:\\Users\\PURUSHOTHAMAN MURVAS\\Anaconda3\\lib\\site-packages\\sklearn\\linear_model\\logistic.py:432: FutureWarning: Default solver will be changed to 'lbfgs' in 0.22. Specify a solver to silence this warning.\n",
      "  FutureWarning)\n",
      "C:\\Users\\PURUSHOTHAMAN MURVAS\\Anaconda3\\lib\\site-packages\\sklearn\\linear_model\\logistic.py:432: FutureWarning: Default solver will be changed to 'lbfgs' in 0.22. Specify a solver to silence this warning.\n",
      "  FutureWarning)\n",
      "C:\\Users\\PURUSHOTHAMAN MURVAS\\Anaconda3\\lib\\site-packages\\sklearn\\linear_model\\logistic.py:432: FutureWarning: Default solver will be changed to 'lbfgs' in 0.22. Specify a solver to silence this warning.\n",
      "  FutureWarning)\n",
      "C:\\Users\\PURUSHOTHAMAN MURVAS\\Anaconda3\\lib\\site-packages\\sklearn\\linear_model\\logistic.py:432: FutureWarning: Default solver will be changed to 'lbfgs' in 0.22. Specify a solver to silence this warning.\n",
      "  FutureWarning)\n",
      "C:\\Users\\PURUSHOTHAMAN MURVAS\\Anaconda3\\lib\\site-packages\\sklearn\\linear_model\\logistic.py:432: FutureWarning: Default solver will be changed to 'lbfgs' in 0.22. Specify a solver to silence this warning.\n",
      "  FutureWarning)\n",
      "C:\\Users\\PURUSHOTHAMAN MURVAS\\Anaconda3\\lib\\site-packages\\sklearn\\linear_model\\logistic.py:432: FutureWarning: Default solver will be changed to 'lbfgs' in 0.22. Specify a solver to silence this warning.\n",
      "  FutureWarning)\n",
      "C:\\Users\\PURUSHOTHAMAN MURVAS\\Anaconda3\\lib\\site-packages\\sklearn\\linear_model\\logistic.py:432: FutureWarning: Default solver will be changed to 'lbfgs' in 0.22. Specify a solver to silence this warning.\n",
      "  FutureWarning)\n",
      "C:\\Users\\PURUSHOTHAMAN MURVAS\\Anaconda3\\lib\\site-packages\\sklearn\\linear_model\\logistic.py:432: FutureWarning: Default solver will be changed to 'lbfgs' in 0.22. Specify a solver to silence this warning.\n",
      "  FutureWarning)\n",
      "C:\\Users\\PURUSHOTHAMAN MURVAS\\Anaconda3\\lib\\site-packages\\sklearn\\linear_model\\logistic.py:432: FutureWarning: Default solver will be changed to 'lbfgs' in 0.22. Specify a solver to silence this warning.\n",
      "  FutureWarning)\n",
      "C:\\Users\\PURUSHOTHAMAN MURVAS\\Anaconda3\\lib\\site-packages\\sklearn\\linear_model\\logistic.py:432: FutureWarning: Default solver will be changed to 'lbfgs' in 0.22. Specify a solver to silence this warning.\n",
      "  FutureWarning)\n",
      "C:\\Users\\PURUSHOTHAMAN MURVAS\\Anaconda3\\lib\\site-packages\\sklearn\\linear_model\\logistic.py:432: FutureWarning: Default solver will be changed to 'lbfgs' in 0.22. Specify a solver to silence this warning.\n",
      "  FutureWarning)\n",
      "C:\\Users\\PURUSHOTHAMAN MURVAS\\Anaconda3\\lib\\site-packages\\sklearn\\linear_model\\logistic.py:432: FutureWarning: Default solver will be changed to 'lbfgs' in 0.22. Specify a solver to silence this warning.\n",
      "  FutureWarning)\n",
      "C:\\Users\\PURUSHOTHAMAN MURVAS\\Anaconda3\\lib\\site-packages\\sklearn\\linear_model\\logistic.py:432: FutureWarning: Default solver will be changed to 'lbfgs' in 0.22. Specify a solver to silence this warning.\n",
      "  FutureWarning)\n",
      "C:\\Users\\PURUSHOTHAMAN MURVAS\\Anaconda3\\lib\\site-packages\\sklearn\\linear_model\\logistic.py:432: FutureWarning: Default solver will be changed to 'lbfgs' in 0.22. Specify a solver to silence this warning.\n",
      "  FutureWarning)\n",
      "C:\\Users\\PURUSHOTHAMAN MURVAS\\Anaconda3\\lib\\site-packages\\sklearn\\linear_model\\logistic.py:432: FutureWarning: Default solver will be changed to 'lbfgs' in 0.22. Specify a solver to silence this warning.\n",
      "  FutureWarning)\n"
     ]
    },
    {
     "name": "stderr",
     "output_type": "stream",
     "text": [
      "C:\\Users\\PURUSHOTHAMAN MURVAS\\Anaconda3\\lib\\site-packages\\sklearn\\linear_model\\logistic.py:432: FutureWarning: Default solver will be changed to 'lbfgs' in 0.22. Specify a solver to silence this warning.\n",
      "  FutureWarning)\n",
      "C:\\Users\\PURUSHOTHAMAN MURVAS\\Anaconda3\\lib\\site-packages\\sklearn\\linear_model\\logistic.py:432: FutureWarning: Default solver will be changed to 'lbfgs' in 0.22. Specify a solver to silence this warning.\n",
      "  FutureWarning)\n",
      "C:\\Users\\PURUSHOTHAMAN MURVAS\\Anaconda3\\lib\\site-packages\\sklearn\\linear_model\\logistic.py:432: FutureWarning: Default solver will be changed to 'lbfgs' in 0.22. Specify a solver to silence this warning.\n",
      "  FutureWarning)\n",
      "C:\\Users\\PURUSHOTHAMAN MURVAS\\Anaconda3\\lib\\site-packages\\sklearn\\linear_model\\logistic.py:432: FutureWarning: Default solver will be changed to 'lbfgs' in 0.22. Specify a solver to silence this warning.\n",
      "  FutureWarning)\n",
      "C:\\Users\\PURUSHOTHAMAN MURVAS\\Anaconda3\\lib\\site-packages\\sklearn\\linear_model\\logistic.py:432: FutureWarning: Default solver will be changed to 'lbfgs' in 0.22. Specify a solver to silence this warning.\n",
      "  FutureWarning)\n",
      "C:\\Users\\PURUSHOTHAMAN MURVAS\\Anaconda3\\lib\\site-packages\\sklearn\\linear_model\\logistic.py:432: FutureWarning: Default solver will be changed to 'lbfgs' in 0.22. Specify a solver to silence this warning.\n",
      "  FutureWarning)\n",
      "C:\\Users\\PURUSHOTHAMAN MURVAS\\Anaconda3\\lib\\site-packages\\sklearn\\linear_model\\logistic.py:432: FutureWarning: Default solver will be changed to 'lbfgs' in 0.22. Specify a solver to silence this warning.\n",
      "  FutureWarning)\n",
      "C:\\Users\\PURUSHOTHAMAN MURVAS\\Anaconda3\\lib\\site-packages\\sklearn\\linear_model\\logistic.py:432: FutureWarning: Default solver will be changed to 'lbfgs' in 0.22. Specify a solver to silence this warning.\n",
      "  FutureWarning)\n",
      "C:\\Users\\PURUSHOTHAMAN MURVAS\\Anaconda3\\lib\\site-packages\\sklearn\\linear_model\\logistic.py:432: FutureWarning: Default solver will be changed to 'lbfgs' in 0.22. Specify a solver to silence this warning.\n",
      "  FutureWarning)\n",
      "C:\\Users\\PURUSHOTHAMAN MURVAS\\Anaconda3\\lib\\site-packages\\sklearn\\linear_model\\logistic.py:432: FutureWarning: Default solver will be changed to 'lbfgs' in 0.22. Specify a solver to silence this warning.\n",
      "  FutureWarning)\n",
      "C:\\Users\\PURUSHOTHAMAN MURVAS\\Anaconda3\\lib\\site-packages\\sklearn\\linear_model\\logistic.py:432: FutureWarning: Default solver will be changed to 'lbfgs' in 0.22. Specify a solver to silence this warning.\n",
      "  FutureWarning)\n",
      "C:\\Users\\PURUSHOTHAMAN MURVAS\\Anaconda3\\lib\\site-packages\\sklearn\\linear_model\\logistic.py:432: FutureWarning: Default solver will be changed to 'lbfgs' in 0.22. Specify a solver to silence this warning.\n",
      "  FutureWarning)\n",
      "C:\\Users\\PURUSHOTHAMAN MURVAS\\Anaconda3\\lib\\site-packages\\sklearn\\linear_model\\logistic.py:432: FutureWarning: Default solver will be changed to 'lbfgs' in 0.22. Specify a solver to silence this warning.\n",
      "  FutureWarning)\n",
      "C:\\Users\\PURUSHOTHAMAN MURVAS\\Anaconda3\\lib\\site-packages\\sklearn\\linear_model\\logistic.py:432: FutureWarning: Default solver will be changed to 'lbfgs' in 0.22. Specify a solver to silence this warning.\n",
      "  FutureWarning)\n",
      "C:\\Users\\PURUSHOTHAMAN MURVAS\\Anaconda3\\lib\\site-packages\\sklearn\\linear_model\\logistic.py:432: FutureWarning: Default solver will be changed to 'lbfgs' in 0.22. Specify a solver to silence this warning.\n",
      "  FutureWarning)\n",
      "C:\\Users\\PURUSHOTHAMAN MURVAS\\Anaconda3\\lib\\site-packages\\sklearn\\linear_model\\logistic.py:432: FutureWarning: Default solver will be changed to 'lbfgs' in 0.22. Specify a solver to silence this warning.\n",
      "  FutureWarning)\n",
      "C:\\Users\\PURUSHOTHAMAN MURVAS\\Anaconda3\\lib\\site-packages\\sklearn\\linear_model\\logistic.py:432: FutureWarning: Default solver will be changed to 'lbfgs' in 0.22. Specify a solver to silence this warning.\n",
      "  FutureWarning)\n",
      "C:\\Users\\PURUSHOTHAMAN MURVAS\\Anaconda3\\lib\\site-packages\\sklearn\\linear_model\\logistic.py:432: FutureWarning: Default solver will be changed to 'lbfgs' in 0.22. Specify a solver to silence this warning.\n",
      "  FutureWarning)\n"
     ]
    },
    {
     "data": {
      "text/plain": [
       "AdaBoostClassifier(algorithm='SAMME.R',\n",
       "                   base_estimator=LogisticRegression(C=1000, class_weight=None,\n",
       "                                                     dual=False,\n",
       "                                                     fit_intercept=True,\n",
       "                                                     intercept_scaling=1,\n",
       "                                                     l1_ratio=None,\n",
       "                                                     max_iter=100,\n",
       "                                                     multi_class='warn',\n",
       "                                                     n_jobs=None, penalty='l2',\n",
       "                                                     random_state=None,\n",
       "                                                     solver='warn', tol=0.0001,\n",
       "                                                     verbose=0,\n",
       "                                                     warm_start=False),\n",
       "                   learning_rate=0.1, n_estimators=100, random_state=0)"
      ]
     },
     "execution_count": 55,
     "metadata": {},
     "output_type": "execute_result"
    }
   ],
   "source": [
    "from sklearn.ensemble import AdaBoostClassifier\n",
    "\n",
    "ada_clf = AdaBoostClassifier(LogisticRegression(C=1000, penalty = 'l2'), n_estimators=100, algorithm=\"SAMME.R\", learning_rate=0.1, random_state=0)\n",
    "ada_clf.fit(X_train, y_train)"
   ]
  },
  {
   "cell_type": "code",
   "execution_count": 56,
   "metadata": {
    "scrolled": true
   },
   "outputs": [
    {
     "name": "stdout",
     "output_type": "stream",
     "text": [
      "Accuracy on training set: 0.7891\n",
      "Accuracy on test set: 0.7797\n"
     ]
    }
   ],
   "source": [
    "print(\"Accuracy on training set: {:.4f}\".format(ada_clf.score(X_train, y_train)))\n",
    "print(\"Accuracy on test set: {:.4f}\".format(ada_clf.score(X_test, y_test)))"
   ]
  },
  {
   "cell_type": "markdown",
   "metadata": {},
   "source": [
    "### F1 Score for Logistic Regression - AdaBoost Boosting"
   ]
  },
  {
   "cell_type": "code",
   "execution_count": 57,
   "metadata": {},
   "outputs": [
    {
     "name": "stdout",
     "output_type": "stream",
     "text": [
      "F1 Score for Logistic Regression - AdaBoost Boosting on training set 0.7891\n",
      "F1 Score for Logistic Regression - AdaBoost Boosting on test set 0.7797\n"
     ]
    }
   ],
   "source": [
    "from sklearn.metrics import f1_score\n",
    "print(\"F1 Score for Logistic Regression - AdaBoost Boosting on training set {:.4f}\".format(f1_score(y_train,ada_clf.predict(X_train) , average='micro')))\n",
    "print(\"F1 Score for Logistic Regression - AdaBoost Boosting on test set {:.4f}\".format(f1_score(y_test,ada_clf.predict(X_test) , average='micro')))"
   ]
  },
  {
   "cell_type": "markdown",
   "metadata": {},
   "source": [
    "# Gradient Boosting"
   ]
  },
  {
   "cell_type": "markdown",
   "metadata": {},
   "source": [
    "### Decision Tree - Gradient Boosting"
   ]
  },
  {
   "cell_type": "code",
   "execution_count": 58,
   "metadata": {
    "scrolled": true
   },
   "outputs": [
    {
     "data": {
      "text/plain": [
       "GradientBoostingClassifier(criterion='friedman_mse', init=None,\n",
       "                           learning_rate=0.1, loss='deviance', max_depth=5,\n",
       "                           max_features=None, max_leaf_nodes=None,\n",
       "                           min_impurity_decrease=0.0, min_impurity_split=None,\n",
       "                           min_samples_leaf=1, min_samples_split=2,\n",
       "                           min_weight_fraction_leaf=0.0, n_estimators=50,\n",
       "                           n_iter_no_change=None, presort='auto',\n",
       "                           random_state=0, subsample=1.0, tol=0.0001,\n",
       "                           validation_fraction=0.1, verbose=0,\n",
       "                           warm_start=False)"
      ]
     },
     "execution_count": 58,
     "metadata": {},
     "output_type": "execute_result"
    }
   ],
   "source": [
    "from sklearn.ensemble import GradientBoostingClassifier\n",
    "\n",
    "gbrt = GradientBoostingClassifier(max_depth=5, n_estimators=50, learning_rate=0.1, random_state=0)\n",
    "gbrt.fit(X_train, y_train)"
   ]
  },
  {
   "cell_type": "code",
   "execution_count": 59,
   "metadata": {},
   "outputs": [
    {
     "name": "stdout",
     "output_type": "stream",
     "text": [
      "Accuracy on training set: 0.8508\n",
      "Accuracy on test set: 0.7802\n"
     ]
    }
   ],
   "source": [
    "print(\"Accuracy on training set: {:.4f}\".format(gbrt.score(X_train, y_train)))\n",
    "print(\"Accuracy on test set: {:.4f}\".format(gbrt.score(X_test, y_test)))"
   ]
  },
  {
   "cell_type": "markdown",
   "metadata": {},
   "source": [
    "### F1 Score for Decision Tree - Gradient Boosting"
   ]
  },
  {
   "cell_type": "code",
   "execution_count": 60,
   "metadata": {},
   "outputs": [
    {
     "name": "stdout",
     "output_type": "stream",
     "text": [
      "F1 Score for Decision Tree - Gradient Boosting on training set 0.8508\n",
      "F1 Score for Decision Tree - Gradient Boosting on test set 0.7802\n"
     ]
    }
   ],
   "source": [
    "from sklearn.metrics import f1_score\n",
    "print(\"F1 Score for Decision Tree - Gradient Boosting on training set {:.4f}\".format(f1_score(y_train,gbrt.predict(X_train) , average='micro')))\n",
    "print(\"F1 Score for Decision Tree - Gradient Boosting on test set {:.4f}\".format(f1_score(y_test,gbrt.predict(X_test) , average='micro')))"
   ]
  },
  {
   "cell_type": "markdown",
   "metadata": {},
   "source": [
    "#  Principal Component Analysis (PCA)"
   ]
  },
  {
   "cell_type": "code",
   "execution_count": 61,
   "metadata": {},
   "outputs": [],
   "source": [
    "from sklearn.decomposition import PCA\n",
    "pca_classification = PCA(n_components = .95)\n",
    "X_train_class = pca_classification.fit_transform(X_train)\n",
    "X_test_class = pca_classification.transform(X_test)"
   ]
  },
  {
   "cell_type": "code",
   "execution_count": 62,
   "metadata": {},
   "outputs": [
    {
     "data": {
      "text/plain": [
       "19"
      ]
     },
     "execution_count": 62,
     "metadata": {},
     "output_type": "execute_result"
    }
   ],
   "source": [
    "pca_classification.n_components_"
   ]
  },
  {
   "cell_type": "markdown",
   "metadata": {},
   "source": [
    "### Model 1 - KNN Classifier "
   ]
  },
  {
   "cell_type": "code",
   "execution_count": 63,
   "metadata": {},
   "outputs": [
    {
     "name": "stdout",
     "output_type": "stream",
     "text": [
      "Best parameters: {'n_neighbors': 19}\n",
      "Best cross-validation score: 0.7624\n"
     ]
    }
   ],
   "source": [
    "from sklearn.neighbors import KNeighborsClassifier\n",
    "from sklearn.model_selection import GridSearchCV\n",
    "\n",
    "param_grid = {'n_neighbors': range(1,20)}\n",
    "grid_search = GridSearchCV(KNeighborsClassifier(), param_grid, cv=5, return_train_score=True)\n",
    "grid_search.fit(X_train_class, y_train)\n",
    "print(\"Best parameters: {}\".format(grid_search.best_params_))\n",
    "print(\"Best cross-validation score: {:.4f}\".format(grid_search.best_score_))"
   ]
  },
  {
   "cell_type": "code",
   "execution_count": 70,
   "metadata": {},
   "outputs": [
    {
     "data": {
      "image/png": "[encoded data removed]",
      "text/plain": [
       "<Figure size 748.8x514.8 with 1 Axes>"
      ]
     },
     "metadata": {},
     "output_type": "display_data"
    }
   ],
   "source": [
    "results = pd.DataFrame(grid_search.cv_results_)\n",
    "plt.plot(results['param_n_neighbors'],results['mean_test_score'],marker='o',c='r',label='Validation Test score')\n",
    "plt.plot(results['param_n_neighbors'],results['mean_train_score'],marker='*',c='g',label='Validation Train score')\n",
    "plt.title('Number of Neighbors Vs. Mean Train/Validation Accuracy')\n",
    "plt.xlabel('Number of Neighbors in KNN regressor')\n",
    "plt.ylabel('Accuracy')\n",
    "plt.legend()\n",
    "plt.grid()\n"
   ]
  },
  {
   "cell_type": "code",
   "execution_count": 71,
   "metadata": {},
   "outputs": [
    {
     "name": "stdout",
     "output_type": "stream",
     "text": [
      "Train score on best parameters 0.7902\n",
      "Test score on best parameters 0.7547\n"
     ]
    }
   ],
   "source": [
    "knn = KNeighborsClassifier(n_neighbors=19)\n",
    "knn.fit(X_train_class, y_train)\n",
    "print('Train score on best parameters {:.4f}'.format(knn.score(X_train_class,y_train)))\n",
    "print('Test score on best parameters {:.4f}'.format(knn.score(X_test_class,y_test)))"
   ]
  },
  {
   "cell_type": "markdown",
   "metadata": {},
   "source": [
    "### F1 Score for Model 1 - KNN Classifier"
   ]
  },
  {
   "cell_type": "code",
   "execution_count": 72,
   "metadata": {},
   "outputs": [
    {
     "name": "stdout",
     "output_type": "stream",
     "text": [
      "F1 Score for Model 1 - KNN Classifier on training set 0.7902\n",
      "F1 Score for Model 1 - KNN Classifier on test set 0.7547\n"
     ]
    }
   ],
   "source": [
    "from sklearn.metrics import f1_score\n",
    "print(\"F1 Score for Model 1 - KNN Classifier on training set {:.4f}\".format(f1_score(y_train,knn.predict(X_train_class) , average='micro')))\n",
    "print(\"F1 Score for Model 1 - KNN Classifier on test set {:.4f}\".format(f1_score(y_test,knn.predict(X_test_class) , average='micro')))"
   ]
  },
  {
   "cell_type": "markdown",
   "metadata": {},
   "source": [
    "### Adding results to post_pca_class(post_pca_classification_results)"
   ]
  },
  {
   "cell_type": "code",
   "execution_count": 73,
   "metadata": {},
   "outputs": [],
   "source": [
    "post_pca_class = pd.DataFrame(columns=('S.No','Model_Name','Parameters', 'Train_Score', 'Test_Score'))"
   ]
  },
  {
   "cell_type": "code",
   "execution_count": 74,
   "metadata": {},
   "outputs": [],
   "source": [
    "post_pca_class.loc[len(post_pca_class)]=[1,'KNN Classifier','n_neighbors: 19',knn.score(X_train_class,y_train),knn.score(X_test_class,y_test)]"
   ]
  },
  {
   "cell_type": "code",
   "execution_count": 75,
   "metadata": {},
   "outputs": [
    {
     "data": {
      "text/html": [
       "<div>\n",
       "<style scoped>\n",
       "    .dataframe tbody tr th:only-of-type {\n",
       "        vertical-align: middle;\n",
       "    }\n",
       "\n",
       "    .dataframe tbody tr th {\n",
       "        vertical-align: top;\n",
       "    }\n",
       "\n",
       "    .dataframe thead th {\n",
       "        text-align: right;\n",
       "    }\n",
       "</style>\n",
       "<table border=\"1\" class=\"dataframe\">\n",
       "  <thead>\n",
       "    <tr style=\"text-align: right;\">\n",
       "      <th></th>\n",
       "      <th>S.No</th>\n",
       "      <th>Model_Name</th>\n",
       "      <th>Parameters</th>\n",
       "      <th>Train_Score</th>\n",
       "      <th>Test_Score</th>\n",
       "    </tr>\n",
       "  </thead>\n",
       "  <tbody>\n",
       "    <tr>\n",
       "      <th>0</th>\n",
       "      <td>1</td>\n",
       "      <td>KNN Classifier</td>\n",
       "      <td>n_neighbors: 19</td>\n",
       "      <td>0.790231</td>\n",
       "      <td>0.754685</td>\n",
       "    </tr>\n",
       "  </tbody>\n",
       "</table>\n",
       "</div>"
      ],
      "text/plain": [
       "  S.No      Model_Name       Parameters  Train_Score  Test_Score\n",
       "0    1  KNN Classifier  n_neighbors: 19     0.790231    0.754685"
      ]
     },
     "execution_count": 75,
     "metadata": {},
     "output_type": "execute_result"
    }
   ],
   "source": [
    "post_pca_class"
   ]
  },
  {
   "cell_type": "code",
   "execution_count": 76,
   "metadata": {},
   "outputs": [],
   "source": [
    "from sklearn.model_selection import cross_val_score\n",
    "from sklearn.model_selection import cross_val_predict \n",
    "from sklearn.metrics import confusion_matrix\n",
    "\n",
    "predicted = cross_val_predict(grid_search,X_test,y_test, cv=5)\n",
    "confusion = confusion_matrix(y_test, predicted)"
   ]
  },
  {
   "cell_type": "code",
   "execution_count": 77,
   "metadata": {},
   "outputs": [
    {
     "name": "stdout",
     "output_type": "stream",
     "text": [
      "Confusion matrix:\n",
      "[[1126  172]\n",
      " [ 252  211]]\n",
      "              precision    recall  f1-score   support\n",
      "\n",
      "          No       0.82      0.87      0.84      1298\n",
      "         Yes       0.55      0.46      0.50       463\n",
      "\n",
      "    accuracy                           0.76      1761\n",
      "   macro avg       0.68      0.66      0.67      1761\n",
      "weighted avg       0.75      0.76      0.75      1761\n",
      "\n"
     ]
    }
   ],
   "source": [
    "from sklearn.metrics import classification_report\n",
    "print(\"Confusion matrix:\\n{}\".format(confusion))\n",
    "print(classification_report(y_test, predicted, target_names=[\"No\", \"Yes\"]))"
   ]
  },
  {
   "cell_type": "markdown",
   "metadata": {},
   "source": [
    "### Model 2 - Logistic Regression"
   ]
  },
  {
   "cell_type": "markdown",
   "metadata": {},
   "source": [
    "##### Grid search to find the best parameters for the model"
   ]
  },
  {
   "cell_type": "code",
   "execution_count": 78,
   "metadata": {},
   "outputs": [
    {
     "name": "stderr",
     "output_type": "stream",
     "text": [
      "C:\\Users\\PURUSHOTHAMAN MURVAS\\Anaconda3\\lib\\site-packages\\sklearn\\linear_model\\logistic.py:432: FutureWarning: Default solver will be changed to 'lbfgs' in 0.22. Specify a solver to silence this warning.\n",
      "  FutureWarning)\n",
      "C:\\Users\\PURUSHOTHAMAN MURVAS\\Anaconda3\\lib\\site-packages\\sklearn\\linear_model\\logistic.py:432: FutureWarning: Default solver will be changed to 'lbfgs' in 0.22. Specify a solver to silence this warning.\n",
      "  FutureWarning)\n",
      "C:\\Users\\PURUSHOTHAMAN MURVAS\\Anaconda3\\lib\\site-packages\\sklearn\\linear_model\\logistic.py:432: FutureWarning: Default solver will be changed to 'lbfgs' in 0.22. Specify a solver to silence this warning.\n",
      "  FutureWarning)\n",
      "C:\\Users\\PURUSHOTHAMAN MURVAS\\Anaconda3\\lib\\site-packages\\sklearn\\linear_model\\logistic.py:432: FutureWarning: Default solver will be changed to 'lbfgs' in 0.22. Specify a solver to silence this warning.\n",
      "  FutureWarning)\n",
      "C:\\Users\\PURUSHOTHAMAN MURVAS\\Anaconda3\\lib\\site-packages\\sklearn\\linear_model\\logistic.py:432: FutureWarning: Default solver will be changed to 'lbfgs' in 0.22. Specify a solver to silence this warning.\n",
      "  FutureWarning)\n",
      "C:\\Users\\PURUSHOTHAMAN MURVAS\\Anaconda3\\lib\\site-packages\\sklearn\\linear_model\\logistic.py:432: FutureWarning: Default solver will be changed to 'lbfgs' in 0.22. Specify a solver to silence this warning.\n",
      "  FutureWarning)\n",
      "C:\\Users\\PURUSHOTHAMAN MURVAS\\Anaconda3\\lib\\site-packages\\sklearn\\linear_model\\logistic.py:432: FutureWarning: Default solver will be changed to 'lbfgs' in 0.22. Specify a solver to silence this warning.\n",
      "  FutureWarning)\n",
      "C:\\Users\\PURUSHOTHAMAN MURVAS\\Anaconda3\\lib\\site-packages\\sklearn\\linear_model\\logistic.py:432: FutureWarning: Default solver will be changed to 'lbfgs' in 0.22. Specify a solver to silence this warning.\n",
      "  FutureWarning)\n",
      "C:\\Users\\PURUSHOTHAMAN MURVAS\\Anaconda3\\lib\\site-packages\\sklearn\\linear_model\\logistic.py:432: FutureWarning: Default solver will be changed to 'lbfgs' in 0.22. Specify a solver to silence this warning.\n",
      "  FutureWarning)\n",
      "C:\\Users\\PURUSHOTHAMAN MURVAS\\Anaconda3\\lib\\site-packages\\sklearn\\linear_model\\logistic.py:432: FutureWarning: Default solver will be changed to 'lbfgs' in 0.22. Specify a solver to silence this warning.\n",
      "  FutureWarning)\n",
      "C:\\Users\\PURUSHOTHAMAN MURVAS\\Anaconda3\\lib\\site-packages\\sklearn\\linear_model\\logistic.py:432: FutureWarning: Default solver will be changed to 'lbfgs' in 0.22. Specify a solver to silence this warning.\n",
      "  FutureWarning)\n",
      "C:\\Users\\PURUSHOTHAMAN MURVAS\\Anaconda3\\lib\\site-packages\\sklearn\\linear_model\\logistic.py:432: FutureWarning: Default solver will be changed to 'lbfgs' in 0.22. Specify a solver to silence this warning.\n",
      "  FutureWarning)\n",
      "C:\\Users\\PURUSHOTHAMAN MURVAS\\Anaconda3\\lib\\site-packages\\sklearn\\linear_model\\logistic.py:432: FutureWarning: Default solver will be changed to 'lbfgs' in 0.22. Specify a solver to silence this warning.\n",
      "  FutureWarning)\n",
      "C:\\Users\\PURUSHOTHAMAN MURVAS\\Anaconda3\\lib\\site-packages\\sklearn\\linear_model\\logistic.py:432: FutureWarning: Default solver will be changed to 'lbfgs' in 0.22. Specify a solver to silence this warning.\n",
      "  FutureWarning)\n",
      "C:\\Users\\PURUSHOTHAMAN MURVAS\\Anaconda3\\lib\\site-packages\\sklearn\\linear_model\\logistic.py:432: FutureWarning: Default solver will be changed to 'lbfgs' in 0.22. Specify a solver to silence this warning.\n",
      "  FutureWarning)\n",
      "C:\\Users\\PURUSHOTHAMAN MURVAS\\Anaconda3\\lib\\site-packages\\sklearn\\linear_model\\logistic.py:432: FutureWarning: Default solver will be changed to 'lbfgs' in 0.22. Specify a solver to silence this warning.\n",
      "  FutureWarning)\n",
      "C:\\Users\\PURUSHOTHAMAN MURVAS\\Anaconda3\\lib\\site-packages\\sklearn\\linear_model\\logistic.py:432: FutureWarning: Default solver will be changed to 'lbfgs' in 0.22. Specify a solver to silence this warning.\n",
      "  FutureWarning)\n",
      "C:\\Users\\PURUSHOTHAMAN MURVAS\\Anaconda3\\lib\\site-packages\\sklearn\\linear_model\\logistic.py:432: FutureWarning: Default solver will be changed to 'lbfgs' in 0.22. Specify a solver to silence this warning.\n",
      "  FutureWarning)\n",
      "C:\\Users\\PURUSHOTHAMAN MURVAS\\Anaconda3\\lib\\site-packages\\sklearn\\linear_model\\logistic.py:432: FutureWarning: Default solver will be changed to 'lbfgs' in 0.22. Specify a solver to silence this warning.\n",
      "  FutureWarning)\n",
      "C:\\Users\\PURUSHOTHAMAN MURVAS\\Anaconda3\\lib\\site-packages\\sklearn\\linear_model\\logistic.py:432: FutureWarning: Default solver will be changed to 'lbfgs' in 0.22. Specify a solver to silence this warning.\n",
      "  FutureWarning)\n",
      "C:\\Users\\PURUSHOTHAMAN MURVAS\\Anaconda3\\lib\\site-packages\\sklearn\\linear_model\\logistic.py:432: FutureWarning: Default solver will be changed to 'lbfgs' in 0.22. Specify a solver to silence this warning.\n",
      "  FutureWarning)\n",
      "C:\\Users\\PURUSHOTHAMAN MURVAS\\Anaconda3\\lib\\site-packages\\sklearn\\linear_model\\logistic.py:432: FutureWarning: Default solver will be changed to 'lbfgs' in 0.22. Specify a solver to silence this warning.\n",
      "  FutureWarning)\n",
      "C:\\Users\\PURUSHOTHAMAN MURVAS\\Anaconda3\\lib\\site-packages\\sklearn\\linear_model\\logistic.py:432: FutureWarning: Default solver will be changed to 'lbfgs' in 0.22. Specify a solver to silence this warning.\n",
      "  FutureWarning)\n",
      "C:\\Users\\PURUSHOTHAMAN MURVAS\\Anaconda3\\lib\\site-packages\\sklearn\\linear_model\\logistic.py:432: FutureWarning: Default solver will be changed to 'lbfgs' in 0.22. Specify a solver to silence this warning.\n",
      "  FutureWarning)\n",
      "C:\\Users\\PURUSHOTHAMAN MURVAS\\Anaconda3\\lib\\site-packages\\sklearn\\linear_model\\logistic.py:432: FutureWarning: Default solver will be changed to 'lbfgs' in 0.22. Specify a solver to silence this warning.\n",
      "  FutureWarning)\n",
      "C:\\Users\\PURUSHOTHAMAN MURVAS\\Anaconda3\\lib\\site-packages\\sklearn\\linear_model\\logistic.py:432: FutureWarning: Default solver will be changed to 'lbfgs' in 0.22. Specify a solver to silence this warning.\n",
      "  FutureWarning)\n",
      "C:\\Users\\PURUSHOTHAMAN MURVAS\\Anaconda3\\lib\\site-packages\\sklearn\\linear_model\\logistic.py:432: FutureWarning: Default solver will be changed to 'lbfgs' in 0.22. Specify a solver to silence this warning.\n",
      "  FutureWarning)\n",
      "C:\\Users\\PURUSHOTHAMAN MURVAS\\Anaconda3\\lib\\site-packages\\sklearn\\linear_model\\logistic.py:432: FutureWarning: Default solver will be changed to 'lbfgs' in 0.22. Specify a solver to silence this warning.\n",
      "  FutureWarning)\n",
      "C:\\Users\\PURUSHOTHAMAN MURVAS\\Anaconda3\\lib\\site-packages\\sklearn\\linear_model\\logistic.py:432: FutureWarning: Default solver will be changed to 'lbfgs' in 0.22. Specify a solver to silence this warning.\n",
      "  FutureWarning)\n",
      "C:\\Users\\PURUSHOTHAMAN MURVAS\\Anaconda3\\lib\\site-packages\\sklearn\\linear_model\\logistic.py:432: FutureWarning: Default solver will be changed to 'lbfgs' in 0.22. Specify a solver to silence this warning.\n",
      "  FutureWarning)\n",
      "C:\\Users\\PURUSHOTHAMAN MURVAS\\Anaconda3\\lib\\site-packages\\sklearn\\linear_model\\logistic.py:432: FutureWarning: Default solver will be changed to 'lbfgs' in 0.22. Specify a solver to silence this warning.\n",
      "  FutureWarning)\n",
      "C:\\Users\\PURUSHOTHAMAN MURVAS\\Anaconda3\\lib\\site-packages\\sklearn\\linear_model\\logistic.py:432: FutureWarning: Default solver will be changed to 'lbfgs' in 0.22. Specify a solver to silence this warning.\n",
      "  FutureWarning)\n",
      "C:\\Users\\PURUSHOTHAMAN MURVAS\\Anaconda3\\lib\\site-packages\\sklearn\\linear_model\\logistic.py:432: FutureWarning: Default solver will be changed to 'lbfgs' in 0.22. Specify a solver to silence this warning.\n",
      "  FutureWarning)\n",
      "C:\\Users\\PURUSHOTHAMAN MURVAS\\Anaconda3\\lib\\site-packages\\sklearn\\linear_model\\logistic.py:432: FutureWarning: Default solver will be changed to 'lbfgs' in 0.22. Specify a solver to silence this warning.\n",
      "  FutureWarning)\n",
      "C:\\Users\\PURUSHOTHAMAN MURVAS\\Anaconda3\\lib\\site-packages\\sklearn\\linear_model\\logistic.py:432: FutureWarning: Default solver will be changed to 'lbfgs' in 0.22. Specify a solver to silence this warning.\n",
      "  FutureWarning)\n",
      "C:\\Users\\PURUSHOTHAMAN MURVAS\\Anaconda3\\lib\\site-packages\\sklearn\\linear_model\\logistic.py:432: FutureWarning: Default solver will be changed to 'lbfgs' in 0.22. Specify a solver to silence this warning.\n",
      "  FutureWarning)\n",
      "C:\\Users\\PURUSHOTHAMAN MURVAS\\Anaconda3\\lib\\site-packages\\sklearn\\linear_model\\logistic.py:432: FutureWarning: Default solver will be changed to 'lbfgs' in 0.22. Specify a solver to silence this warning.\n",
      "  FutureWarning)\n",
      "C:\\Users\\PURUSHOTHAMAN MURVAS\\Anaconda3\\lib\\site-packages\\sklearn\\linear_model\\logistic.py:432: FutureWarning: Default solver will be changed to 'lbfgs' in 0.22. Specify a solver to silence this warning.\n",
      "  FutureWarning)\n",
      "C:\\Users\\PURUSHOTHAMAN MURVAS\\Anaconda3\\lib\\site-packages\\sklearn\\linear_model\\logistic.py:432: FutureWarning: Default solver will be changed to 'lbfgs' in 0.22. Specify a solver to silence this warning.\n",
      "  FutureWarning)\n",
      "C:\\Users\\PURUSHOTHAMAN MURVAS\\Anaconda3\\lib\\site-packages\\sklearn\\linear_model\\logistic.py:432: FutureWarning: Default solver will be changed to 'lbfgs' in 0.22. Specify a solver to silence this warning.\n",
      "  FutureWarning)\n",
      "C:\\Users\\PURUSHOTHAMAN MURVAS\\Anaconda3\\lib\\site-packages\\sklearn\\linear_model\\logistic.py:432: FutureWarning: Default solver will be changed to 'lbfgs' in 0.22. Specify a solver to silence this warning.\n",
      "  FutureWarning)\n",
      "C:\\Users\\PURUSHOTHAMAN MURVAS\\Anaconda3\\lib\\site-packages\\sklearn\\linear_model\\logistic.py:432: FutureWarning: Default solver will be changed to 'lbfgs' in 0.22. Specify a solver to silence this warning.\n",
      "  FutureWarning)\n"
     ]
    },
    {
     "name": "stderr",
     "output_type": "stream",
     "text": [
      "C:\\Users\\PURUSHOTHAMAN MURVAS\\Anaconda3\\lib\\site-packages\\sklearn\\linear_model\\logistic.py:432: FutureWarning: Default solver will be changed to 'lbfgs' in 0.22. Specify a solver to silence this warning.\n",
      "  FutureWarning)\n",
      "C:\\Users\\PURUSHOTHAMAN MURVAS\\Anaconda3\\lib\\site-packages\\sklearn\\linear_model\\logistic.py:432: FutureWarning: Default solver will be changed to 'lbfgs' in 0.22. Specify a solver to silence this warning.\n",
      "  FutureWarning)\n",
      "C:\\Users\\PURUSHOTHAMAN MURVAS\\Anaconda3\\lib\\site-packages\\sklearn\\linear_model\\logistic.py:432: FutureWarning: Default solver will be changed to 'lbfgs' in 0.22. Specify a solver to silence this warning.\n",
      "  FutureWarning)\n",
      "C:\\Users\\PURUSHOTHAMAN MURVAS\\Anaconda3\\lib\\site-packages\\sklearn\\linear_model\\logistic.py:432: FutureWarning: Default solver will be changed to 'lbfgs' in 0.22. Specify a solver to silence this warning.\n",
      "  FutureWarning)\n",
      "C:\\Users\\PURUSHOTHAMAN MURVAS\\Anaconda3\\lib\\site-packages\\sklearn\\linear_model\\logistic.py:432: FutureWarning: Default solver will be changed to 'lbfgs' in 0.22. Specify a solver to silence this warning.\n",
      "  FutureWarning)\n"
     ]
    },
    {
     "name": "stdout",
     "output_type": "stream",
     "text": [
      "Best parameters: {'C': 0.1, 'penalty': 'l2'}\n",
      "Best cross-validation score: 0.7876\n"
     ]
    },
    {
     "name": "stderr",
     "output_type": "stream",
     "text": [
      "C:\\Users\\PURUSHOTHAMAN MURVAS\\Anaconda3\\lib\\site-packages\\sklearn\\linear_model\\logistic.py:432: FutureWarning: Default solver will be changed to 'lbfgs' in 0.22. Specify a solver to silence this warning.\n",
      "  FutureWarning)\n",
      "C:\\Users\\PURUSHOTHAMAN MURVAS\\Anaconda3\\lib\\site-packages\\sklearn\\linear_model\\logistic.py:432: FutureWarning: Default solver will be changed to 'lbfgs' in 0.22. Specify a solver to silence this warning.\n",
      "  FutureWarning)\n",
      "C:\\Users\\PURUSHOTHAMAN MURVAS\\Anaconda3\\lib\\site-packages\\sklearn\\linear_model\\logistic.py:432: FutureWarning: Default solver will be changed to 'lbfgs' in 0.22. Specify a solver to silence this warning.\n",
      "  FutureWarning)\n",
      "C:\\Users\\PURUSHOTHAMAN MURVAS\\Anaconda3\\lib\\site-packages\\sklearn\\linear_model\\logistic.py:432: FutureWarning: Default solver will be changed to 'lbfgs' in 0.22. Specify a solver to silence this warning.\n",
      "  FutureWarning)\n"
     ]
    }
   ],
   "source": [
    "from sklearn.linear_model import LogisticRegression\n",
    "\n",
    "param_grid_svm = {'C': [0.01, 0.1, 1, 10, 100], 'penalty':['l1','l2']}\n",
    "grid_search = GridSearchCV(LogisticRegression(), param_grid_svm, cv=5, return_train_score=True)\n",
    "grid_search.fit(X_train_class, y_train)\n",
    "print(\"Best parameters: {}\".format(grid_search.best_params_))\n",
    "print(\"Best cross-validation score: {:.4f}\".format(grid_search.best_score_))"
   ]
  },
  {
   "cell_type": "markdown",
   "metadata": {},
   "source": [
    "##### Building the mdoel on the best parameter "
   ]
  },
  {
   "cell_type": "code",
   "execution_count": 79,
   "metadata": {
    "scrolled": true
   },
   "outputs": [
    {
     "name": "stdout",
     "output_type": "stream",
     "text": [
      "Train score on best parameters for Logistic Regression model 0.7914\n",
      "Test score on best parameters for Logistic Regression model 0.7791\n"
     ]
    },
    {
     "name": "stderr",
     "output_type": "stream",
     "text": [
      "C:\\Users\\PURUSHOTHAMAN MURVAS\\Anaconda3\\lib\\site-packages\\sklearn\\linear_model\\logistic.py:432: FutureWarning: Default solver will be changed to 'lbfgs' in 0.22. Specify a solver to silence this warning.\n",
      "  FutureWarning)\n"
     ]
    }
   ],
   "source": [
    "lg = LogisticRegression(C=0.1,penalty='l2').fit(X_train_class, y_train)\n",
    "print('Train score on best parameters for Logistic Regression model {:.4f}'.format(lg.score(X_train_class,y_train)))\n",
    "print('Test score on best parameters for Logistic Regression model {:.4f}'.format(lg.score(X_test_class,y_test)))"
   ]
  },
  {
   "cell_type": "markdown",
   "metadata": {},
   "source": [
    "### F1 Score for Model 2 - Logistic Regression"
   ]
  },
  {
   "cell_type": "code",
   "execution_count": 80,
   "metadata": {},
   "outputs": [
    {
     "name": "stdout",
     "output_type": "stream",
     "text": [
      "F1 Score for Model 2 - Logistic Regression on training set 0.7914\n",
      "F1 Score for Model 2 - Logistic Regression on test set 0.7791\n"
     ]
    }
   ],
   "source": [
    "from sklearn.metrics import f1_score\n",
    "print(\"F1 Score for Model 2 - Logistic Regression on training set {:.4f}\".format(f1_score(y_train,lg.predict(X_train_class) , average='micro')))\n",
    "print(\"F1 Score for Model 2 - Logistic Regression on test set {:.4f}\".format(f1_score(y_test,lg.predict(X_test_class) , average='micro')))"
   ]
  },
  {
   "cell_type": "code",
   "execution_count": 81,
   "metadata": {},
   "outputs": [],
   "source": [
    "post_pca_class.loc[len(post_pca_class)]=[2,'Logistic Model',grid_search.best_params_,lg.score(X_train_class,y_train),lg.score(X_test_class,y_test)]"
   ]
  },
  {
   "cell_type": "code",
   "execution_count": 82,
   "metadata": {},
   "outputs": [
    {
     "data": {
      "text/html": [
       "<div>\n",
       "<style scoped>\n",
       "    .dataframe tbody tr th:only-of-type {\n",
       "        vertical-align: middle;\n",
       "    }\n",
       "\n",
       "    .dataframe tbody tr th {\n",
       "        vertical-align: top;\n",
       "    }\n",
       "\n",
       "    .dataframe thead th {\n",
       "        text-align: right;\n",
       "    }\n",
       "</style>\n",
       "<table border=\"1\" class=\"dataframe\">\n",
       "  <thead>\n",
       "    <tr style=\"text-align: right;\">\n",
       "      <th></th>\n",
       "      <th>S.No</th>\n",
       "      <th>Model_Name</th>\n",
       "      <th>Parameters</th>\n",
       "      <th>Train_Score</th>\n",
       "      <th>Test_Score</th>\n",
       "    </tr>\n",
       "  </thead>\n",
       "  <tbody>\n",
       "    <tr>\n",
       "      <th>0</th>\n",
       "      <td>1</td>\n",
       "      <td>KNN Classifier</td>\n",
       "      <td>n_neighbors: 19</td>\n",
       "      <td>0.790231</td>\n",
       "      <td>0.754685</td>\n",
       "    </tr>\n",
       "    <tr>\n",
       "      <th>1</th>\n",
       "      <td>2</td>\n",
       "      <td>Logistic Model</td>\n",
       "      <td>{'C': 0.1, 'penalty': 'l2'}</td>\n",
       "      <td>0.791367</td>\n",
       "      <td>0.779103</td>\n",
       "    </tr>\n",
       "  </tbody>\n",
       "</table>\n",
       "</div>"
      ],
      "text/plain": [
       "  S.No      Model_Name                   Parameters  Train_Score  Test_Score\n",
       "0    1  KNN Classifier              n_neighbors: 19     0.790231    0.754685\n",
       "1    2  Logistic Model  {'C': 0.1, 'penalty': 'l2'}     0.791367    0.779103"
      ]
     },
     "execution_count": 82,
     "metadata": {},
     "output_type": "execute_result"
    }
   ],
   "source": [
    "post_pca_class"
   ]
  },
  {
   "cell_type": "markdown",
   "metadata": {},
   "source": [
    "##### Confusion matrix for the model "
   ]
  },
  {
   "cell_type": "code",
   "execution_count": 120,
   "metadata": {},
   "outputs": [
    {
     "name": "stdout",
     "output_type": "stream",
     "text": [
      "Confusion matrix for test:\n",
      "[[1151  147]\n",
      " [ 242  221]]\n",
      "Confusion matrix for train:\n",
      "[[3436  440]\n",
      " [ 662  744]]\n"
     ]
    },
    {
     "data": {
      "text/plain": [
       "<matplotlib.axes._subplots.AxesSubplot at 0x25c0e1f6080>"
      ]
     },
     "execution_count": 120,
     "metadata": {},
     "output_type": "execute_result"
    },
    {
     "data": {
      "text/plain": [
       "<Figure size 288x216 with 0 Axes>"
      ]
     },
     "metadata": {},
     "output_type": "display_data"
    },
    {
     "data": {
      "image/png": "[encoded data removed]",
      "text/plain": [
       "<Figure size 748.8x514.8 with 4 Axes>"
      ]
     },
     "metadata": {},
     "output_type": "display_data"
    }
   ],
   "source": [
    "import seaborn as sns\n",
    "from sklearn.metrics import confusion_matrix\n",
    "pred_logreg_test = lg.predict(X_test_class)\n",
    "pred_logreg_train = lg.predict(X_train_class)\n",
    "confusion_test = confusion_matrix(y_test, pred_logreg_test)\n",
    "confusion_train = confusion_matrix(y_train, pred_logreg_train)\n",
    "plt.figure(figsize=(4, 3))\n",
    "f,(ax1,ax2) = plt.subplots(1,2,sharey=True)\n",
    "ax1.set_title(\"Confusion matrix for test\")\n",
    "ax2.set_title(\"Confusion matrix for train\")\n",
    "print(\"Confusion matrix for test:\\n{}\".format(confusion_test))\n",
    "sns.heatmap(confusion_test, annot=True,fmt='d',square=True,ax=ax1)\n",
    "print(\"Confusion matrix for train:\\n{}\".format(confusion_train))\n",
    "sns.heatmap(confusion_train, annot=True,fmt='d',square=True,ax=ax2)"
   ]
  },
  {
   "cell_type": "code",
   "execution_count": 121,
   "metadata": {},
   "outputs": [
    {
     "name": "stdout",
     "output_type": "stream",
     "text": [
      "              precision    recall  f1-score   support\n",
      "\n",
      "     Churn 0       0.83      0.89      0.86      1298\n",
      "     Churn 1       0.60      0.48      0.53       463\n",
      "\n",
      "    accuracy                           0.78      1761\n",
      "   macro avg       0.71      0.68      0.69      1761\n",
      "weighted avg       0.77      0.78      0.77      1761\n",
      "\n"
     ]
    }
   ],
   "source": [
    "from sklearn.metrics import classification_report\n",
    "print(classification_report(y_test, pred_logreg_test, target_names=[\"Churn 0\", \"Churn 1\"]))"
   ]
  },
  {
   "cell_type": "markdown",
   "metadata": {},
   "source": [
    "### Model 3 - Support Vector Machine Classifier "
   ]
  },
  {
   "cell_type": "markdown",
   "metadata": {},
   "source": [
    "##### Grid Search to find the best parameters "
   ]
  },
  {
   "cell_type": "code",
   "execution_count": 118,
   "metadata": {},
   "outputs": [
    {
     "name": "stdout",
     "output_type": "stream",
     "text": [
      "Best parameters: {'C': 1, 'degree': 1, 'gamma': 0.1}\n",
      "Best cross-validation score: 0.78\n",
      "Test set score: 0.78\n"
     ]
    }
   ],
   "source": [
    "from sklearn.svm import SVC\n",
    "from sklearn.svm import LinearSVC\n",
    "param_grid = {'C': [0.1, 1, 10, 100],\n",
    "              'gamma': [0.1, 1, 10, 100], 'degree':[1,3,5]}\n",
    "\n",
    "grid_search = GridSearchCV(SVC(),param_grid, cv=5, return_train_score=True)\n",
    "grid_search.fit(X_train_class, y_train)\n",
    "\n",
    "print(\"Best parameters: {}\".format(grid_search.best_params_))\n",
    "print(\"Best cross-validation score: {:.2f}\".format(grid_search.best_score_))\n",
    "print(\"Test set score: {:.2f}\".format(grid_search.score(X_test_class, y_test)))"
   ]
  },
  {
   "cell_type": "markdown",
   "metadata": {},
   "source": [
    "##### Building the model for different kernels in  SVC "
   ]
  },
  {
   "cell_type": "code",
   "execution_count": 122,
   "metadata": {},
   "outputs": [
    {
     "name": "stderr",
     "output_type": "stream",
     "text": [
      "C:\\Users\\PURUSHOTHAMAN MURVAS\\Anaconda3\\lib\\site-packages\\sklearn\\svm\\base.py:193: FutureWarning: The default value of gamma will change from 'auto' to 'scale' in version 0.22 to account better for unscaled features. Set gamma explicitly to 'auto' or 'scale' to avoid this warning.\n",
      "  \"avoid this warning.\", FutureWarning)\n"
     ]
    },
    {
     "name": "stdout",
     "output_type": "stream",
     "text": [
      "Train score on best parameters for LinearSVC - 0.7900\n",
      "Test score on best parameters ffor LinearSVC - 0.7791\n",
      "Train score on best parameters for SVC kernel - Linear 0.7864\n",
      "Test score on best parameters for SVC kernel - Linear 0.7740\n",
      "Train score on best parameters for SVC kernel - rbf 0.8050\n",
      "Test score on best parameters for SVC kernel - rbf 0.7785\n",
      "Train score on best parameters for SVC kernel - poly 0.7880\n",
      "Test score on best parameters for SVC kernel - poly 0.7785\n"
     ]
    }
   ],
   "source": [
    "clf1 = LinearSVC(C=1).fit(X_train_class, y_train)\n",
    "clf2 = SVC(kernel='linear', C=1).fit(X_train_class, y_train)\n",
    "clf3 = SVC(kernel='rbf', gamma=0.1, C=1).fit(X_train_class, y_train)\n",
    "clf4 = SVC(kernel='poly', degree=1, C=1).fit(X_train_class, y_train)\n",
    "print('Train score on best parameters for LinearSVC - {:.4f}'.format(clf1.score(X_train_class, y_train)))\n",
    "print('Test score on best parameters ffor LinearSVC - {:.4f}'.format(clf1.score(X_test_class,y_test)))\n",
    "\n",
    "print('Train score on best parameters for SVC kernel - Linear {:.4f}'.format(clf2.score(X_train_class,y_train)))\n",
    "print('Test score on best parameters for SVC kernel - Linear {:.4f}'.format(clf2.score(X_test_class,y_test)))\n",
    "\n",
    "print('Train score on best parameters for SVC kernel - rbf {:.4f}'.format(clf3.score(X_train_class,y_train)))\n",
    "print('Test score on best parameters for SVC kernel - rbf {:.4f}'.format(clf3.score(X_test_class,y_test)))\n",
    "\n",
    "print('Train score on best parameters for SVC kernel - poly {:.4f}'.format(clf4.score(X_train_class,y_train)))\n",
    "print('Test score on best parameters for SVC kernel - poly {:.4f}'.format(clf4.score(X_test_class,y_test)))"
   ]
  },
  {
   "cell_type": "markdown",
   "metadata": {},
   "source": [
    "### F1 Score for Model 3 - Support Vector Machine Classifier"
   ]
  },
  {
   "cell_type": "code",
   "execution_count": 123,
   "metadata": {},
   "outputs": [
    {
     "name": "stdout",
     "output_type": "stream",
     "text": [
      "F1 Score for LinearSVC on training set 0.7900\n",
      "F1 Score for LinearSVC on test set 0.7791\n",
      "F1 Score for SVC kernel - Linear on training set 0.7864\n",
      "F1 Score for SVC kernel - Linear on test set 0.7740\n",
      "F1 Score for SVC kernel - rbf on training set 0.8050\n",
      "F1 Score for SVC kernel - rbf on test set 0.7785\n",
      "F1 Score for SVC kernel - poly on training set 0.7880\n",
      "F1 Score for SVC kernel - poly on test set 0.7785\n"
     ]
    }
   ],
   "source": [
    "from sklearn.metrics import f1_score\n",
    "\n",
    "print(\"F1 Score for LinearSVC on training set {:.4f}\".format(f1_score(y_train,clf1.predict(X_train_class) , average='micro')))\n",
    "print(\"F1 Score for LinearSVC on test set {:.4f}\".format(f1_score(y_test,clf1.predict(X_test_class) , average='micro')))\n",
    "\n",
    "print(\"F1 Score for SVC kernel - Linear on training set {:.4f}\".format(f1_score(y_train,clf2.predict(X_train_class) , average='micro')))\n",
    "print(\"F1 Score for SVC kernel - Linear on test set {:.4f}\".format(f1_score(y_test,clf2.predict(X_test_class) , average='micro')))\n",
    "\n",
    "print(\"F1 Score for SVC kernel - rbf on training set {:.4f}\".format(f1_score(y_train,clf3.predict(X_train_class) , average='micro')))\n",
    "print(\"F1 Score for SVC kernel - rbf on test set {:.4f}\".format(f1_score(y_test,clf3.predict(X_test_class) , average='micro')))\n",
    "\n",
    "print(\"F1 Score for SVC kernel - poly on training set {:.4f}\".format(f1_score(y_train,clf4.predict(X_train_class) , average='micro')))\n",
    "print(\"F1 Score for SVC kernel - poly on test set {:.4f}\".format(f1_score(y_test,clf4.predict(X_test_class) , average='micro')))"
   ]
  },
  {
   "cell_type": "markdown",
   "metadata": {},
   "source": [
    "##### Vizualizing the scores of various kernelized SVM "
   ]
  },
  {
   "cell_type": "code",
   "execution_count": 124,
   "metadata": {},
   "outputs": [
    {
     "data": {
      "image/png": "[encoded data removed]",
      "text/plain": [
       "<Figure size 720x360 with 1 Axes>"
      ]
     },
     "metadata": {},
     "output_type": "display_data"
    }
   ],
   "source": [
    "fig, ax = plt.subplots(figsize=(10,5))\n",
    "width = 0.3\n",
    "plt.xlabel('SVC')\n",
    "plt.ylabel('Accuracy')\n",
    "labels = ['Training LinearSVC','Test LinearSVC','Training SVC kernel - Linear','Test SVC kernel - Linear','Training SVC kernel - rbf',\n",
    "          'Test SVC kernel - rbf','Training SVC kernel - poly','Test SVC kernel - poly']\n",
    "labels1 = ['Training LinearSVC','Test LinearSVC','Training SVC kernel - Linear','Test SVC kernel - Linear','Training SVC kernel - rbf',\n",
    "          'Test SVC kernel - rbf','Training SVC kernel - poly','Test SVC kernel - poly']\n",
    "list_ticks = [0,.3,1,1.3,2,2.3,3,3.3]\n",
    "ax.set_xticks(list_ticks)\n",
    "for j in range(0,4,1) :\n",
    "    ax.set_xticklabels(labels,rotation=90)\n",
    "    ax.set_xticklabels(labels1,rotation=90)\n",
    "accuracies_train=[79,78,80,78]\n",
    "accuracies_test=[77,77,77,77]\n",
    "for i in range(0,4,1) :\n",
    "    ax.bar(i,accuracies_train[i],width)\n",
    "    ax.bar(i+width,accuracies_test[i],width)\n",
    "plt.grid()"
   ]
  },
  {
   "cell_type": "code",
   "execution_count": 125,
   "metadata": {},
   "outputs": [],
   "source": [
    "post_pca_class.loc[len(post_pca_class)]=[3,'Linear SVC',grid_search.best_params_,clf1.score(X_train_class, y_train),clf1.score(X_test_class, y_test)]\n",
    "post_pca_class.loc[len(post_pca_class)]=[4,'SVC Kernel- Linear',grid_search.best_params_,clf2.score(X_train_class, y_train),clf2.score(X_test_class, y_test)]\n",
    "post_pca_class.loc[len(post_pca_class)]=[5,'SVC Kernel - RBF',grid_search.best_params_,clf3.score(X_train_class, y_train),clf3.score(X_test_class, y_test)]\n",
    "post_pca_class.loc[len(post_pca_class)]=[6,'SVC Kernal - Polynomial',grid_search.best_params_,clf4.score(X_train_class, y_train),clf4.score(X_test_class, y_test)]"
   ]
  },
  {
   "cell_type": "code",
   "execution_count": 126,
   "metadata": {},
   "outputs": [
    {
     "data": {
      "text/html": [
       "<div>\n",
       "<style scoped>\n",
       "    .dataframe tbody tr th:only-of-type {\n",
       "        vertical-align: middle;\n",
       "    }\n",
       "\n",
       "    .dataframe tbody tr th {\n",
       "        vertical-align: top;\n",
       "    }\n",
       "\n",
       "    .dataframe thead th {\n",
       "        text-align: right;\n",
       "    }\n",
       "</style>\n",
       "<table border=\"1\" class=\"dataframe\">\n",
       "  <thead>\n",
       "    <tr style=\"text-align: right;\">\n",
       "      <th></th>\n",
       "      <th>S.No</th>\n",
       "      <th>Model_Name</th>\n",
       "      <th>Parameters</th>\n",
       "      <th>Train_Score</th>\n",
       "      <th>Test_Score</th>\n",
       "    </tr>\n",
       "  </thead>\n",
       "  <tbody>\n",
       "    <tr>\n",
       "      <th>0</th>\n",
       "      <td>1</td>\n",
       "      <td>KNN Classifier</td>\n",
       "      <td>n_neighbors: 19</td>\n",
       "      <td>0.790231</td>\n",
       "      <td>0.754685</td>\n",
       "    </tr>\n",
       "    <tr>\n",
       "      <th>1</th>\n",
       "      <td>2</td>\n",
       "      <td>Logistic Model</td>\n",
       "      <td>{'C': 0.1, 'penalty': 'l2'}</td>\n",
       "      <td>0.791367</td>\n",
       "      <td>0.779103</td>\n",
       "    </tr>\n",
       "    <tr>\n",
       "      <th>2</th>\n",
       "      <td>3</td>\n",
       "      <td>Linear SVC</td>\n",
       "      <td>{'C': 1, 'degree': 1, 'gamma': 0.1}</td>\n",
       "      <td>0.790042</td>\n",
       "      <td>0.779103</td>\n",
       "    </tr>\n",
       "    <tr>\n",
       "      <th>3</th>\n",
       "      <td>4</td>\n",
       "      <td>SVC Kernel- Linear</td>\n",
       "      <td>{'C': 1, 'degree': 1, 'gamma': 0.1}</td>\n",
       "      <td>0.786445</td>\n",
       "      <td>0.773992</td>\n",
       "    </tr>\n",
       "    <tr>\n",
       "      <th>4</th>\n",
       "      <td>5</td>\n",
       "      <td>SVC Kernel - RBF</td>\n",
       "      <td>{'C': 1, 'degree': 1, 'gamma': 0.1}</td>\n",
       "      <td>0.804998</td>\n",
       "      <td>0.778535</td>\n",
       "    </tr>\n",
       "    <tr>\n",
       "      <th>5</th>\n",
       "      <td>6</td>\n",
       "      <td>SVC Kernal - Polynomial</td>\n",
       "      <td>{'C': 1, 'degree': 1, 'gamma': 0.1}</td>\n",
       "      <td>0.787959</td>\n",
       "      <td>0.778535</td>\n",
       "    </tr>\n",
       "  </tbody>\n",
       "</table>\n",
       "</div>"
      ],
      "text/plain": [
       "  S.No               Model_Name                           Parameters  \\\n",
       "0    1           KNN Classifier                      n_neighbors: 19   \n",
       "1    2           Logistic Model          {'C': 0.1, 'penalty': 'l2'}   \n",
       "2    3               Linear SVC  {'C': 1, 'degree': 1, 'gamma': 0.1}   \n",
       "3    4       SVC Kernel- Linear  {'C': 1, 'degree': 1, 'gamma': 0.1}   \n",
       "4    5         SVC Kernel - RBF  {'C': 1, 'degree': 1, 'gamma': 0.1}   \n",
       "5    6  SVC Kernal - Polynomial  {'C': 1, 'degree': 1, 'gamma': 0.1}   \n",
       "\n",
       "   Train_Score  Test_Score  \n",
       "0     0.790231    0.754685  \n",
       "1     0.791367    0.779103  \n",
       "2     0.790042    0.779103  \n",
       "3     0.786445    0.773992  \n",
       "4     0.804998    0.778535  \n",
       "5     0.787959    0.778535  "
      ]
     },
     "execution_count": 126,
     "metadata": {},
     "output_type": "execute_result"
    }
   ],
   "source": [
    "post_pca_class"
   ]
  },
  {
   "cell_type": "markdown",
   "metadata": {},
   "source": [
    "###  Model 4 - Decision Tree Classifier"
   ]
  },
  {
   "cell_type": "markdown",
   "metadata": {},
   "source": [
    "##### Grid search to find best parameters for the model"
   ]
  },
  {
   "cell_type": "code",
   "execution_count": 127,
   "metadata": {},
   "outputs": [
    {
     "name": "stdout",
     "output_type": "stream",
     "text": [
      "Best parameters: {'max_depth': 2}\n",
      "Best cross-validation score: 0.7702\n"
     ]
    }
   ],
   "source": [
    "param_grid = {'max_depth': np.arange(1, 10)}\n",
    "grid_search.fit(X_train_class, y_train)\n",
    "grid_search = GridSearchCV(DecisionTreeClassifier(), param_grid, cv=5, return_train_score=True)\n",
    "grid_search.fit(X_train_class, y_train)\n",
    "print(\"Best parameters: {}\".format(grid_search.best_params_))\n",
    "print(\"Best cross-validation score: {:.4f}\".format(grid_search.best_score_))"
   ]
  },
  {
   "cell_type": "markdown",
   "metadata": {},
   "source": [
    "#####  Building the model on best parameters"
   ]
  },
  {
   "cell_type": "code",
   "execution_count": 128,
   "metadata": {},
   "outputs": [
    {
     "name": "stdout",
     "output_type": "stream",
     "text": [
      "Accuracy on training set: 0.7764\n",
      "Accuracy on test set: 0.7626\n"
     ]
    }
   ],
   "source": [
    "dtree = DecisionTreeClassifier(max_depth=2, random_state=0)\n",
    "dtree.fit(X_train_class, y_train)\n",
    "\n",
    "print(\"Accuracy on training set: {:.4f}\".format(dtree.score(X_train_class, y_train)))\n",
    "print(\"Accuracy on test set: {:.4f}\".format(dtree.score(X_test_class, y_test)))"
   ]
  },
  {
   "cell_type": "markdown",
   "metadata": {},
   "source": [
    "### F1 Score for Model 4 - Decision Tree Classifier"
   ]
  },
  {
   "cell_type": "code",
   "execution_count": 129,
   "metadata": {},
   "outputs": [
    {
     "name": "stdout",
     "output_type": "stream",
     "text": [
      "F1 Score for Model 4 - Decision Tree Classifier on training set 0.7764\n",
      "F1 Score for Model 4 - Decision Tree Classifier on test set 0.7626\n"
     ]
    }
   ],
   "source": [
    "from sklearn.metrics import f1_score\n",
    "print(\"F1 Score for Model 4 - Decision Tree Classifier on training set {:.4f}\".format(f1_score(y_train,dtree.predict(X_train_class) , average='micro')))\n",
    "print(\"F1 Score for Model 4 - Decision Tree Classifier on test set {:.4f}\".format(f1_score(y_test,dtree.predict(X_test_class) , average='micro')))"
   ]
  },
  {
   "cell_type": "code",
   "execution_count": 130,
   "metadata": {},
   "outputs": [],
   "source": [
    "post_pca_class.loc[len(post_pca_class)]=[7,'Decision tree Classifier',grid_search.best_params_,dtree.score(X_train_class, y_train),dtree.score(X_test_class, y_test)]"
   ]
  },
  {
   "cell_type": "code",
   "execution_count": 131,
   "metadata": {},
   "outputs": [
    {
     "data": {
      "text/html": [
       "<div>\n",
       "<style scoped>\n",
       "    .dataframe tbody tr th:only-of-type {\n",
       "        vertical-align: middle;\n",
       "    }\n",
       "\n",
       "    .dataframe tbody tr th {\n",
       "        vertical-align: top;\n",
       "    }\n",
       "\n",
       "    .dataframe thead th {\n",
       "        text-align: right;\n",
       "    }\n",
       "</style>\n",
       "<table border=\"1\" class=\"dataframe\">\n",
       "  <thead>\n",
       "    <tr style=\"text-align: right;\">\n",
       "      <th></th>\n",
       "      <th>S.No</th>\n",
       "      <th>Model_Name</th>\n",
       "      <th>Parameters</th>\n",
       "      <th>Train_Score</th>\n",
       "      <th>Test_Score</th>\n",
       "    </tr>\n",
       "  </thead>\n",
       "  <tbody>\n",
       "    <tr>\n",
       "      <th>0</th>\n",
       "      <td>1</td>\n",
       "      <td>KNN Classifier</td>\n",
       "      <td>n_neighbors: 19</td>\n",
       "      <td>0.790231</td>\n",
       "      <td>0.754685</td>\n",
       "    </tr>\n",
       "    <tr>\n",
       "      <th>1</th>\n",
       "      <td>2</td>\n",
       "      <td>Logistic Model</td>\n",
       "      <td>{'C': 0.1, 'penalty': 'l2'}</td>\n",
       "      <td>0.791367</td>\n",
       "      <td>0.779103</td>\n",
       "    </tr>\n",
       "    <tr>\n",
       "      <th>2</th>\n",
       "      <td>3</td>\n",
       "      <td>Linear SVC</td>\n",
       "      <td>{'C': 1, 'degree': 1, 'gamma': 0.1}</td>\n",
       "      <td>0.790042</td>\n",
       "      <td>0.779103</td>\n",
       "    </tr>\n",
       "    <tr>\n",
       "      <th>3</th>\n",
       "      <td>4</td>\n",
       "      <td>SVC Kernel- Linear</td>\n",
       "      <td>{'C': 1, 'degree': 1, 'gamma': 0.1}</td>\n",
       "      <td>0.786445</td>\n",
       "      <td>0.773992</td>\n",
       "    </tr>\n",
       "    <tr>\n",
       "      <th>4</th>\n",
       "      <td>5</td>\n",
       "      <td>SVC Kernel - RBF</td>\n",
       "      <td>{'C': 1, 'degree': 1, 'gamma': 0.1}</td>\n",
       "      <td>0.804998</td>\n",
       "      <td>0.778535</td>\n",
       "    </tr>\n",
       "    <tr>\n",
       "      <th>5</th>\n",
       "      <td>6</td>\n",
       "      <td>SVC Kernal - Polynomial</td>\n",
       "      <td>{'C': 1, 'degree': 1, 'gamma': 0.1}</td>\n",
       "      <td>0.787959</td>\n",
       "      <td>0.778535</td>\n",
       "    </tr>\n",
       "    <tr>\n",
       "      <th>6</th>\n",
       "      <td>7</td>\n",
       "      <td>Decision tree Classifier</td>\n",
       "      <td>{'max_depth': 2}</td>\n",
       "      <td>0.776410</td>\n",
       "      <td>0.762635</td>\n",
       "    </tr>\n",
       "  </tbody>\n",
       "</table>\n",
       "</div>"
      ],
      "text/plain": [
       "  S.No                Model_Name                           Parameters  \\\n",
       "0    1            KNN Classifier                      n_neighbors: 19   \n",
       "1    2            Logistic Model          {'C': 0.1, 'penalty': 'l2'}   \n",
       "2    3                Linear SVC  {'C': 1, 'degree': 1, 'gamma': 0.1}   \n",
       "3    4        SVC Kernel- Linear  {'C': 1, 'degree': 1, 'gamma': 0.1}   \n",
       "4    5          SVC Kernel - RBF  {'C': 1, 'degree': 1, 'gamma': 0.1}   \n",
       "5    6   SVC Kernal - Polynomial  {'C': 1, 'degree': 1, 'gamma': 0.1}   \n",
       "6    7  Decision tree Classifier                     {'max_depth': 2}   \n",
       "\n",
       "   Train_Score  Test_Score  \n",
       "0     0.790231    0.754685  \n",
       "1     0.791367    0.779103  \n",
       "2     0.790042    0.779103  \n",
       "3     0.786445    0.773992  \n",
       "4     0.804998    0.778535  \n",
       "5     0.787959    0.778535  \n",
       "6     0.776410    0.762635  "
      ]
     },
     "execution_count": 131,
     "metadata": {},
     "output_type": "execute_result"
    }
   ],
   "source": [
    "post_pca_class"
   ]
  },
  {
   "cell_type": "code",
   "execution_count": 5,
   "metadata": {},
   "outputs": [
    {
     "data": {
      "text/plain": [
       "Text(0, 0.5, 'AccuracyScore')"
      ]
     },
     "execution_count": 5,
     "metadata": {},
     "output_type": "execute_result"
    },
    {
     "data": {
      "image/png": "[encoded data removed]",
      "text/plain": [
       "<Figure size 1440x720 with 1 Axes>"
      ]
     },
     "metadata": {
      "needs_background": "light"
     },
     "output_type": "display_data"
    }
   ],
   "source": [
    "import pandas as pd\n",
    "import matplotlib.pyplot as plt\n",
    "from matplotlib.pyplot import figure\n",
    "Trainscore = [0.7902,0.7913,0.7900,0.7864,0.8049,0.7879,0.7764]\n",
    "Testscore  = [0.7546,0.7791,0.7791,0.7739,0.7785,0.7785,0.7626]\n",
    "#plt.figure(figsize=(15,5))\n",
    "index = ['KNN','Logistic','LinearSVC','SVC kernel - Linear','SVC kernel - rbf','SVC kernel - poly','Decision Tree']\n",
    "df = pd.DataFrame({'Train Score': Trainscore,\n",
    "                   'Test Score': Testscore}, index=index)\n",
    "\n",
    "ax = df.plot.bar(rot=0,figsize=(20,10),grid=True)\n",
    "plt.xlabel(\"ML Classification Models\")\n",
    "plt.ylabel(\"AccuracyScore\")\n"
   ]
  },
  {
   "cell_type": "markdown",
   "metadata": {},
   "source": [
    "###  Comparing accuracies for Classification models before and after PCA"
   ]
  },
  {
   "cell_type": "code",
   "execution_count": 132,
   "metadata": {},
   "outputs": [],
   "source": [
    "# Index Levels\n",
    "outside = ['Before PCA(Project 1)','Before PCA(Project 1)','After PCA(Project 2)','After PCA(Project 2)']\n",
    "inside = ['Training Accuracy','Test Accuracy','Training Accuracy','Test Accuracy']\n",
    "hier_index = list(zip(outside,inside))\n",
    "hier_index = pd.MultiIndex.from_tuples(hier_index)"
   ]
  },
  {
   "cell_type": "code",
   "execution_count": 133,
   "metadata": {},
   "outputs": [],
   "source": [
    "data_class = np.array([(0.80,0.79,0.79,0.79,0.80,0.79,0.79),\n",
    "                     (0.76,0.78,0.78,0.78,0.79,0.78,0.78),\n",
    "                     (0.79,0.79,0.79,0.78,0.80,0.78,0.77),\n",
    "                     (0.75,0.77,0.77,0.77,0.77,0.77,0.76)])"
   ]
  },
  {
   "cell_type": "code",
   "execution_count": 134,
   "metadata": {},
   "outputs": [],
   "source": [
    "df = pd.DataFrame(data_class,index=hier_index,columns=['KNN','Logistic','LinearSVC','SVC kernel - Linear','SVC kernel - rbf','SVC kernel - poly','Decision Tree'])\n"
   ]
  },
  {
   "cell_type": "code",
   "execution_count": 135,
   "metadata": {
    "scrolled": true
   },
   "outputs": [
    {
     "data": {
      "text/html": [
       "<style  type=\"text/css\" >\n",
       "    #T_cc80b8d8_2cff_11eb_b987_e470b8388591row0_col0 {\n",
       "            background-color:  #006837;\n",
       "            color:  #f1f1f1;\n",
       "        }    #T_cc80b8d8_2cff_11eb_b987_e470b8388591row0_col1 {\n",
       "            background-color:  #006837;\n",
       "            color:  #f1f1f1;\n",
       "        }    #T_cc80b8d8_2cff_11eb_b987_e470b8388591row0_col2 {\n",
       "            background-color:  #006837;\n",
       "            color:  #f1f1f1;\n",
       "        }    #T_cc80b8d8_2cff_11eb_b987_e470b8388591row0_col3 {\n",
       "            background-color:  #006837;\n",
       "            color:  #f1f1f1;\n",
       "        }    #T_cc80b8d8_2cff_11eb_b987_e470b8388591row0_col4 {\n",
       "            background-color:  #006837;\n",
       "            color:  #f1f1f1;\n",
       "        }    #T_cc80b8d8_2cff_11eb_b987_e470b8388591row0_col5 {\n",
       "            background-color:  #006837;\n",
       "            color:  #f1f1f1;\n",
       "        }    #T_cc80b8d8_2cff_11eb_b987_e470b8388591row0_col6 {\n",
       "            background-color:  #006837;\n",
       "            color:  #f1f1f1;\n",
       "        }    #T_cc80b8d8_2cff_11eb_b987_e470b8388591row1_col0 {\n",
       "            background-color:  #f46d43;\n",
       "            color:  #000000;\n",
       "        }    #T_cc80b8d8_2cff_11eb_b987_e470b8388591row1_col1 {\n",
       "            background-color:  #feffbe;\n",
       "            color:  #000000;\n",
       "        }    #T_cc80b8d8_2cff_11eb_b987_e470b8388591row1_col2 {\n",
       "            background-color:  #feffbe;\n",
       "            color:  #000000;\n",
       "        }    #T_cc80b8d8_2cff_11eb_b987_e470b8388591row1_col3 {\n",
       "            background-color:  #feffbe;\n",
       "            color:  #000000;\n",
       "        }    #T_cc80b8d8_2cff_11eb_b987_e470b8388591row1_col4 {\n",
       "            background-color:  #b7e075;\n",
       "            color:  #000000;\n",
       "        }    #T_cc80b8d8_2cff_11eb_b987_e470b8388591row1_col5 {\n",
       "            background-color:  #feffbe;\n",
       "            color:  #000000;\n",
       "        }    #T_cc80b8d8_2cff_11eb_b987_e470b8388591row1_col6 {\n",
       "            background-color:  #b7e075;\n",
       "            color:  #000000;\n",
       "        }    #T_cc80b8d8_2cff_11eb_b987_e470b8388591row2_col0 {\n",
       "            background-color:  #66bd63;\n",
       "            color:  #000000;\n",
       "        }    #T_cc80b8d8_2cff_11eb_b987_e470b8388591row2_col1 {\n",
       "            background-color:  #006837;\n",
       "            color:  #f1f1f1;\n",
       "        }    #T_cc80b8d8_2cff_11eb_b987_e470b8388591row2_col2 {\n",
       "            background-color:  #006837;\n",
       "            color:  #f1f1f1;\n",
       "        }    #T_cc80b8d8_2cff_11eb_b987_e470b8388591row2_col3 {\n",
       "            background-color:  #feffbe;\n",
       "            color:  #000000;\n",
       "        }    #T_cc80b8d8_2cff_11eb_b987_e470b8388591row2_col4 {\n",
       "            background-color:  #006837;\n",
       "            color:  #f1f1f1;\n",
       "        }    #T_cc80b8d8_2cff_11eb_b987_e470b8388591row2_col5 {\n",
       "            background-color:  #feffbe;\n",
       "            color:  #000000;\n",
       "        }    #T_cc80b8d8_2cff_11eb_b987_e470b8388591row2_col6 {\n",
       "            background-color:  #fdbf6f;\n",
       "            color:  #000000;\n",
       "        }    #T_cc80b8d8_2cff_11eb_b987_e470b8388591row3_col0 {\n",
       "            background-color:  #a50026;\n",
       "            color:  #f1f1f1;\n",
       "        }    #T_cc80b8d8_2cff_11eb_b987_e470b8388591row3_col1 {\n",
       "            background-color:  #a50026;\n",
       "            color:  #f1f1f1;\n",
       "        }    #T_cc80b8d8_2cff_11eb_b987_e470b8388591row3_col2 {\n",
       "            background-color:  #a50026;\n",
       "            color:  #f1f1f1;\n",
       "        }    #T_cc80b8d8_2cff_11eb_b987_e470b8388591row3_col3 {\n",
       "            background-color:  #a50026;\n",
       "            color:  #f1f1f1;\n",
       "        }    #T_cc80b8d8_2cff_11eb_b987_e470b8388591row3_col4 {\n",
       "            background-color:  #a50026;\n",
       "            color:  #f1f1f1;\n",
       "        }    #T_cc80b8d8_2cff_11eb_b987_e470b8388591row3_col5 {\n",
       "            background-color:  #a50026;\n",
       "            color:  #f1f1f1;\n",
       "        }    #T_cc80b8d8_2cff_11eb_b987_e470b8388591row3_col6 {\n",
       "            background-color:  #a50026;\n",
       "            color:  #f1f1f1;\n",
       "        }</style><table id=\"T_cc80b8d8_2cff_11eb_b987_e470b8388591\" ><thead>    <tr>        <th class=\"blank\" ></th>        <th class=\"blank level0\" ></th>        <th class=\"col_heading level0 col0\" >KNN</th>        <th class=\"col_heading level0 col1\" >Logistic</th>        <th class=\"col_heading level0 col2\" >LinearSVC</th>        <th class=\"col_heading level0 col3\" >SVC kernel - Linear</th>        <th class=\"col_heading level0 col4\" >SVC kernel - rbf</th>        <th class=\"col_heading level0 col5\" >SVC kernel - poly</th>        <th class=\"col_heading level0 col6\" >Decision Tree</th>    </tr></thead><tbody>\n",
       "                <tr>\n",
       "                        <th id=\"T_cc80b8d8_2cff_11eb_b987_e470b8388591level0_row0\" class=\"row_heading level0 row0\" rowspan=2>Before PCA(Project 1)</th>\n",
       "                        <th id=\"T_cc80b8d8_2cff_11eb_b987_e470b8388591level1_row0\" class=\"row_heading level1 row0\" >Training Accuracy</th>\n",
       "                        <td id=\"T_cc80b8d8_2cff_11eb_b987_e470b8388591row0_col0\" class=\"data row0 col0\" >0.8</td>\n",
       "                        <td id=\"T_cc80b8d8_2cff_11eb_b987_e470b8388591row0_col1\" class=\"data row0 col1\" >0.79</td>\n",
       "                        <td id=\"T_cc80b8d8_2cff_11eb_b987_e470b8388591row0_col2\" class=\"data row0 col2\" >0.79</td>\n",
       "                        <td id=\"T_cc80b8d8_2cff_11eb_b987_e470b8388591row0_col3\" class=\"data row0 col3\" >0.79</td>\n",
       "                        <td id=\"T_cc80b8d8_2cff_11eb_b987_e470b8388591row0_col4\" class=\"data row0 col4\" >0.8</td>\n",
       "                        <td id=\"T_cc80b8d8_2cff_11eb_b987_e470b8388591row0_col5\" class=\"data row0 col5\" >0.79</td>\n",
       "                        <td id=\"T_cc80b8d8_2cff_11eb_b987_e470b8388591row0_col6\" class=\"data row0 col6\" >0.79</td>\n",
       "            </tr>\n",
       "            <tr>\n",
       "                                <th id=\"T_cc80b8d8_2cff_11eb_b987_e470b8388591level1_row1\" class=\"row_heading level1 row1\" >Test Accuracy</th>\n",
       "                        <td id=\"T_cc80b8d8_2cff_11eb_b987_e470b8388591row1_col0\" class=\"data row1 col0\" >0.76</td>\n",
       "                        <td id=\"T_cc80b8d8_2cff_11eb_b987_e470b8388591row1_col1\" class=\"data row1 col1\" >0.78</td>\n",
       "                        <td id=\"T_cc80b8d8_2cff_11eb_b987_e470b8388591row1_col2\" class=\"data row1 col2\" >0.78</td>\n",
       "                        <td id=\"T_cc80b8d8_2cff_11eb_b987_e470b8388591row1_col3\" class=\"data row1 col3\" >0.78</td>\n",
       "                        <td id=\"T_cc80b8d8_2cff_11eb_b987_e470b8388591row1_col4\" class=\"data row1 col4\" >0.79</td>\n",
       "                        <td id=\"T_cc80b8d8_2cff_11eb_b987_e470b8388591row1_col5\" class=\"data row1 col5\" >0.78</td>\n",
       "                        <td id=\"T_cc80b8d8_2cff_11eb_b987_e470b8388591row1_col6\" class=\"data row1 col6\" >0.78</td>\n",
       "            </tr>\n",
       "            <tr>\n",
       "                        <th id=\"T_cc80b8d8_2cff_11eb_b987_e470b8388591level0_row2\" class=\"row_heading level0 row2\" rowspan=2>After PCA(Project 2)</th>\n",
       "                        <th id=\"T_cc80b8d8_2cff_11eb_b987_e470b8388591level1_row2\" class=\"row_heading level1 row2\" >Training Accuracy</th>\n",
       "                        <td id=\"T_cc80b8d8_2cff_11eb_b987_e470b8388591row2_col0\" class=\"data row2 col0\" >0.79</td>\n",
       "                        <td id=\"T_cc80b8d8_2cff_11eb_b987_e470b8388591row2_col1\" class=\"data row2 col1\" >0.79</td>\n",
       "                        <td id=\"T_cc80b8d8_2cff_11eb_b987_e470b8388591row2_col2\" class=\"data row2 col2\" >0.79</td>\n",
       "                        <td id=\"T_cc80b8d8_2cff_11eb_b987_e470b8388591row2_col3\" class=\"data row2 col3\" >0.78</td>\n",
       "                        <td id=\"T_cc80b8d8_2cff_11eb_b987_e470b8388591row2_col4\" class=\"data row2 col4\" >0.8</td>\n",
       "                        <td id=\"T_cc80b8d8_2cff_11eb_b987_e470b8388591row2_col5\" class=\"data row2 col5\" >0.78</td>\n",
       "                        <td id=\"T_cc80b8d8_2cff_11eb_b987_e470b8388591row2_col6\" class=\"data row2 col6\" >0.77</td>\n",
       "            </tr>\n",
       "            <tr>\n",
       "                                <th id=\"T_cc80b8d8_2cff_11eb_b987_e470b8388591level1_row3\" class=\"row_heading level1 row3\" >Test Accuracy</th>\n",
       "                        <td id=\"T_cc80b8d8_2cff_11eb_b987_e470b8388591row3_col0\" class=\"data row3 col0\" >0.75</td>\n",
       "                        <td id=\"T_cc80b8d8_2cff_11eb_b987_e470b8388591row3_col1\" class=\"data row3 col1\" >0.77</td>\n",
       "                        <td id=\"T_cc80b8d8_2cff_11eb_b987_e470b8388591row3_col2\" class=\"data row3 col2\" >0.77</td>\n",
       "                        <td id=\"T_cc80b8d8_2cff_11eb_b987_e470b8388591row3_col3\" class=\"data row3 col3\" >0.77</td>\n",
       "                        <td id=\"T_cc80b8d8_2cff_11eb_b987_e470b8388591row3_col4\" class=\"data row3 col4\" >0.77</td>\n",
       "                        <td id=\"T_cc80b8d8_2cff_11eb_b987_e470b8388591row3_col5\" class=\"data row3 col5\" >0.77</td>\n",
       "                        <td id=\"T_cc80b8d8_2cff_11eb_b987_e470b8388591row3_col6\" class=\"data row3 col6\" >0.76</td>\n",
       "            </tr>\n",
       "    </tbody></table>"
      ],
      "text/plain": [
       "<pandas.io.formats.style.Styler at 0x25c0e7bada0>"
      ]
     },
     "execution_count": 135,
     "metadata": {},
     "output_type": "execute_result"
    }
   ],
   "source": [
    "import seaborn as sns\n",
    "\n",
    "cm = sns.light_palette(\"#2ecc71\", as_cmap=True)\n",
    "\n",
    "s = df.style.background_gradient(cmap='RdYlGn')\n",
    "s"
   ]
  },
  {
   "cell_type": "markdown",
   "metadata": {},
   "source": [
    "## Does PCA help in getting better results?\n",
    "\n",
    "1. Before PCA in Project 1, the best model was the SVC Kernal - RBF with Train score of 0.80 and Test score of 0.79\n",
    "2. After PCA, we do not see anything better than the Project 1 models. Infact, the model performance have reduced after PCA.\n",
    "3. The number of features have been reduced to 19 from 46. But this does not help us to get better results. \n"
   ]
  },
  {
   "cell_type": "markdown",
   "metadata": {},
   "source": [
    "# Task 6 - Deep Learning Models"
   ]
  },
  {
   "cell_type": "code",
   "execution_count": 140,
   "metadata": {},
   "outputs": [],
   "source": [
    "import tensorflow as tf\n",
    "from tensorflow import keras\n",
    "from tensorflow.keras import Sequential\n",
    "from tensorflow.keras.layers import Dense\n",
    "from keras.wrappers.scikit_learn import KerasClassifier"
   ]
  },
  {
   "cell_type": "markdown",
   "metadata": {},
   "source": [
    "## Single Layer Perceptron"
   ]
  },
  {
   "cell_type": "code",
   "execution_count": 141,
   "metadata": {},
   "outputs": [],
   "source": [
    "def create_model():\n",
    "    #step 1: build model\n",
    "    model = Sequential()\n",
    "    #input layer\n",
    "    model.add(Dense(12, input_dim = 46, activation = 'relu'))\n",
    "    #hidden layers\n",
    "    #output layer\n",
    "    model.add(Dense(1, activation = 'sigmoid'))\n",
    "    #step 2: make computational graph - compile\n",
    "    model.compile(loss= 'binary_crossentropy' , optimizer = 'adam',metrics = ['accuracy'] )\n",
    "    return model"
   ]
  },
  {
   "cell_type": "code",
   "execution_count": 142,
   "metadata": {},
   "outputs": [],
   "source": [
    "seed = 10\n",
    "np.random.seed(10)"
   ]
  },
  {
   "cell_type": "code",
   "execution_count": 143,
   "metadata": {},
   "outputs": [],
   "source": [
    "from sklearn.model_selection import GridSearchCV\n",
    "\n",
    "model = KerasClassifier(build_fn = create_model, verbose = 0)\n",
    "\n",
    "param_grid = {'batch_size':[10,30,40] , 'epochs':[50, 100]}\n",
    "grid_search = GridSearchCV(estimator= model, param_grid = param_grid, cv = 5)"
   ]
  },
  {
   "cell_type": "code",
   "execution_count": 144,
   "metadata": {},
   "outputs": [],
   "source": [
    "grid_search_result = grid_search.fit(X_train, y_train)"
   ]
  },
  {
   "cell_type": "code",
   "execution_count": 145,
   "metadata": {},
   "outputs": [
    {
     "name": "stdout",
     "output_type": "stream",
     "text": [
      "Best parameters: {'batch_size': 10, 'epochs': 50}\n",
      "Best cross-validation score: 0.78\n"
     ]
    }
   ],
   "source": [
    "print(\"Best parameters: {}\".format(grid_search.best_params_))\n",
    "print(\"Best cross-validation score: {:.2f}\".format(grid_search.best_score_))"
   ]
  },
  {
   "cell_type": "code",
   "execution_count": 146,
   "metadata": {},
   "outputs": [],
   "source": [
    "#step 1: build model\n",
    "model1 = Sequential()\n",
    "#input layer\n",
    "model1.add(Dense(12, input_dim = 46, activation = 'relu'))\n",
    "#hidden layers\n",
    "#output layer\n",
    "model1.add(Dense(1, activation = 'sigmoid'))\n",
    "#step 2: make computational graph - compile\n",
    "model1.compile(loss= 'binary_crossentropy' , optimizer = 'adam',metrics = ['accuracy'] )"
   ]
  },
  {
   "cell_type": "code",
   "execution_count": 147,
   "metadata": {},
   "outputs": [
    {
     "name": "stdout",
     "output_type": "stream",
     "text": [
      "Epoch 1/100\n",
      "177/177 [==============================] - 0s 723us/step - loss: 0.5568 - accuracy: 0.6952\n",
      "Epoch 2/100\n",
      "177/177 [==============================] - 0s 671us/step - loss: 0.4514 - accuracy: 0.7836\n",
      "Epoch 3/100\n",
      "177/177 [==============================] - 0s 678us/step - loss: 0.4375 - accuracy: 0.7866\n",
      "Epoch 4/100\n",
      "177/177 [==============================] - 0s 706us/step - loss: 0.4315 - accuracy: 0.7902\n",
      "Epoch 5/100\n",
      "177/177 [==============================] - 0s 710us/step - loss: 0.4284 - accuracy: 0.7870\n",
      "Epoch 6/100\n",
      "177/177 [==============================] - 0s 654us/step - loss: 0.4272 - accuracy: 0.7906\n",
      "Epoch 7/100\n",
      "177/177 [==============================] - 0s 666us/step - loss: 0.4253 - accuracy: 0.7910\n",
      "Epoch 8/100\n",
      "177/177 [==============================] - 0s 685us/step - loss: 0.4258 - accuracy: 0.7916\n",
      "Epoch 9/100\n",
      "177/177 [==============================] - 0s 694us/step - loss: 0.4241 - accuracy: 0.7925\n",
      "Epoch 10/100\n",
      "177/177 [==============================] - 0s 736us/step - loss: 0.4237 - accuracy: 0.7916\n",
      "Epoch 11/100\n",
      "177/177 [==============================] - 0s 713us/step - loss: 0.4230 - accuracy: 0.7900\n",
      "Epoch 12/100\n",
      "177/177 [==============================] - 0s 710us/step - loss: 0.4224 - accuracy: 0.7906\n",
      "Epoch 13/100\n",
      "177/177 [==============================] - 0s 723us/step - loss: 0.4221 - accuracy: 0.7934\n",
      "Epoch 14/100\n",
      "177/177 [==============================] - 0s 735us/step - loss: 0.4209 - accuracy: 0.7938\n",
      "Epoch 15/100\n",
      "177/177 [==============================] - 0s 691us/step - loss: 0.4203 - accuracy: 0.7955\n",
      "Epoch 16/100\n",
      "177/177 [==============================] - 0s 703us/step - loss: 0.4204 - accuracy: 0.7934\n",
      "Epoch 17/100\n",
      "177/177 [==============================] - 0s 702us/step - loss: 0.4186 - accuracy: 0.7963\n",
      "Epoch 18/100\n",
      "177/177 [==============================] - 0s 716us/step - loss: 0.4190 - accuracy: 0.7969\n",
      "Epoch 19/100\n",
      "177/177 [==============================] - 0s 686us/step - loss: 0.4188 - accuracy: 0.7959\n",
      "Epoch 20/100\n",
      "177/177 [==============================] - 0s 716us/step - loss: 0.4180 - accuracy: 0.7953\n",
      "Epoch 21/100\n",
      "177/177 [==============================] - 0s 731us/step - loss: 0.4180 - accuracy: 0.7978\n",
      "Epoch 22/100\n",
      "177/177 [==============================] - 0s 687us/step - loss: 0.4169 - accuracy: 0.7965\n",
      "Epoch 23/100\n",
      "177/177 [==============================] - 0s 700us/step - loss: 0.4168 - accuracy: 0.7980\n",
      "Epoch 24/100\n",
      "177/177 [==============================] - 0s 700us/step - loss: 0.4158 - accuracy: 0.8006\n",
      "Epoch 25/100\n",
      "177/177 [==============================] - 0s 731us/step - loss: 0.4159 - accuracy: 0.7963\n",
      "Epoch 26/100\n",
      "177/177 [==============================] - 0s 703us/step - loss: 0.4158 - accuracy: 0.7991\n",
      "Epoch 27/100\n",
      "177/177 [==============================] - 0s 676us/step - loss: 0.4153 - accuracy: 0.7991\n",
      "Epoch 28/100\n",
      "177/177 [==============================] - 0s 715us/step - loss: 0.4140 - accuracy: 0.8031\n",
      "Epoch 29/100\n",
      "177/177 [==============================] - 0s 714us/step - loss: 0.4135 - accuracy: 0.7970\n",
      "Epoch 30/100\n",
      "177/177 [==============================] - 0s 694us/step - loss: 0.4139 - accuracy: 0.7972\n",
      "Epoch 31/100\n",
      "177/177 [==============================] - 0s 667us/step - loss: 0.4125 - accuracy: 0.7997\n",
      "Epoch 32/100\n",
      "177/177 [==============================] - 0s 661us/step - loss: 0.4130 - accuracy: 0.8008\n",
      "Epoch 33/100\n",
      "177/177 [==============================] - 0s 685us/step - loss: 0.4123 - accuracy: 0.8006\n",
      "Epoch 34/100\n",
      "177/177 [==============================] - 0s 755us/step - loss: 0.4122 - accuracy: 0.7980\n",
      "Epoch 35/100\n",
      "177/177 [==============================] - 0s 707us/step - loss: 0.4113 - accuracy: 0.8020\n",
      "Epoch 36/100\n",
      "177/177 [==============================] - 0s 703us/step - loss: 0.4110 - accuracy: 0.7993\n",
      "Epoch 37/100\n",
      "177/177 [==============================] - 0s 695us/step - loss: 0.4105 - accuracy: 0.8023\n",
      "Epoch 38/100\n",
      "177/177 [==============================] - 0s 701us/step - loss: 0.4099 - accuracy: 0.7991\n",
      "Epoch 39/100\n",
      "177/177 [==============================] - 0s 709us/step - loss: 0.4105 - accuracy: 0.8014\n",
      "Epoch 40/100\n",
      "177/177 [==============================] - 0s 691us/step - loss: 0.4093 - accuracy: 0.7984\n",
      "Epoch 41/100\n",
      "177/177 [==============================] - 0s 756us/step - loss: 0.4087 - accuracy: 0.8031\n",
      "Epoch 42/100\n",
      "177/177 [==============================] - 0s 667us/step - loss: 0.4096 - accuracy: 0.8020\n",
      "Epoch 43/100\n",
      "177/177 [==============================] - 0s 890us/step - loss: 0.4088 - accuracy: 0.7993\n",
      "Epoch 44/100\n",
      "177/177 [==============================] - 0s 651us/step - loss: 0.4079 - accuracy: 0.7997\n",
      "Epoch 45/100\n",
      "177/177 [==============================] - 0s 708us/step - loss: 0.4078 - accuracy: 0.8020\n",
      "Epoch 46/100\n",
      "177/177 [==============================] - 0s 840us/step - loss: 0.4086 - accuracy: 0.8027\n",
      "Epoch 47/100\n",
      "177/177 [==============================] - 0s 840us/step - loss: 0.4080 - accuracy: 0.8018\n",
      "Epoch 48/100\n",
      "177/177 [==============================] - 0s 703us/step - loss: 0.4079 - accuracy: 0.8029\n",
      "Epoch 49/100\n",
      "177/177 [==============================] - 0s 800us/step - loss: 0.4070 - accuracy: 0.8006\n",
      "Epoch 50/100\n",
      "177/177 [==============================] - 0s 725us/step - loss: 0.4069 - accuracy: 0.8001\n",
      "Epoch 51/100\n",
      "177/177 [==============================] - 0s 674us/step - loss: 0.4060 - accuracy: 0.8044\n",
      "Epoch 52/100\n",
      "177/177 [==============================] - 0s 565us/step - loss: 0.4058 - accuracy: 0.7999\n",
      "Epoch 53/100\n",
      "177/177 [==============================] - 0s 793us/step - loss: 0.4069 - accuracy: 0.8012\n",
      "Epoch 54/100\n",
      "177/177 [==============================] - 0s 817us/step - loss: 0.4060 - accuracy: 0.7999\n",
      "Epoch 55/100\n",
      "177/177 [==============================] - 0s 705us/step - loss: 0.4054 - accuracy: 0.8012\n",
      "Epoch 56/100\n",
      "177/177 [==============================] - 0s 714us/step - loss: 0.4051 - accuracy: 0.8012\n",
      "Epoch 57/100\n",
      "177/177 [==============================] - 0s 765us/step - loss: 0.4039 - accuracy: 0.8025\n",
      "Epoch 58/100\n",
      "177/177 [==============================] - 0s 738us/step - loss: 0.4047 - accuracy: 0.8058\n",
      "Epoch 59/100\n",
      "177/177 [==============================] - 0s 734us/step - loss: 0.4046 - accuracy: 0.8003\n",
      "Epoch 60/100\n",
      "177/177 [==============================] - 0s 815us/step - loss: 0.4043 - accuracy: 0.8031\n",
      "Epoch 61/100\n",
      "177/177 [==============================] - 0s 681us/step - loss: 0.4044 - accuracy: 0.8018\n",
      "Epoch 62/100\n",
      "177/177 [==============================] - 0s 698us/step - loss: 0.4040 - accuracy: 0.8008\n",
      "Epoch 63/100\n",
      "177/177 [==============================] - 0s 712us/step - loss: 0.4034 - accuracy: 0.8014\n",
      "Epoch 64/100\n",
      "177/177 [==============================] - 0s 683us/step - loss: 0.4033 - accuracy: 0.7991\n",
      "Epoch 65/100\n",
      "177/177 [==============================] - 0s 772us/step - loss: 0.4031 - accuracy: 0.8023\n",
      "Epoch 66/100\n",
      "177/177 [==============================] - 0s 751us/step - loss: 0.4034 - accuracy: 0.8022\n",
      "Epoch 67/100\n",
      "177/177 [==============================] - 0s 784us/step - loss: 0.4031 - accuracy: 0.8018\n",
      "Epoch 68/100\n",
      "177/177 [==============================] - 0s 694us/step - loss: 0.4027 - accuracy: 0.8023\n",
      "Epoch 69/100\n",
      "177/177 [==============================] - 0s 804us/step - loss: 0.4029 - accuracy: 0.8020\n",
      "Epoch 70/100\n",
      "177/177 [==============================] - 0s 913us/step - loss: 0.4028 - accuracy: 0.8025\n",
      "Epoch 71/100\n",
      "177/177 [==============================] - 0s 784us/step - loss: 0.4017 - accuracy: 0.8031\n",
      "Epoch 72/100\n",
      "177/177 [==============================] - 0s 634us/step - loss: 0.4025 - accuracy: 0.8029\n",
      "Epoch 73/100\n",
      "177/177 [==============================] - 0s 741us/step - loss: 0.4020 - accuracy: 0.8033\n",
      "Epoch 74/100\n",
      "177/177 [==============================] - 0s 649us/step - loss: 0.4017 - accuracy: 0.8022\n",
      "Epoch 75/100\n",
      "177/177 [==============================] - 0s 692us/step - loss: 0.4024 - accuracy: 0.8041\n",
      "Epoch 76/100\n",
      "177/177 [==============================] - 0s 752us/step - loss: 0.4018 - accuracy: 0.8027\n",
      "Epoch 77/100\n",
      "177/177 [==============================] - 0s 625us/step - loss: 0.4020 - accuracy: 0.8039\n",
      "Epoch 78/100\n",
      "177/177 [==============================] - 0s 683us/step - loss: 0.4018 - accuracy: 0.8020\n",
      "Epoch 79/100\n",
      "177/177 [==============================] - 0s 703us/step - loss: 0.4012 - accuracy: 0.8035\n",
      "Epoch 80/100\n",
      "177/177 [==============================] - 0s 701us/step - loss: 0.4013 - accuracy: 0.8039\n",
      "Epoch 81/100\n",
      "177/177 [==============================] - 0s 674us/step - loss: 0.4012 - accuracy: 0.8012\n",
      "Epoch 82/100\n",
      "177/177 [==============================] - 0s 733us/step - loss: 0.4004 - accuracy: 0.8044\n",
      "Epoch 83/100\n",
      "177/177 [==============================] - 0s 759us/step - loss: 0.4007 - accuracy: 0.8029\n",
      "Epoch 84/100\n",
      "177/177 [==============================] - 0s 720us/step - loss: 0.4007 - accuracy: 0.8044\n",
      "Epoch 85/100\n",
      "177/177 [==============================] - 0s 673us/step - loss: 0.4021 - accuracy: 0.8025\n",
      "Epoch 86/100\n",
      "177/177 [==============================] - 0s 745us/step - loss: 0.4004 - accuracy: 0.8033\n",
      "Epoch 87/100\n",
      "177/177 [==============================] - 0s 728us/step - loss: 0.4003 - accuracy: 0.8014\n",
      "Epoch 88/100\n",
      "177/177 [==============================] - 0s 693us/step - loss: 0.4007 - accuracy: 0.8046\n",
      "Epoch 89/100\n",
      "177/177 [==============================] - 0s 975us/step - loss: 0.4012 - accuracy: 0.8037\n",
      "Epoch 90/100\n",
      "177/177 [==============================] - 0s 597us/step - loss: 0.4001 - accuracy: 0.8014\n",
      "Epoch 91/100\n",
      "177/177 [==============================] - 0s 639us/step - loss: 0.3991 - accuracy: 0.8025\n",
      "Epoch 92/100\n",
      "177/177 [==============================] - 0s 736us/step - loss: 0.4002 - accuracy: 0.8035\n",
      "Epoch 93/100\n",
      "177/177 [==============================] - 0s 643us/step - loss: 0.3993 - accuracy: 0.8044\n",
      "Epoch 94/100\n",
      "177/177 [==============================] - 0s 605us/step - loss: 0.3991 - accuracy: 0.8069\n",
      "Epoch 95/100\n",
      "177/177 [==============================] - 0s 589us/step - loss: 0.3990 - accuracy: 0.8046\n",
      "Epoch 96/100\n",
      "177/177 [==============================] - 0s 683us/step - loss: 0.3996 - accuracy: 0.8042\n",
      "Epoch 97/100\n",
      "177/177 [==============================] - 0s 703us/step - loss: 0.3990 - accuracy: 0.8052\n",
      "Epoch 98/100\n",
      "177/177 [==============================] - 0s 646us/step - loss: 0.3995 - accuracy: 0.8056\n",
      "Epoch 99/100\n",
      "177/177 [==============================] - 0s 652us/step - loss: 0.3990 - accuracy: 0.8037\n",
      "Epoch 100/100\n",
      "177/177 [==============================] - 0s 641us/step - loss: 0.3977 - accuracy: 0.8054\n"
     ]
    },
    {
     "data": {
      "text/plain": [
       "<tensorflow.python.keras.callbacks.History at 0x25c150e2978>"
      ]
     },
     "execution_count": 147,
     "metadata": {},
     "output_type": "execute_result"
    }
   ],
   "source": [
    "# Fit the model\n",
    "model1.fit(X_train, y_train.values, epochs=100, batch_size=30)"
   ]
  },
  {
   "cell_type": "markdown",
   "metadata": {},
   "source": [
    "### Evaluation Metrics"
   ]
  },
  {
   "cell_type": "code",
   "execution_count": 148,
   "metadata": {
    "scrolled": true
   },
   "outputs": [
    {
     "name": "stdout",
     "output_type": "stream",
     "text": [
      "  1/166 [..............................] - ETA: 0s - loss: 0.3828 - accuracy: 0.8438WARNING:tensorflow:Callbacks method `on_test_batch_end` is slow compared to the batch time (batch time: 0.0000s vs `on_test_batch_end` time: 0.0010s). Check your callbacks.\n",
      "166/166 [==============================] - 0s 587us/step - loss: 0.3965 - accuracy: 0.8061\n"
     ]
    },
    {
     "data": {
      "text/plain": [
       "[0.3965080976486206, 0.806134045124054]"
      ]
     },
     "execution_count": 148,
     "metadata": {},
     "output_type": "execute_result"
    }
   ],
   "source": [
    "model1.evaluate(X_train, y_train.values)"
   ]
  },
  {
   "cell_type": "code",
   "execution_count": 149,
   "metadata": {},
   "outputs": [
    {
     "name": "stdout",
     "output_type": "stream",
     "text": [
      "56/56 [==============================] - 0s 606us/step - loss: 0.4677 - accuracy: 0.7746\n"
     ]
    },
    {
     "data": {
      "text/plain": [
       "[0.46771541237831116, 0.7745599150657654]"
      ]
     },
     "execution_count": 149,
     "metadata": {},
     "output_type": "execute_result"
    }
   ],
   "source": [
    "model1.evaluate(X_test, y_test.values)"
   ]
  },
  {
   "cell_type": "markdown",
   "metadata": {},
   "source": [
    "#### Prediction Score"
   ]
  },
  {
   "cell_type": "code",
   "execution_count": 152,
   "metadata": {},
   "outputs": [],
   "source": [
    "train_pred=model1.predict_classes(X_train)\n",
    "pred=model1.predict_classes(X_test)"
   ]
  },
  {
   "cell_type": "code",
   "execution_count": 151,
   "metadata": {},
   "outputs": [
    {
     "name": "stdout",
     "output_type": "stream",
     "text": [
      "train 0.6499215070643642\n",
      "test 0.5833333333333334\n"
     ]
    }
   ],
   "source": [
    "from sklearn.metrics import precision_score\n",
    "print(\"train\",precision_score(y_train, train_pred))\n",
    "print(\"test\",precision_score(y_test,pred))"
   ]
  },
  {
   "cell_type": "markdown",
   "metadata": {},
   "source": [
    "# 2.Multi-Level Perceptron"
   ]
  },
  {
   "cell_type": "code",
   "execution_count": 153,
   "metadata": {},
   "outputs": [],
   "source": [
    "def create_model1():\n",
    "    #step 1: build model\n",
    "    model1 = Sequential()\n",
    "    #input layer\n",
    "    model1.add(Dense(30, input_dim = 46, activation = 'relu'))\n",
    "    #hidden layers\n",
    "    model1.add(Dense(20, activation = 'relu'))\n",
    "    model1.add(Dense(10, activation = 'relu'))\n",
    "    #output layer\n",
    "    model1.add(Dense(1, activation = 'sigmoid'))\n",
    "\n",
    "    #step 2: make computational graph - compile\n",
    "    model1.compile(loss= 'binary_crossentropy' , optimizer = 'adam',metrics = ['accuracy'] )\n",
    "    return model1"
   ]
  },
  {
   "cell_type": "code",
   "execution_count": 154,
   "metadata": {},
   "outputs": [],
   "source": [
    "from sklearn.model_selection import GridSearchCV\n",
    "\n",
    "model = KerasClassifier(build_fn = create_model, verbose = 0)\n",
    "\n",
    "param_grid = {'batch_size':[10,30,40] , 'epochs':[50, 100]}\n",
    "grid_search = GridSearchCV(estimator= model, param_grid = param_grid, cv = 5)"
   ]
  },
  {
   "cell_type": "code",
   "execution_count": 155,
   "metadata": {},
   "outputs": [],
   "source": [
    "grid_search_result = grid_search.fit(X_train, y_train)"
   ]
  },
  {
   "cell_type": "code",
   "execution_count": 156,
   "metadata": {},
   "outputs": [
    {
     "name": "stdout",
     "output_type": "stream",
     "text": [
      "Best parameters: {'batch_size': 40, 'epochs': 50}\n",
      "Best cross-validation score: 0.78\n"
     ]
    }
   ],
   "source": [
    "print(\"Best parameters: {}\".format(grid_search.best_params_))\n",
    "print(\"Best cross-validation score: {:.2f}\".format(grid_search.best_score_))"
   ]
  },
  {
   "cell_type": "code",
   "execution_count": 157,
   "metadata": {},
   "outputs": [],
   "source": [
    "#step 1: build model\n",
    "model1 = Sequential()\n",
    "#input layer\n",
    "model1.add(Dense(30, input_dim = 46, activation = 'relu'))\n",
    "#hidden layers\n",
    "model1.add(Dense(20, activation = 'relu'))\n",
    "model1.add(Dense(10, activation = 'relu'))\n",
    "#output layer\n",
    "model1.add(Dense(1, activation = 'sigmoid'))\n",
    "\n",
    "#step 2: make computational graph - compile\n",
    "model1.compile(loss= 'binary_crossentropy' , optimizer = 'adam',metrics = ['accuracy'] )"
   ]
  },
  {
   "cell_type": "code",
   "execution_count": 158,
   "metadata": {},
   "outputs": [
    {
     "name": "stdout",
     "output_type": "stream",
     "text": [
      "Epoch 1/100\n",
      "177/177 [==============================] - 0s 739us/step - loss: 0.4756 - accuracy: 0.7596\n",
      "Epoch 2/100\n",
      "177/177 [==============================] - 0s 795us/step - loss: 0.4346 - accuracy: 0.7847\n",
      "Epoch 3/100\n",
      "177/177 [==============================] - 0s 710us/step - loss: 0.4301 - accuracy: 0.7878\n",
      "Epoch 4/100\n",
      "177/177 [==============================] - 0s 738us/step - loss: 0.4249 - accuracy: 0.7929\n",
      "Epoch 5/100\n",
      "177/177 [==============================] - 0s 783us/step - loss: 0.4237 - accuracy: 0.7942\n",
      "Epoch 6/100\n",
      "177/177 [==============================] - 0s 774us/step - loss: 0.4202 - accuracy: 0.7967\n",
      "Epoch 7/100\n",
      "177/177 [==============================] - 0s 794us/step - loss: 0.4178 - accuracy: 0.7984\n",
      "Epoch 8/100\n",
      "177/177 [==============================] - 0s 721us/step - loss: 0.4160 - accuracy: 0.8005\n",
      "Epoch 9/100\n",
      "177/177 [==============================] - 0s 825us/step - loss: 0.4139 - accuracy: 0.79880s - loss: 0.4248 - accuracy: 0.\n",
      "Epoch 10/100\n",
      "177/177 [==============================] - 0s 806us/step - loss: 0.4137 - accuracy: 0.7997\n",
      "Epoch 11/100\n",
      "177/177 [==============================] - 0s 752us/step - loss: 0.4104 - accuracy: 0.8025\n",
      "Epoch 12/100\n",
      "177/177 [==============================] - 0s 787us/step - loss: 0.4088 - accuracy: 0.8006\n",
      "Epoch 13/100\n",
      "177/177 [==============================] - 0s 710us/step - loss: 0.4060 - accuracy: 0.8023\n",
      "Epoch 14/100\n",
      "177/177 [==============================] - 0s 795us/step - loss: 0.4043 - accuracy: 0.8065\n",
      "Epoch 15/100\n",
      "177/177 [==============================] - 0s 767us/step - loss: 0.4013 - accuracy: 0.8050\n",
      "Epoch 16/100\n",
      "177/177 [==============================] - 0s 788us/step - loss: 0.3995 - accuracy: 0.8080\n",
      "Epoch 17/100\n",
      "177/177 [==============================] - 0s 815us/step - loss: 0.3984 - accuracy: 0.8067\n",
      "Epoch 18/100\n",
      "177/177 [==============================] - 0s 778us/step - loss: 0.3965 - accuracy: 0.8120\n",
      "Epoch 19/100\n",
      "177/177 [==============================] - 0s 788us/step - loss: 0.3959 - accuracy: 0.8094\n",
      "Epoch 20/100\n",
      "177/177 [==============================] - 0s 784us/step - loss: 0.3944 - accuracy: 0.8092\n",
      "Epoch 21/100\n",
      "177/177 [==============================] - 0s 773us/step - loss: 0.3925 - accuracy: 0.8088\n",
      "Epoch 22/100\n",
      "177/177 [==============================] - 0s 757us/step - loss: 0.3895 - accuracy: 0.8131\n",
      "Epoch 23/100\n",
      "177/177 [==============================] - 0s 789us/step - loss: 0.3879 - accuracy: 0.8120\n",
      "Epoch 24/100\n",
      "177/177 [==============================] - 0s 853us/step - loss: 0.3862 - accuracy: 0.8128\n",
      "Epoch 25/100\n",
      "177/177 [==============================] - 0s 809us/step - loss: 0.3837 - accuracy: 0.8122\n",
      "Epoch 26/100\n",
      "177/177 [==============================] - 0s 786us/step - loss: 0.3825 - accuracy: 0.8156\n",
      "Epoch 27/100\n",
      "177/177 [==============================] - 0s 782us/step - loss: 0.3822 - accuracy: 0.8160\n",
      "Epoch 28/100\n",
      "177/177 [==============================] - 0s 765us/step - loss: 0.3781 - accuracy: 0.8171\n",
      "Epoch 29/100\n",
      "177/177 [==============================] - 0s 788us/step - loss: 0.3787 - accuracy: 0.8167\n",
      "Epoch 30/100\n",
      "177/177 [==============================] - 0s 793us/step - loss: 0.3781 - accuracy: 0.8167\n",
      "Epoch 31/100\n",
      "177/177 [==============================] - 0s 797us/step - loss: 0.3747 - accuracy: 0.8192\n",
      "Epoch 32/100\n",
      "177/177 [==============================] - 0s 754us/step - loss: 0.3743 - accuracy: 0.8217\n",
      "Epoch 33/100\n",
      "177/177 [==============================] - 0s 758us/step - loss: 0.3735 - accuracy: 0.8188\n",
      "Epoch 34/100\n",
      "177/177 [==============================] - 0s 826us/step - loss: 0.3716 - accuracy: 0.8220\n",
      "Epoch 35/100\n",
      "177/177 [==============================] - 0s 778us/step - loss: 0.3736 - accuracy: 0.8205\n",
      "Epoch 36/100\n",
      "177/177 [==============================] - 0s 729us/step - loss: 0.3685 - accuracy: 0.8260\n",
      "Epoch 37/100\n",
      "177/177 [==============================] - 0s 797us/step - loss: 0.3696 - accuracy: 0.8184\n",
      "Epoch 38/100\n",
      "177/177 [==============================] - 0s 840us/step - loss: 0.3695 - accuracy: 0.8203\n",
      "Epoch 39/100\n",
      "177/177 [==============================] - 0s 766us/step - loss: 0.3655 - accuracy: 0.8266\n",
      "Epoch 40/100\n",
      "177/177 [==============================] - 0s 778us/step - loss: 0.3654 - accuracy: 0.8224\n",
      "Epoch 41/100\n",
      "177/177 [==============================] - 0s 766us/step - loss: 0.3638 - accuracy: 0.8254\n",
      "Epoch 42/100\n",
      "177/177 [==============================] - 0s 768us/step - loss: 0.3647 - accuracy: 0.8253\n",
      "Epoch 43/100\n",
      "177/177 [==============================] - 0s 811us/step - loss: 0.3604 - accuracy: 0.8275\n",
      "Epoch 44/100\n",
      "177/177 [==============================] - 0s 787us/step - loss: 0.3605 - accuracy: 0.8249\n",
      "Epoch 45/100\n",
      "177/177 [==============================] - 0s 819us/step - loss: 0.3588 - accuracy: 0.8217\n",
      "Epoch 46/100\n",
      "177/177 [==============================] - 0s 752us/step - loss: 0.3587 - accuracy: 0.8245\n",
      "Epoch 47/100\n",
      "177/177 [==============================] - 0s 770us/step - loss: 0.3581 - accuracy: 0.8292\n",
      "Epoch 48/100\n",
      "177/177 [==============================] - 0s 779us/step - loss: 0.3562 - accuracy: 0.8262\n",
      "Epoch 49/100\n",
      "177/177 [==============================] - 0s 741us/step - loss: 0.3565 - accuracy: 0.8277\n",
      "Epoch 50/100\n",
      "177/177 [==============================] - 0s 777us/step - loss: 0.3562 - accuracy: 0.8260\n",
      "Epoch 51/100\n",
      "177/177 [==============================] - 0s 795us/step - loss: 0.3521 - accuracy: 0.8304\n",
      "Epoch 52/100\n",
      "177/177 [==============================] - 0s 716us/step - loss: 0.3505 - accuracy: 0.8332\n",
      "Epoch 53/100\n",
      "177/177 [==============================] - 0s 849us/step - loss: 0.3522 - accuracy: 0.8300\n",
      "Epoch 54/100\n",
      "177/177 [==============================] - 0s 717us/step - loss: 0.3489 - accuracy: 0.8330\n",
      "Epoch 55/100\n",
      "177/177 [==============================] - 0s 728us/step - loss: 0.3480 - accuracy: 0.8323\n",
      "Epoch 56/100\n",
      "177/177 [==============================] - 0s 734us/step - loss: 0.3462 - accuracy: 0.8311\n",
      "Epoch 57/100\n",
      "177/177 [==============================] - 0s 764us/step - loss: 0.3461 - accuracy: 0.8387\n",
      "Epoch 58/100\n",
      "177/177 [==============================] - 0s 777us/step - loss: 0.3461 - accuracy: 0.8347\n",
      "Epoch 59/100\n",
      "177/177 [==============================] - 0s 919us/step - loss: 0.3433 - accuracy: 0.8364\n",
      "Epoch 60/100\n",
      "177/177 [==============================] - 0s 759us/step - loss: 0.3412 - accuracy: 0.8374\n",
      "Epoch 61/100\n",
      "177/177 [==============================] - 0s 914us/step - loss: 0.3410 - accuracy: 0.8368\n",
      "Epoch 62/100\n",
      "177/177 [==============================] - 0s 634us/step - loss: 0.3415 - accuracy: 0.8357\n",
      "Epoch 63/100\n",
      "177/177 [==============================] - 0s 846us/step - loss: 0.3380 - accuracy: 0.8381\n",
      "Epoch 64/100\n",
      "177/177 [==============================] - 0s 818us/step - loss: 0.3356 - accuracy: 0.8427\n",
      "Epoch 65/100\n",
      "177/177 [==============================] - 0s 676us/step - loss: 0.3347 - accuracy: 0.8419\n",
      "Epoch 66/100\n",
      "177/177 [==============================] - 0s 935us/step - loss: 0.3351 - accuracy: 0.8446\n",
      "Epoch 67/100\n",
      "177/177 [==============================] - 0s 778us/step - loss: 0.3326 - accuracy: 0.8455\n",
      "Epoch 68/100\n",
      "177/177 [==============================] - 0s 740us/step - loss: 0.3313 - accuracy: 0.8449\n",
      "Epoch 69/100\n",
      "177/177 [==============================] - 0s 754us/step - loss: 0.3327 - accuracy: 0.8417\n",
      "Epoch 70/100\n",
      "177/177 [==============================] - 0s 896us/step - loss: 0.3314 - accuracy: 0.8451\n",
      "Epoch 71/100\n",
      "177/177 [==============================] - 0s 681us/step - loss: 0.3265 - accuracy: 0.8449\n",
      "Epoch 72/100\n",
      "177/177 [==============================] - 0s 688us/step - loss: 0.3279 - accuracy: 0.8461\n",
      "Epoch 73/100\n",
      "177/177 [==============================] - 0s 848us/step - loss: 0.3263 - accuracy: 0.8448\n",
      "Epoch 74/100\n",
      "177/177 [==============================] - 0s 1ms/step - loss: 0.3291 - accuracy: 0.8474\n",
      "Epoch 75/100\n",
      "177/177 [==============================] - 0s 658us/step - loss: 0.3259 - accuracy: 0.8444\n",
      "Epoch 76/100\n",
      "177/177 [==============================] - 0s 674us/step - loss: 0.3267 - accuracy: 0.8442\n",
      "Epoch 77/100\n",
      "177/177 [==============================] - 0s 893us/step - loss: 0.3213 - accuracy: 0.8470\n",
      "Epoch 78/100\n",
      "177/177 [==============================] - 0s 1ms/step - loss: 0.3201 - accuracy: 0.8453\n",
      "Epoch 79/100\n",
      "177/177 [==============================] - 0s 707us/step - loss: 0.3181 - accuracy: 0.8508\n",
      "Epoch 80/100\n",
      "177/177 [==============================] - 0s 747us/step - loss: 0.3182 - accuracy: 0.8485\n",
      "Epoch 81/100\n",
      "177/177 [==============================] - 0s 722us/step - loss: 0.3212 - accuracy: 0.8474\n",
      "Epoch 82/100\n",
      "177/177 [==============================] - ETA: 0s - loss: 0.3221 - accuracy: 0.84 - 0s 956us/step - loss: 0.3252 - accuracy: 0.8444\n",
      "Epoch 83/100\n",
      "177/177 [==============================] - 0s 766us/step - loss: 0.3193 - accuracy: 0.8495\n",
      "Epoch 84/100\n",
      "177/177 [==============================] - 0s 703us/step - loss: 0.3152 - accuracy: 0.8510\n",
      "Epoch 85/100\n",
      "177/177 [==============================] - 0s 715us/step - loss: 0.3125 - accuracy: 0.8550\n",
      "Epoch 86/100\n",
      "177/177 [==============================] - 0s 744us/step - loss: 0.3138 - accuracy: 0.8478\n",
      "Epoch 87/100\n",
      "177/177 [==============================] - 0s 776us/step - loss: 0.3128 - accuracy: 0.8510\n",
      "Epoch 88/100\n",
      "177/177 [==============================] - 0s 906us/step - loss: 0.3113 - accuracy: 0.8525\n",
      "Epoch 89/100\n",
      "177/177 [==============================] - 0s 762us/step - loss: 0.3086 - accuracy: 0.8546\n",
      "Epoch 90/100\n",
      "177/177 [==============================] - 0s 722us/step - loss: 0.3078 - accuracy: 0.8574\n",
      "Epoch 91/100\n",
      "177/177 [==============================] - 0s 754us/step - loss: 0.3095 - accuracy: 0.8538\n",
      "Epoch 92/100\n",
      "177/177 [==============================] - 0s 899us/step - loss: 0.3069 - accuracy: 0.8573\n",
      "Epoch 93/100\n",
      "177/177 [==============================] - 0s 913us/step - loss: 0.3082 - accuracy: 0.8595\n",
      "Epoch 94/100\n",
      "177/177 [==============================] - 0s 662us/step - loss: 0.3026 - accuracy: 0.8593\n",
      "Epoch 95/100\n",
      "177/177 [==============================] - 0s 748us/step - loss: 0.3030 - accuracy: 0.8603\n",
      "Epoch 96/100\n",
      "177/177 [==============================] - 0s 799us/step - loss: 0.3040 - accuracy: 0.8608\n",
      "Epoch 97/100\n",
      "177/177 [==============================] - 0s 697us/step - loss: 0.3004 - accuracy: 0.8586\n",
      "Epoch 98/100\n",
      "177/177 [==============================] - 0s 720us/step - loss: 0.3033 - accuracy: 0.8586\n",
      "Epoch 99/100\n",
      "177/177 [==============================] - 0s 769us/step - loss: 0.2992 - accuracy: 0.8618\n",
      "Epoch 100/100\n",
      "177/177 [==============================] - 0s 724us/step - loss: 0.3025 - accuracy: 0.8569\n"
     ]
    },
    {
     "data": {
      "text/plain": [
       "<tensorflow.python.keras.callbacks.History at 0x25c0e2e15c0>"
      ]
     },
     "execution_count": 158,
     "metadata": {},
     "output_type": "execute_result"
    }
   ],
   "source": [
    "# Fit the model\n",
    "model1.fit(X_train, y_train.values, epochs=100, batch_size=30)"
   ]
  },
  {
   "cell_type": "markdown",
   "metadata": {},
   "source": [
    "### Multi Layer Perceptron Evaluation Metrics"
   ]
  },
  {
   "cell_type": "code",
   "execution_count": 159,
   "metadata": {},
   "outputs": [
    {
     "name": "stdout",
     "output_type": "stream",
     "text": [
      "166/166 [==============================] - 0s 572us/step - loss: 0.2886 - accuracy: 0.8730\n"
     ]
    },
    {
     "data": {
      "text/plain": [
       "[0.2886224091053009, 0.8729647994041443]"
      ]
     },
     "execution_count": 159,
     "metadata": {},
     "output_type": "execute_result"
    }
   ],
   "source": [
    "model1.evaluate(X_train, y_train.values)"
   ]
  },
  {
   "cell_type": "code",
   "execution_count": 160,
   "metadata": {},
   "outputs": [
    {
     "name": "stdout",
     "output_type": "stream",
     "text": [
      " 1/56 [..............................] - ETA: 0s - loss: 0.4093 - accuracy: 0.7812WARNING:tensorflow:Callbacks method `on_test_batch_begin` is slow compared to the batch time (batch time: 0.0010s vs `on_test_batch_begin` time: 0.0020s). Check your callbacks.\n",
      "56/56 [==============================] - 0s 708us/step - loss: 0.6509 - accuracy: 0.7382\n"
     ]
    },
    {
     "data": {
      "text/plain": [
       "[0.6508732438087463, 0.7382169365882874]"
      ]
     },
     "execution_count": 160,
     "metadata": {},
     "output_type": "execute_result"
    }
   ],
   "source": [
    "model1.evaluate(X_test, y_test.values)"
   ]
  },
  {
   "cell_type": "markdown",
   "metadata": {},
   "source": [
    "### Multi Layer Perceptron Precision Scores"
   ]
  },
  {
   "cell_type": "code",
   "execution_count": 161,
   "metadata": {},
   "outputs": [],
   "source": [
    "train_pred=model1.predict_classes(X_train)\n",
    "pred=model1.predict_classes(X_test)"
   ]
  },
  {
   "cell_type": "code",
   "execution_count": 162,
   "metadata": {},
   "outputs": [
    {
     "name": "stdout",
     "output_type": "stream",
     "text": [
      "train 0.7511961722488039\n",
      "test 0.5020080321285141\n"
     ]
    }
   ],
   "source": [
    "print(\"train\",precision_score(y_train, train_pred))\n",
    "print(\"test\",precision_score(y_test,pred))"
   ]
  },
  {
   "cell_type": "code",
   "execution_count": 163,
   "metadata": {},
   "outputs": [
    {
     "name": "stdout",
     "output_type": "stream",
     "text": [
      "train 0.7816500711237553\n",
      "test 0.5399568034557235\n"
     ]
    }
   ],
   "source": [
    "from sklearn.metrics import recall_score\n",
    "print(\"train\",recall_score(y_train, train_pred))\n",
    "print(\"test\",recall_score(y_test,pred))"
   ]
  }
 ],
 "metadata": {
  "kernelspec": {
   "display_name": "Python 3",
   "language": "python",
   "name": "python3"
  },
  "language_info": {
   "codemirror_mode": {
    "name": "ipython",
    "version": 3
   },
   "file_extension": ".py",
   "mimetype": "text/x-python",
   "name": "python",
   "nbconvert_exporter": "python",
   "pygments_lexer": "ipython3",
   "version": "3.7.3"
  }
 },
 "nbformat": 4,
 "nbformat_minor": 2
}
